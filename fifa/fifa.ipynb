{
 "cells": [
  {
   "cell_type": "code",
   "execution_count": 11,
   "id": "fd2c66d7",
   "metadata": {},
   "outputs": [],
   "source": [
    "import numpy as np\n",
    "import pandas as pd\n",
    "import os\n",
    "import matplotlib.pyplot as plt\n",
    "import seaborn as sns\n",
    "import plotly.express as px\n",
    "from IPython.display import display,HTML\n",
    "\n",
    "pd.set_option('display.max_rows', None)\n",
    "pd.set_option('display.max_columns', 500)\n",
    "pd.set_option('display.width', None)"
   ]
  },
  {
   "cell_type": "code",
   "execution_count": 5,
   "id": "577b2a73",
   "metadata": {},
   "outputs": [
    {
     "data": {
      "text/html": [
       "<div>\n",
       "<style scoped>\n",
       "    .dataframe tbody tr th:only-of-type {\n",
       "        vertical-align: middle;\n",
       "    }\n",
       "\n",
       "    .dataframe tbody tr th {\n",
       "        vertical-align: top;\n",
       "    }\n",
       "\n",
       "    .dataframe thead th {\n",
       "        text-align: right;\n",
       "    }\n",
       "</style>\n",
       "<table border=\"1\" class=\"dataframe\">\n",
       "  <thead>\n",
       "    <tr style=\"text-align: right;\">\n",
       "      <th></th>\n",
       "      <th>sofifa_id</th>\n",
       "      <th>player_url</th>\n",
       "      <th>short_name</th>\n",
       "      <th>long_name</th>\n",
       "      <th>age</th>\n",
       "      <th>dob</th>\n",
       "      <th>height_cm</th>\n",
       "      <th>weight_kg</th>\n",
       "      <th>nationality</th>\n",
       "      <th>club_name</th>\n",
       "      <th>...</th>\n",
       "      <th>lwb</th>\n",
       "      <th>ldm</th>\n",
       "      <th>cdm</th>\n",
       "      <th>rdm</th>\n",
       "      <th>rwb</th>\n",
       "      <th>lb</th>\n",
       "      <th>lcb</th>\n",
       "      <th>cb</th>\n",
       "      <th>rcb</th>\n",
       "      <th>rb</th>\n",
       "    </tr>\n",
       "  </thead>\n",
       "  <tbody>\n",
       "    <tr>\n",
       "      <th>0</th>\n",
       "      <td>158023</td>\n",
       "      <td>https://sofifa.com/player/158023/lionel-messi/...</td>\n",
       "      <td>L. Messi</td>\n",
       "      <td>Lionel Andrés Messi Cuccittini</td>\n",
       "      <td>33</td>\n",
       "      <td>1987-06-24</td>\n",
       "      <td>170</td>\n",
       "      <td>72</td>\n",
       "      <td>Argentina</td>\n",
       "      <td>FC Barcelona</td>\n",
       "      <td>...</td>\n",
       "      <td>66+3</td>\n",
       "      <td>65+3</td>\n",
       "      <td>65+3</td>\n",
       "      <td>65+3</td>\n",
       "      <td>66+3</td>\n",
       "      <td>62+3</td>\n",
       "      <td>52+3</td>\n",
       "      <td>52+3</td>\n",
       "      <td>52+3</td>\n",
       "      <td>62+3</td>\n",
       "    </tr>\n",
       "    <tr>\n",
       "      <th>1</th>\n",
       "      <td>20801</td>\n",
       "      <td>https://sofifa.com/player/20801/c-ronaldo-dos-...</td>\n",
       "      <td>Cristiano Ronaldo</td>\n",
       "      <td>Cristiano Ronaldo dos Santos Aveiro</td>\n",
       "      <td>35</td>\n",
       "      <td>1985-02-05</td>\n",
       "      <td>187</td>\n",
       "      <td>83</td>\n",
       "      <td>Portugal</td>\n",
       "      <td>Juventus</td>\n",
       "      <td>...</td>\n",
       "      <td>65+3</td>\n",
       "      <td>61+3</td>\n",
       "      <td>61+3</td>\n",
       "      <td>61+3</td>\n",
       "      <td>65+3</td>\n",
       "      <td>61+3</td>\n",
       "      <td>54+3</td>\n",
       "      <td>54+3</td>\n",
       "      <td>54+3</td>\n",
       "      <td>61+3</td>\n",
       "    </tr>\n",
       "    <tr>\n",
       "      <th>2</th>\n",
       "      <td>200389</td>\n",
       "      <td>https://sofifa.com/player/200389/jan-oblak/210002</td>\n",
       "      <td>J. Oblak</td>\n",
       "      <td>Jan Oblak</td>\n",
       "      <td>27</td>\n",
       "      <td>1993-01-07</td>\n",
       "      <td>188</td>\n",
       "      <td>87</td>\n",
       "      <td>Slovenia</td>\n",
       "      <td>Atlético Madrid</td>\n",
       "      <td>...</td>\n",
       "      <td>32+3</td>\n",
       "      <td>36+3</td>\n",
       "      <td>36+3</td>\n",
       "      <td>36+3</td>\n",
       "      <td>32+3</td>\n",
       "      <td>32+3</td>\n",
       "      <td>33+3</td>\n",
       "      <td>33+3</td>\n",
       "      <td>33+3</td>\n",
       "      <td>32+3</td>\n",
       "    </tr>\n",
       "    <tr>\n",
       "      <th>3</th>\n",
       "      <td>188545</td>\n",
       "      <td>https://sofifa.com/player/188545/robert-lewand...</td>\n",
       "      <td>R. Lewandowski</td>\n",
       "      <td>Robert Lewandowski</td>\n",
       "      <td>31</td>\n",
       "      <td>1988-08-21</td>\n",
       "      <td>184</td>\n",
       "      <td>80</td>\n",
       "      <td>Poland</td>\n",
       "      <td>FC Bayern München</td>\n",
       "      <td>...</td>\n",
       "      <td>64+3</td>\n",
       "      <td>65+3</td>\n",
       "      <td>65+3</td>\n",
       "      <td>65+3</td>\n",
       "      <td>64+3</td>\n",
       "      <td>61+3</td>\n",
       "      <td>60+3</td>\n",
       "      <td>60+3</td>\n",
       "      <td>60+3</td>\n",
       "      <td>61+3</td>\n",
       "    </tr>\n",
       "    <tr>\n",
       "      <th>4</th>\n",
       "      <td>190871</td>\n",
       "      <td>https://sofifa.com/player/190871/neymar-da-sil...</td>\n",
       "      <td>Neymar Jr</td>\n",
       "      <td>Neymar da Silva Santos Júnior</td>\n",
       "      <td>28</td>\n",
       "      <td>1992-02-05</td>\n",
       "      <td>175</td>\n",
       "      <td>68</td>\n",
       "      <td>Brazil</td>\n",
       "      <td>Paris Saint-Germain</td>\n",
       "      <td>...</td>\n",
       "      <td>67+3</td>\n",
       "      <td>62+3</td>\n",
       "      <td>62+3</td>\n",
       "      <td>62+3</td>\n",
       "      <td>67+3</td>\n",
       "      <td>62+3</td>\n",
       "      <td>49+3</td>\n",
       "      <td>49+3</td>\n",
       "      <td>49+3</td>\n",
       "      <td>62+3</td>\n",
       "    </tr>\n",
       "    <tr>\n",
       "      <th>...</th>\n",
       "      <td>...</td>\n",
       "      <td>...</td>\n",
       "      <td>...</td>\n",
       "      <td>...</td>\n",
       "      <td>...</td>\n",
       "      <td>...</td>\n",
       "      <td>...</td>\n",
       "      <td>...</td>\n",
       "      <td>...</td>\n",
       "      <td>...</td>\n",
       "      <td>...</td>\n",
       "      <td>...</td>\n",
       "      <td>...</td>\n",
       "      <td>...</td>\n",
       "      <td>...</td>\n",
       "      <td>...</td>\n",
       "      <td>...</td>\n",
       "      <td>...</td>\n",
       "      <td>...</td>\n",
       "      <td>...</td>\n",
       "      <td>...</td>\n",
       "    </tr>\n",
       "    <tr>\n",
       "      <th>18939</th>\n",
       "      <td>256679</td>\n",
       "      <td>https://sofifa.com/player/256679/kevin-angulo/...</td>\n",
       "      <td>K. Angulo</td>\n",
       "      <td>Kevin Angulo</td>\n",
       "      <td>24</td>\n",
       "      <td>1996-04-13</td>\n",
       "      <td>176</td>\n",
       "      <td>73</td>\n",
       "      <td>Colombia</td>\n",
       "      <td>América de Cali</td>\n",
       "      <td>...</td>\n",
       "      <td>47+2</td>\n",
       "      <td>47+2</td>\n",
       "      <td>47+2</td>\n",
       "      <td>47+2</td>\n",
       "      <td>47+2</td>\n",
       "      <td>47+2</td>\n",
       "      <td>46+2</td>\n",
       "      <td>46+2</td>\n",
       "      <td>46+2</td>\n",
       "      <td>47+2</td>\n",
       "    </tr>\n",
       "    <tr>\n",
       "      <th>18940</th>\n",
       "      <td>257710</td>\n",
       "      <td>https://sofifa.com/player/257710/mengxuan-zhan...</td>\n",
       "      <td>Zhang Mengxuan</td>\n",
       "      <td>Mengxuan Zhang</td>\n",
       "      <td>21</td>\n",
       "      <td>1999-04-26</td>\n",
       "      <td>177</td>\n",
       "      <td>70</td>\n",
       "      <td>China PR</td>\n",
       "      <td>Chongqing Dangdai Lifan FC SWM Team</td>\n",
       "      <td>...</td>\n",
       "      <td>42+2</td>\n",
       "      <td>41+2</td>\n",
       "      <td>41+2</td>\n",
       "      <td>41+2</td>\n",
       "      <td>42+2</td>\n",
       "      <td>45+2</td>\n",
       "      <td>47+2</td>\n",
       "      <td>47+2</td>\n",
       "      <td>47+2</td>\n",
       "      <td>45+2</td>\n",
       "    </tr>\n",
       "    <tr>\n",
       "      <th>18941</th>\n",
       "      <td>250989</td>\n",
       "      <td>https://sofifa.com/player/250989/zhenghao-wang...</td>\n",
       "      <td>Wang Zhenghao</td>\n",
       "      <td>王政豪</td>\n",
       "      <td>20</td>\n",
       "      <td>2000-06-28</td>\n",
       "      <td>185</td>\n",
       "      <td>74</td>\n",
       "      <td>China PR</td>\n",
       "      <td>Tianjin TEDA FC</td>\n",
       "      <td>...</td>\n",
       "      <td>42+2</td>\n",
       "      <td>42+2</td>\n",
       "      <td>42+2</td>\n",
       "      <td>42+2</td>\n",
       "      <td>42+2</td>\n",
       "      <td>44+2</td>\n",
       "      <td>47+2</td>\n",
       "      <td>47+2</td>\n",
       "      <td>47+2</td>\n",
       "      <td>44+2</td>\n",
       "    </tr>\n",
       "    <tr>\n",
       "      <th>18942</th>\n",
       "      <td>257697</td>\n",
       "      <td>https://sofifa.com/player/257697/zitong-chen/2...</td>\n",
       "      <td>Chen Zitong</td>\n",
       "      <td>Zitong Chen</td>\n",
       "      <td>23</td>\n",
       "      <td>1997-02-20</td>\n",
       "      <td>186</td>\n",
       "      <td>80</td>\n",
       "      <td>China PR</td>\n",
       "      <td>Shijiazhuang Ever Bright F.C.</td>\n",
       "      <td>...</td>\n",
       "      <td>47+2</td>\n",
       "      <td>49+2</td>\n",
       "      <td>49+2</td>\n",
       "      <td>49+2</td>\n",
       "      <td>47+2</td>\n",
       "      <td>47+2</td>\n",
       "      <td>49+2</td>\n",
       "      <td>49+2</td>\n",
       "      <td>49+2</td>\n",
       "      <td>47+2</td>\n",
       "    </tr>\n",
       "    <tr>\n",
       "      <th>18943</th>\n",
       "      <td>257936</td>\n",
       "      <td>https://sofifa.com/player/257936/yue-song/210002</td>\n",
       "      <td>Song Yue</td>\n",
       "      <td>Yue Song</td>\n",
       "      <td>28</td>\n",
       "      <td>1991-11-20</td>\n",
       "      <td>185</td>\n",
       "      <td>79</td>\n",
       "      <td>China PR</td>\n",
       "      <td>Tianjin TEDA FC</td>\n",
       "      <td>...</td>\n",
       "      <td>47+0</td>\n",
       "      <td>47+0</td>\n",
       "      <td>47+0</td>\n",
       "      <td>47+0</td>\n",
       "      <td>47+0</td>\n",
       "      <td>47+0</td>\n",
       "      <td>46+1</td>\n",
       "      <td>46+1</td>\n",
       "      <td>46+1</td>\n",
       "      <td>47+0</td>\n",
       "    </tr>\n",
       "  </tbody>\n",
       "</table>\n",
       "<p>18944 rows × 106 columns</p>\n",
       "</div>"
      ],
      "text/plain": [
       "       sofifa_id                                         player_url  \\\n",
       "0         158023  https://sofifa.com/player/158023/lionel-messi/...   \n",
       "1          20801  https://sofifa.com/player/20801/c-ronaldo-dos-...   \n",
       "2         200389  https://sofifa.com/player/200389/jan-oblak/210002   \n",
       "3         188545  https://sofifa.com/player/188545/robert-lewand...   \n",
       "4         190871  https://sofifa.com/player/190871/neymar-da-sil...   \n",
       "...          ...                                                ...   \n",
       "18939     256679  https://sofifa.com/player/256679/kevin-angulo/...   \n",
       "18940     257710  https://sofifa.com/player/257710/mengxuan-zhan...   \n",
       "18941     250989  https://sofifa.com/player/250989/zhenghao-wang...   \n",
       "18942     257697  https://sofifa.com/player/257697/zitong-chen/2...   \n",
       "18943     257936   https://sofifa.com/player/257936/yue-song/210002   \n",
       "\n",
       "              short_name                            long_name  age  \\\n",
       "0               L. Messi       Lionel Andrés Messi Cuccittini   33   \n",
       "1      Cristiano Ronaldo  Cristiano Ronaldo dos Santos Aveiro   35   \n",
       "2               J. Oblak                            Jan Oblak   27   \n",
       "3         R. Lewandowski                   Robert Lewandowski   31   \n",
       "4              Neymar Jr        Neymar da Silva Santos Júnior   28   \n",
       "...                  ...                                  ...  ...   \n",
       "18939          K. Angulo                         Kevin Angulo   24   \n",
       "18940     Zhang Mengxuan                       Mengxuan Zhang   21   \n",
       "18941      Wang Zhenghao                                  王政豪   20   \n",
       "18942        Chen Zitong                          Zitong Chen   23   \n",
       "18943           Song Yue                             Yue Song   28   \n",
       "\n",
       "              dob  height_cm  weight_kg nationality  \\\n",
       "0      1987-06-24        170         72   Argentina   \n",
       "1      1985-02-05        187         83    Portugal   \n",
       "2      1993-01-07        188         87    Slovenia   \n",
       "3      1988-08-21        184         80      Poland   \n",
       "4      1992-02-05        175         68      Brazil   \n",
       "...           ...        ...        ...         ...   \n",
       "18939  1996-04-13        176         73    Colombia   \n",
       "18940  1999-04-26        177         70    China PR   \n",
       "18941  2000-06-28        185         74    China PR   \n",
       "18942  1997-02-20        186         80    China PR   \n",
       "18943  1991-11-20        185         79    China PR   \n",
       "\n",
       "                                 club_name  ...   lwb   ldm   cdm   rdm   rwb  \\\n",
       "0                             FC Barcelona  ...  66+3  65+3  65+3  65+3  66+3   \n",
       "1                                 Juventus  ...  65+3  61+3  61+3  61+3  65+3   \n",
       "2                          Atlético Madrid  ...  32+3  36+3  36+3  36+3  32+3   \n",
       "3                        FC Bayern München  ...  64+3  65+3  65+3  65+3  64+3   \n",
       "4                      Paris Saint-Germain  ...  67+3  62+3  62+3  62+3  67+3   \n",
       "...                                    ...  ...   ...   ...   ...   ...   ...   \n",
       "18939                      América de Cali  ...  47+2  47+2  47+2  47+2  47+2   \n",
       "18940  Chongqing Dangdai Lifan FC SWM Team  ...  42+2  41+2  41+2  41+2  42+2   \n",
       "18941                      Tianjin TEDA FC  ...  42+2  42+2  42+2  42+2  42+2   \n",
       "18942        Shijiazhuang Ever Bright F.C.  ...  47+2  49+2  49+2  49+2  47+2   \n",
       "18943                      Tianjin TEDA FC  ...  47+0  47+0  47+0  47+0  47+0   \n",
       "\n",
       "         lb   lcb    cb   rcb    rb  \n",
       "0      62+3  52+3  52+3  52+3  62+3  \n",
       "1      61+3  54+3  54+3  54+3  61+3  \n",
       "2      32+3  33+3  33+3  33+3  32+3  \n",
       "3      61+3  60+3  60+3  60+3  61+3  \n",
       "4      62+3  49+3  49+3  49+3  62+3  \n",
       "...     ...   ...   ...   ...   ...  \n",
       "18939  47+2  46+2  46+2  46+2  47+2  \n",
       "18940  45+2  47+2  47+2  47+2  45+2  \n",
       "18941  44+2  47+2  47+2  47+2  44+2  \n",
       "18942  47+2  49+2  49+2  49+2  47+2  \n",
       "18943  47+0  46+1  46+1  46+1  47+0  \n",
       "\n",
       "[18944 rows x 106 columns]"
      ]
     },
     "execution_count": 5,
     "metadata": {},
     "output_type": "execute_result"
    }
   ],
   "source": [
    "data = pd.read_csv('players_21.csv')\n",
    "data"
   ]
  },
  {
   "cell_type": "code",
   "execution_count": 6,
   "id": "2daea6d9",
   "metadata": {},
   "outputs": [
    {
     "data": {
      "text/plain": [
       "(18944, 106)"
      ]
     },
     "execution_count": 6,
     "metadata": {},
     "output_type": "execute_result"
    }
   ],
   "source": [
    "data.shape"
   ]
  },
  {
   "cell_type": "code",
   "execution_count": 14,
   "id": "c545c887",
   "metadata": {},
   "outputs": [
    {
     "data": {
      "text/plain": [
       "Index(['sofifa_id', 'player_url', 'short_name', 'long_name', 'age', 'dob',\n",
       "       'height_cm', 'weight_kg', 'nationality', 'club_name',\n",
       "       ...\n",
       "       'lwb', 'ldm', 'cdm', 'rdm', 'rwb', 'lb', 'lcb', 'cb', 'rcb', 'rb'],\n",
       "      dtype='object', length=106)"
      ]
     },
     "execution_count": 14,
     "metadata": {},
     "output_type": "execute_result"
    }
   ],
   "source": [
    "data.columns"
   ]
  },
  {
   "cell_type": "code",
   "execution_count": 13,
   "id": "8c18e83a",
   "metadata": {},
   "outputs": [],
   "source": [
    "skills = []\n",
    "for i in data.columns:\n",
    "    skills.append(i)"
   ]
  },
  {
   "cell_type": "code",
   "execution_count": 9,
   "id": "98aeb31d",
   "metadata": {},
   "outputs": [
    {
     "data": {
      "text/plain": [
       "['sofifa_id',\n",
       " 'player_url',\n",
       " 'short_name',\n",
       " 'long_name',\n",
       " 'age',\n",
       " 'dob',\n",
       " 'height_cm',\n",
       " 'weight_kg',\n",
       " 'nationality',\n",
       " 'club_name',\n",
       " 'league_name',\n",
       " 'league_rank',\n",
       " 'overall',\n",
       " 'potential',\n",
       " 'value_eur',\n",
       " 'wage_eur',\n",
       " 'player_positions',\n",
       " 'preferred_foot',\n",
       " 'international_reputation',\n",
       " 'weak_foot',\n",
       " 'skill_moves',\n",
       " 'work_rate',\n",
       " 'body_type',\n",
       " 'real_face',\n",
       " 'release_clause_eur',\n",
       " 'player_tags',\n",
       " 'team_position',\n",
       " 'team_jersey_number',\n",
       " 'loaned_from',\n",
       " 'joined',\n",
       " 'contract_valid_until',\n",
       " 'nation_position',\n",
       " 'nation_jersey_number',\n",
       " 'pace',\n",
       " 'shooting',\n",
       " 'passing',\n",
       " 'dribbling',\n",
       " 'defending',\n",
       " 'physic',\n",
       " 'gk_diving',\n",
       " 'gk_handling',\n",
       " 'gk_kicking',\n",
       " 'gk_reflexes',\n",
       " 'gk_speed',\n",
       " 'gk_positioning',\n",
       " 'player_traits',\n",
       " 'attacking_crossing',\n",
       " 'attacking_finishing',\n",
       " 'attacking_heading_accuracy',\n",
       " 'attacking_short_passing',\n",
       " 'attacking_volleys',\n",
       " 'skill_dribbling',\n",
       " 'skill_curve',\n",
       " 'skill_fk_accuracy',\n",
       " 'skill_long_passing',\n",
       " 'skill_ball_control',\n",
       " 'movement_acceleration',\n",
       " 'movement_sprint_speed',\n",
       " 'movement_agility',\n",
       " 'movement_reactions',\n",
       " 'movement_balance',\n",
       " 'power_shot_power',\n",
       " 'power_jumping',\n",
       " 'power_stamina',\n",
       " 'power_strength',\n",
       " 'power_long_shots',\n",
       " 'mentality_aggression',\n",
       " 'mentality_interceptions',\n",
       " 'mentality_positioning',\n",
       " 'mentality_vision',\n",
       " 'mentality_penalties',\n",
       " 'mentality_composure',\n",
       " 'defending_marking',\n",
       " 'defending_standing_tackle',\n",
       " 'defending_sliding_tackle',\n",
       " 'goalkeeping_diving',\n",
       " 'goalkeeping_handling',\n",
       " 'goalkeeping_kicking',\n",
       " 'goalkeeping_positioning',\n",
       " 'goalkeeping_reflexes',\n",
       " 'ls',\n",
       " 'st',\n",
       " 'rs',\n",
       " 'lw',\n",
       " 'lf',\n",
       " 'cf',\n",
       " 'rf',\n",
       " 'rw',\n",
       " 'lam',\n",
       " 'cam',\n",
       " 'ram',\n",
       " 'lm',\n",
       " 'lcm',\n",
       " 'cm',\n",
       " 'rcm',\n",
       " 'rm',\n",
       " 'lwb',\n",
       " 'ldm',\n",
       " 'cdm',\n",
       " 'rdm',\n",
       " 'rwb',\n",
       " 'lb',\n",
       " 'lcb',\n",
       " 'cb',\n",
       " 'rcb',\n",
       " 'rb']"
      ]
     },
     "execution_count": 9,
     "metadata": {},
     "output_type": "execute_result"
    }
   ],
   "source": [
    "skills"
   ]
  },
  {
   "cell_type": "code",
   "execution_count": 15,
   "id": "626c008d",
   "metadata": {},
   "outputs": [
    {
     "data": {
      "text/plain": [
       "sofifa_id                         0\n",
       "player_url                        0\n",
       "short_name                        0\n",
       "long_name                         0\n",
       "age                               0\n",
       "dob                               0\n",
       "height_cm                         0\n",
       "weight_kg                         0\n",
       "nationality                       0\n",
       "club_name                       225\n",
       "league_name                     225\n",
       "league_rank                     225\n",
       "overall                           0\n",
       "potential                         0\n",
       "value_eur                         0\n",
       "wage_eur                          0\n",
       "player_positions                  0\n",
       "preferred_foot                    0\n",
       "international_reputation          0\n",
       "weak_foot                         0\n",
       "skill_moves                       0\n",
       "work_rate                         0\n",
       "body_type                         0\n",
       "real_face                         0\n",
       "release_clause_eur              995\n",
       "player_tags                   17536\n",
       "team_position                   225\n",
       "team_jersey_number              225\n",
       "loaned_from                   18186\n",
       "joined                          983\n",
       "contract_valid_until            225\n",
       "nation_position               17817\n",
       "nation_jersey_number          17817\n",
       "pace                           2083\n",
       "shooting                       2083\n",
       "passing                        2083\n",
       "dribbling                      2083\n",
       "defending                      2083\n",
       "physic                         2083\n",
       "gk_diving                     16861\n",
       "gk_handling                   16861\n",
       "gk_kicking                    16861\n",
       "gk_reflexes                   16861\n",
       "gk_speed                      16861\n",
       "gk_positioning                16861\n",
       "player_traits                 10629\n",
       "attacking_crossing                0\n",
       "attacking_finishing               0\n",
       "attacking_heading_accuracy        0\n",
       "attacking_short_passing           0\n",
       "attacking_volleys                 0\n",
       "skill_dribbling                   0\n",
       "skill_curve                       0\n",
       "skill_fk_accuracy                 0\n",
       "skill_long_passing                0\n",
       "skill_ball_control                0\n",
       "movement_acceleration             0\n",
       "movement_sprint_speed             0\n",
       "movement_agility                  0\n",
       "movement_reactions                0\n",
       "movement_balance                  0\n",
       "power_shot_power                  0\n",
       "power_jumping                     0\n",
       "power_stamina                     0\n",
       "power_strength                    0\n",
       "power_long_shots                  0\n",
       "mentality_aggression              0\n",
       "mentality_interceptions           0\n",
       "mentality_positioning             0\n",
       "mentality_vision                  0\n",
       "mentality_penalties               0\n",
       "mentality_composure               0\n",
       "defending_marking             18944\n",
       "defending_standing_tackle         0\n",
       "defending_sliding_tackle          0\n",
       "goalkeeping_diving                0\n",
       "goalkeeping_handling              0\n",
       "goalkeeping_kicking               0\n",
       "goalkeeping_positioning           0\n",
       "goalkeeping_reflexes              0\n",
       "ls                                0\n",
       "st                                0\n",
       "rs                                0\n",
       "lw                                0\n",
       "lf                                0\n",
       "cf                                0\n",
       "rf                                0\n",
       "rw                                0\n",
       "lam                               0\n",
       "cam                               0\n",
       "ram                               0\n",
       "lm                                0\n",
       "lcm                               0\n",
       "cm                                0\n",
       "rcm                               0\n",
       "rm                                0\n",
       "lwb                               0\n",
       "ldm                               0\n",
       "cdm                               0\n",
       "rdm                               0\n",
       "rwb                               0\n",
       "lb                                0\n",
       "lcb                               0\n",
       "cb                                0\n",
       "rcb                               0\n",
       "rb                                0\n",
       "dtype: int64"
      ]
     },
     "execution_count": 15,
     "metadata": {},
     "output_type": "execute_result"
    }
   ],
   "source": [
    "data.isnull().sum()"
   ]
  },
  {
   "cell_type": "code",
   "execution_count": null,
   "id": "1302871f",
   "metadata": {},
   "outputs": [],
   "source": []
  },
  {
   "cell_type": "code",
   "execution_count": 17,
   "id": "19d7ae05",
   "metadata": {},
   "outputs": [],
   "source": [
    "fill_values = data.loc[:,['pace',\n",
    " 'shooting',\n",
    " 'passing',\n",
    " 'dribbling',\n",
    " 'defending',\n",
    " 'physic']]"
   ]
  },
  {
   "cell_type": "code",
   "execution_count": 19,
   "id": "1e6626ec",
   "metadata": {},
   "outputs": [
    {
     "data": {
      "text/plain": [
       "Index(['pace', 'shooting', 'passing', 'dribbling', 'defending', 'physic'], dtype='object')"
      ]
     },
     "execution_count": 19,
     "metadata": {},
     "output_type": "execute_result"
    }
   ],
   "source": [
    "fill_values.columns"
   ]
  },
  {
   "cell_type": "code",
   "execution_count": 20,
   "id": "7c31275e",
   "metadata": {},
   "outputs": [],
   "source": [
    "for i in fill_values.columns:\n",
    "    data[i].fillna(data[i].mean(),inplace=True)"
   ]
  },
  {
   "cell_type": "code",
   "execution_count": null,
   "id": "303e0f71",
   "metadata": {},
   "outputs": [],
   "source": []
  },
  {
   "cell_type": "code",
   "execution_count": 41,
   "id": "673d47ec",
   "metadata": {},
   "outputs": [
    {
     "data": {
      "image/png": "[encoded data removed]",
      "text/plain": [
       "<Figure size 1728x576 with 1 Axes>"
      ]
     },
     "metadata": {
      "needs_background": "light"
     },
     "output_type": "display_data"
    }
   ],
   "source": [
    "### plotting count of players based on their height.\n",
    "\n",
    "plt.figure(figsize=(24,8))\n",
    "plt.title('count of players based on their height',fontsize=20)\n",
    "sns.countplot(x='height_cm',data=data);"
   ]
  },
  {
   "cell_type": "code",
   "execution_count": null,
   "id": "96d120fc",
   "metadata": {},
   "outputs": [],
   "source": []
  },
  {
   "cell_type": "code",
   "execution_count": 37,
   "id": "54ee4663",
   "metadata": {},
   "outputs": [
    {
     "data": {
      "image/png": "[encoded data removed]",
      "text/plain": [
       "<Figure size 1728x576 with 1 Axes>"
      ]
     },
     "metadata": {
      "needs_background": "light"
     },
     "output_type": "display_data"
    }
   ],
   "source": [
    "### plotting count of players based on their weight.\n",
    "\n",
    "plt.figure(figsize=(24,8))\n",
    "plt.title('count of players based on their weight',fontsize=20)\n",
    "sns.countplot(x=\"weight_kg\", data=data, palette=\"Set3\");"
   ]
  },
  {
   "cell_type": "code",
   "execution_count": null,
   "id": "b56a6dba",
   "metadata": {},
   "outputs": [],
   "source": []
  },
  {
   "cell_type": "code",
   "execution_count": 50,
   "id": "44407b21",
   "metadata": {},
   "outputs": [
    {
     "data": {
      "image/png": "[encoded data removed]",
      "text/plain": [
       "<Figure size 2160x720 with 1 Axes>"
      ]
     },
     "metadata": {
      "needs_background": "light"
     },
     "output_type": "display_data"
    }
   ],
   "source": [
    "### height vs dribbling\n",
    "plt.figure(figsize=(30,10))\n",
    "plt.title('Height vs Dribbling',fontsize=20)\n",
    "sns.barplot(data=data, x=\"height_cm\", y=\"dribbling\");"
   ]
  },
  {
   "cell_type": "code",
   "execution_count": null,
   "id": "36ece8b1",
   "metadata": {},
   "outputs": [],
   "source": []
  },
  {
   "cell_type": "code",
   "execution_count": 59,
   "id": "35ecb361",
   "metadata": {},
   "outputs": [
    {
     "data": {
      "image/png": "[encoded data removed]",
      "text/plain": [
       "<Figure size 2160x720 with 1 Axes>"
      ]
     },
     "metadata": {
      "needs_background": "light"
     },
     "output_type": "display_data"
    }
   ],
   "source": [
    "### weight vs Dribbling\n",
    "\n",
    "plt.figure(figsize=(30,10))\n",
    "plt.title('weight vs Dribbling',fontsize=20)\n",
    "sns.barplot(data=data, x=\"weight_kg\", y=\"dribbling\");"
   ]
  },
  {
   "cell_type": "code",
   "execution_count": null,
   "id": "0aabcc10",
   "metadata": {},
   "outputs": [],
   "source": []
  },
  {
   "cell_type": "code",
   "execution_count": 70,
   "id": "71dc9657",
   "metadata": {},
   "outputs": [],
   "source": [
    "### Messi vs CR7 vs Neymar Jr\n",
    "\n",
    "skills = [\n",
    "'pace',\n",
    "'shooting',\n",
    "'passing',\n",
    "'dribbling',\n",
    "'defending',\n",
    "'physic',\n",
    "'attacking_crossing',\n",
    "'attacking_finishing',\n",
    "'attacking_heading_accuracy',\n",
    "'attacking_short_passing',\n",
    "'attacking_volleys',\n",
    "'movement_acceleration',\n",
    "'movement_sprint_speed',\n",
    "'movement_agility',\n",
    "'movement_reactions',\n",
    "'movement_balance',\n",
    "'power_shot_power',\n",
    "'power_jumping',\n",
    "'power_stamina',\n",
    "'power_strength',\n",
    "'power_long_shots',\n",
    "]\n",
    " "
   ]
  },
  {
   "cell_type": "code",
   "execution_count": 77,
   "id": "f265535b",
   "metadata": {},
   "outputs": [],
   "source": [
    "messi = data.loc[data['short_name'] == 'L. Messi']\n",
    "messi = pd.DataFrame(messi,columns=skills)\n",
    "\n",
    "ronaldo = data.loc[data['short_name'] == 'Cristiano Ronaldo']\n",
    "ronaldo = pd.DataFrame(ronaldo,columns=skills)\n",
    "\n",
    "neymar = data.loc[data['short_name'] == 'Neymar Jr']\n",
    "neymar = pd.DataFrame(neymar,columns=skills)\n",
    "\n"
   ]
  },
  {
   "cell_type": "code",
   "execution_count": 78,
   "id": "a1760790",
   "metadata": {},
   "outputs": [
    {
     "data": {
      "text/html": [
       "<div>\n",
       "<style scoped>\n",
       "    .dataframe tbody tr th:only-of-type {\n",
       "        vertical-align: middle;\n",
       "    }\n",
       "\n",
       "    .dataframe tbody tr th {\n",
       "        vertical-align: top;\n",
       "    }\n",
       "\n",
       "    .dataframe thead th {\n",
       "        text-align: right;\n",
       "    }\n",
       "</style>\n",
       "<table border=\"1\" class=\"dataframe\">\n",
       "  <thead>\n",
       "    <tr style=\"text-align: right;\">\n",
       "      <th></th>\n",
       "      <th>pace</th>\n",
       "      <th>shooting</th>\n",
       "      <th>passing</th>\n",
       "      <th>dribbling</th>\n",
       "      <th>defending</th>\n",
       "      <th>physic</th>\n",
       "      <th>attacking_crossing</th>\n",
       "      <th>attacking_finishing</th>\n",
       "      <th>attacking_heading_accuracy</th>\n",
       "      <th>attacking_short_passing</th>\n",
       "      <th>attacking_volleys</th>\n",
       "      <th>movement_acceleration</th>\n",
       "      <th>movement_sprint_speed</th>\n",
       "      <th>movement_agility</th>\n",
       "      <th>movement_reactions</th>\n",
       "      <th>movement_balance</th>\n",
       "      <th>power_shot_power</th>\n",
       "      <th>power_jumping</th>\n",
       "      <th>power_stamina</th>\n",
       "      <th>power_strength</th>\n",
       "      <th>power_long_shots</th>\n",
       "    </tr>\n",
       "  </thead>\n",
       "  <tbody>\n",
       "    <tr>\n",
       "      <th>0</th>\n",
       "      <td>85.0</td>\n",
       "      <td>92.0</td>\n",
       "      <td>91.0</td>\n",
       "      <td>95.0</td>\n",
       "      <td>38.0</td>\n",
       "      <td>65.0</td>\n",
       "      <td>85</td>\n",
       "      <td>95</td>\n",
       "      <td>70</td>\n",
       "      <td>91</td>\n",
       "      <td>88</td>\n",
       "      <td>91</td>\n",
       "      <td>80</td>\n",
       "      <td>91</td>\n",
       "      <td>94</td>\n",
       "      <td>95</td>\n",
       "      <td>86</td>\n",
       "      <td>68</td>\n",
       "      <td>72</td>\n",
       "      <td>69</td>\n",
       "      <td>94</td>\n",
       "    </tr>\n",
       "  </tbody>\n",
       "</table>\n",
       "</div>"
      ],
      "text/plain": [
       "   pace  shooting  passing  dribbling  defending  physic  attacking_crossing  \\\n",
       "0  85.0      92.0     91.0       95.0       38.0    65.0                  85   \n",
       "\n",
       "   attacking_finishing  attacking_heading_accuracy  attacking_short_passing  \\\n",
       "0                   95                          70                       91   \n",
       "\n",
       "   attacking_volleys  movement_acceleration  movement_sprint_speed  \\\n",
       "0                 88                     91                     80   \n",
       "\n",
       "   movement_agility  movement_reactions  movement_balance  power_shot_power  \\\n",
       "0                91                  94                95                86   \n",
       "\n",
       "   power_jumping  power_stamina  power_strength  power_long_shots  \n",
       "0             68             72              69                94  "
      ]
     },
     "execution_count": 78,
     "metadata": {},
     "output_type": "execute_result"
    }
   ],
   "source": [
    "messi"
   ]
  },
  {
   "cell_type": "code",
   "execution_count": 79,
   "id": "3c3065d2",
   "metadata": {},
   "outputs": [
    {
     "data": {
      "text/html": [
       "<div>\n",
       "<style scoped>\n",
       "    .dataframe tbody tr th:only-of-type {\n",
       "        vertical-align: middle;\n",
       "    }\n",
       "\n",
       "    .dataframe tbody tr th {\n",
       "        vertical-align: top;\n",
       "    }\n",
       "\n",
       "    .dataframe thead th {\n",
       "        text-align: right;\n",
       "    }\n",
       "</style>\n",
       "<table border=\"1\" class=\"dataframe\">\n",
       "  <thead>\n",
       "    <tr style=\"text-align: right;\">\n",
       "      <th></th>\n",
       "      <th>pace</th>\n",
       "      <th>shooting</th>\n",
       "      <th>passing</th>\n",
       "      <th>dribbling</th>\n",
       "      <th>defending</th>\n",
       "      <th>physic</th>\n",
       "      <th>attacking_crossing</th>\n",
       "      <th>attacking_finishing</th>\n",
       "      <th>attacking_heading_accuracy</th>\n",
       "      <th>attacking_short_passing</th>\n",
       "      <th>attacking_volleys</th>\n",
       "      <th>movement_acceleration</th>\n",
       "      <th>movement_sprint_speed</th>\n",
       "      <th>movement_agility</th>\n",
       "      <th>movement_reactions</th>\n",
       "      <th>movement_balance</th>\n",
       "      <th>power_shot_power</th>\n",
       "      <th>power_jumping</th>\n",
       "      <th>power_stamina</th>\n",
       "      <th>power_strength</th>\n",
       "      <th>power_long_shots</th>\n",
       "    </tr>\n",
       "  </thead>\n",
       "  <tbody>\n",
       "    <tr>\n",
       "      <th>1</th>\n",
       "      <td>89.0</td>\n",
       "      <td>93.0</td>\n",
       "      <td>81.0</td>\n",
       "      <td>89.0</td>\n",
       "      <td>35.0</td>\n",
       "      <td>77.0</td>\n",
       "      <td>84</td>\n",
       "      <td>95</td>\n",
       "      <td>90</td>\n",
       "      <td>82</td>\n",
       "      <td>86</td>\n",
       "      <td>87</td>\n",
       "      <td>91</td>\n",
       "      <td>87</td>\n",
       "      <td>95</td>\n",
       "      <td>71</td>\n",
       "      <td>94</td>\n",
       "      <td>95</td>\n",
       "      <td>84</td>\n",
       "      <td>78</td>\n",
       "      <td>93</td>\n",
       "    </tr>\n",
       "  </tbody>\n",
       "</table>\n",
       "</div>"
      ],
      "text/plain": [
       "   pace  shooting  passing  dribbling  defending  physic  attacking_crossing  \\\n",
       "1  89.0      93.0     81.0       89.0       35.0    77.0                  84   \n",
       "\n",
       "   attacking_finishing  attacking_heading_accuracy  attacking_short_passing  \\\n",
       "1                   95                          90                       82   \n",
       "\n",
       "   attacking_volleys  movement_acceleration  movement_sprint_speed  \\\n",
       "1                 86                     87                     91   \n",
       "\n",
       "   movement_agility  movement_reactions  movement_balance  power_shot_power  \\\n",
       "1                87                  95                71                94   \n",
       "\n",
       "   power_jumping  power_stamina  power_strength  power_long_shots  \n",
       "1             95             84              78                93  "
      ]
     },
     "execution_count": 79,
     "metadata": {},
     "output_type": "execute_result"
    }
   ],
   "source": [
    "ronaldo"
   ]
  },
  {
   "cell_type": "code",
   "execution_count": 80,
   "id": "028ae540",
   "metadata": {},
   "outputs": [
    {
     "data": {
      "text/html": [
       "<div>\n",
       "<style scoped>\n",
       "    .dataframe tbody tr th:only-of-type {\n",
       "        vertical-align: middle;\n",
       "    }\n",
       "\n",
       "    .dataframe tbody tr th {\n",
       "        vertical-align: top;\n",
       "    }\n",
       "\n",
       "    .dataframe thead th {\n",
       "        text-align: right;\n",
       "    }\n",
       "</style>\n",
       "<table border=\"1\" class=\"dataframe\">\n",
       "  <thead>\n",
       "    <tr style=\"text-align: right;\">\n",
       "      <th></th>\n",
       "      <th>pace</th>\n",
       "      <th>shooting</th>\n",
       "      <th>passing</th>\n",
       "      <th>dribbling</th>\n",
       "      <th>defending</th>\n",
       "      <th>physic</th>\n",
       "      <th>attacking_crossing</th>\n",
       "      <th>attacking_finishing</th>\n",
       "      <th>attacking_heading_accuracy</th>\n",
       "      <th>attacking_short_passing</th>\n",
       "      <th>attacking_volleys</th>\n",
       "      <th>movement_acceleration</th>\n",
       "      <th>movement_sprint_speed</th>\n",
       "      <th>movement_agility</th>\n",
       "      <th>movement_reactions</th>\n",
       "      <th>movement_balance</th>\n",
       "      <th>power_shot_power</th>\n",
       "      <th>power_jumping</th>\n",
       "      <th>power_stamina</th>\n",
       "      <th>power_strength</th>\n",
       "      <th>power_long_shots</th>\n",
       "    </tr>\n",
       "  </thead>\n",
       "  <tbody>\n",
       "    <tr>\n",
       "      <th>4</th>\n",
       "      <td>91.0</td>\n",
       "      <td>85.0</td>\n",
       "      <td>86.0</td>\n",
       "      <td>94.0</td>\n",
       "      <td>36.0</td>\n",
       "      <td>59.0</td>\n",
       "      <td>85</td>\n",
       "      <td>87</td>\n",
       "      <td>62</td>\n",
       "      <td>87</td>\n",
       "      <td>87</td>\n",
       "      <td>94</td>\n",
       "      <td>89</td>\n",
       "      <td>96</td>\n",
       "      <td>91</td>\n",
       "      <td>83</td>\n",
       "      <td>80</td>\n",
       "      <td>62</td>\n",
       "      <td>81</td>\n",
       "      <td>50</td>\n",
       "      <td>84</td>\n",
       "    </tr>\n",
       "  </tbody>\n",
       "</table>\n",
       "</div>"
      ],
      "text/plain": [
       "   pace  shooting  passing  dribbling  defending  physic  attacking_crossing  \\\n",
       "4  91.0      85.0     86.0       94.0       36.0    59.0                  85   \n",
       "\n",
       "   attacking_finishing  attacking_heading_accuracy  attacking_short_passing  \\\n",
       "4                   87                          62                       87   \n",
       "\n",
       "   attacking_volleys  movement_acceleration  movement_sprint_speed  \\\n",
       "4                 87                     94                     89   \n",
       "\n",
       "   movement_agility  movement_reactions  movement_balance  power_shot_power  \\\n",
       "4                96                  91                83                80   \n",
       "\n",
       "   power_jumping  power_stamina  power_strength  power_long_shots  \n",
       "4             62             81              50                84  "
      ]
     },
     "execution_count": 80,
     "metadata": {},
     "output_type": "execute_result"
    }
   ],
   "source": [
    "neymar"
   ]
  },
  {
   "cell_type": "code",
   "execution_count": 82,
   "id": "2e313be0",
   "metadata": {},
   "outputs": [
    {
     "data": {
      "image/png": "[encoded data removed]",
      "text/plain": [
       "<Figure size 3600x1080 with 1 Axes>"
      ]
     },
     "metadata": {
      "needs_background": "light"
     },
     "output_type": "display_data"
    }
   ],
   "source": [
    "plt.figure(figsize=(50,15))\n",
    "sns.pointplot(data=messi,color='cyan')\n",
    "sns.pointplot(data=ronaldo,color='green')\n",
    "sns.pointplot(data=neymar,color='yellow')\n",
    "plt.title('Messi vs Ronaldo vs Neymar')\n",
    "plt.grid()"
   ]
  },
  {
   "cell_type": "code",
   "execution_count": null,
   "id": "5e05b9bb",
   "metadata": {},
   "outputs": [],
   "source": []
  },
  {
   "cell_type": "code",
   "execution_count": 112,
   "id": "c68fa7d3",
   "metadata": {},
   "outputs": [
    {
     "data": {
      "text/plain": [
       "0              L. Messi\n",
       "1     Cristiano Ronaldo\n",
       "2              J. Oblak\n",
       "3        R. Lewandowski\n",
       "4             Neymar Jr\n",
       "5          K. De Bruyne\n",
       "6             K. Mbappé\n",
       "7         M. ter Stegen\n",
       "8           V. van Dijk\n",
       "9               Alisson\n",
       "10              S. Mané\n",
       "11             M. Salah\n",
       "Name: short_name, dtype: object"
      ]
     },
     "execution_count": 112,
     "metadata": {},
     "output_type": "execute_result"
    }
   ],
   "source": [
    "data[data['overall'] >= 90].sort_values(by='overall',ascending=False)['short_name']"
   ]
  },
  {
   "cell_type": "code",
   "execution_count": null,
   "id": "40ca3dc3",
   "metadata": {},
   "outputs": [],
   "source": []
  },
  {
   "cell_type": "code",
   "execution_count": 122,
   "id": "3125a251",
   "metadata": {},
   "outputs": [],
   "source": [
    "### top 5 nations with overall best player.\n",
    "top_nation = data.groupby(['nationality'])['overall'].max().sort_values(ascending = False).head(10)"
   ]
  },
  {
   "cell_type": "code",
   "execution_count": 123,
   "id": "ac1c2255",
   "metadata": {},
   "outputs": [
    {
     "data": {
      "text/plain": [
       "nationality\n",
       "Argentina      93\n",
       "Portugal       92\n",
       "Poland         91\n",
       "Brazil         91\n",
       "Slovenia       91\n",
       "Belgium        91\n",
       "Netherlands    90\n",
       "Egypt          90\n",
       "Senegal        90\n",
       "Germany        90\n",
       "Name: overall, dtype: int64"
      ]
     },
     "execution_count": 123,
     "metadata": {},
     "output_type": "execute_result"
    }
   ],
   "source": [
    "top_nation"
   ]
  },
  {
   "cell_type": "code",
   "execution_count": null,
   "id": "7f4a47c5",
   "metadata": {},
   "outputs": [],
   "source": []
  },
  {
   "cell_type": "code",
   "execution_count": 130,
   "id": "e15738b5",
   "metadata": {},
   "outputs": [
    {
     "data": {
      "image/png": "[encoded data removed]",
      "text/plain": [
       "<Figure size 1728x1080 with 1 Axes>"
      ]
     },
     "metadata": {
      "needs_background": "light"
     },
     "output_type": "display_data"
    }
   ],
   "source": [
    "### Age distribution of players in country\n",
    "countries_names = ['Argentina','France','Portugal','Germany','Brazil']\n",
    "\n",
    "countries = data.loc[data['nationality'].isin(countries_names) & data['age']]\n",
    "\n",
    "plt.figure(figsize=(24,15))\n",
    "sns.boxenplot(x='nationality',y='age',data=countries)\n",
    "plt.grid()"
   ]
  },
  {
   "cell_type": "code",
   "execution_count": 137,
   "id": "77fc1aa5",
   "metadata": {},
   "outputs": [
    {
     "data": {
      "application/vnd.plotly.v1+json": {
       "config": {
        "plotlyServerURL": "https://plot.ly"
       },
       "data": [
        {
         "alignmentgroup": "True",
         "boxpoints": "all",
         "hovertemplate": "nationality=%{x}<br>age=%{y}<extra></extra>",
         "legendgroup": "",
         "marker": {
          "color": "#636efa"
         },
         "name": "",
         "notched": false,
         "offsetgroup": "",
         "orientation": "v",
         "showlegend": false,
         "type": "box",
         "x": [
          "Argentina",
          "Portugal",
          "France",
          "Brazil",
          "Germany",
          "France",
          "Portugal",
          "Portugal",
          "France",
          "France",
          "France",
          "France",
          "Germany",
          "Germany",
          "France",
          "Argentina",
          "Brazil",
          "Germany",
          "Brazil",
          "Brazil",
          "Germany",
          "Brazil",
          "Brazil",
          "Brazil",
          "Brazil",
          "France",
          "Brazil",
          "Argentina",
          "France",
          "France",
          "Brazil",
          "Portugal",
          "Brazil",
          "Portugal",
          "France",
          "France",
          "Germany",
          "Brazil",
          "Germany",
          "France",
          "Brazil",
          "Brazil",
          "Portugal",
          "Portugal",
          "France",
          "Argentina",
          "Brazil",
          "Argentina",
          "Germany",
          "France",
          "Germany",
          "Brazil",
          "Germany",
          "France",
          "Germany",
          "Brazil",
          "Portugal",
          "Portugal",
          "France",
          "Brazil",
          "France",
          "Argentina",
          "Argentina",
          "Germany",
          "Brazil",
          "Argentina",
          "France",
          "Portugal",
          "France",
          "France",
          "Germany",
          "Germany",
          "Argentina",
          "Germany",
          "Brazil",
          "Brazil",
          "France",
          "France",
          "Portugal",
          "Brazil",
          "France",
          "Brazil",
          "France",
          "France",
          "Portugal",
          "Germany",
          "France",
          "France",
          "France",
          "Portugal",
          "Portugal",
          "Brazil",
          "Argentina",
          "Brazil",
          "Germany",
          "France",
          "Brazil",
          "France",
          "Portugal",
          "France",
          "Argentina",
          "France",
          "Brazil",
          "Germany",
          "France",
          "France",
          "Brazil",
          "Brazil",
          "France",
          "France",
          "France",
          "France",
          "France",
          "Brazil",
          "Portugal",
          "Portugal",
          "France",
          "France",
          "Portugal",
          "France",
          "Argentina",
          "Germany",
          "France",
          "Portugal",
          "Brazil",
          "France",
          "Portugal",
          "Brazil",
          "Brazil",
          "Argentina",
          "France",
          "Germany",
          "France",
          "Portugal",
          "Argentina",
          "Germany",
          "France",
          "Portugal",
          "Argentina",
          "Brazil",
          "Portugal",
          "France",
          "France",
          "Argentina",
          "Argentina",
          "Argentina",
          "Argentina",
          "France",
          "Argentina",
          "Argentina",
          "Brazil",
          "Brazil",
          "Argentina",
          "Germany",
          "France",
          "Argentina",
          "France",
          "Germany",
          "Brazil",
          "Brazil",
          "Germany",
          "Germany",
          "Argentina",
          "Portugal",
          "Argentina",
          "France",
          "Brazil",
          "France",
          "Argentina",
          "Portugal",
          "Argentina",
          "Germany",
          "Germany",
          "France",
          "France",
          "France",
          "Brazil",
          "Germany",
          "France",
          "Brazil",
          "Argentina",
          "France",
          "Portugal",
          "France",
          "Germany",
          "Portugal",
          "Argentina",
          "Brazil",
          "France",
          "Germany",
          "Argentina",
          "France",
          "Brazil",
          "Brazil",
          "Germany",
          "Argentina",
          "Brazil",
          "Argentina",
          "France",
          "Brazil",
          "France",
          "Germany",
          "France",
          "Argentina",
          "Argentina",
          "Germany",
          "Argentina",
          "Argentina",
          "Argentina",
          "Brazil",
          "Brazil",
          "France",
          "Portugal",
          "France",
          "Germany",
          "Germany",
          "France",
          "Germany",
          "Argentina",
          "Portugal",
          "France",
          "Germany",
          "France",
          "France",
          "Brazil",
          "Brazil",
          "Germany",
          "Brazil",
          "Brazil",
          "France",
          "France",
          "Argentina",
          "Germany",
          "Portugal",
          "Argentina",
          "Germany",
          "Portugal",
          "Argentina",
          "Argentina",
          "Argentina",
          "Argentina",
          "France",
          "Brazil",
          "Germany",
          "Portugal",
          "Brazil",
          "Portugal",
          "Brazil",
          "Germany",
          "France",
          "France",
          "Brazil",
          "Brazil",
          "France",
          "Brazil",
          "Brazil",
          "France",
          "Argentina",
          "Germany",
          "Argentina",
          "Argentina",
          "Brazil",
          "Portugal",
          "Argentina",
          "Brazil",
          "Portugal",
          "Portugal",
          "France",
          "France",
          "Brazil",
          "Brazil",
          "France",
          "Portugal",
          "France",
          "France",
          "Germany",
          "France",
          "France",
          "Germany",
          "France",
          "Portugal",
          "France",
          "Argentina",
          "Portugal",
          "Portugal",
          "Portugal",
          "Brazil",
          "Argentina",
          "France",
          "Portugal",
          "Argentina",
          "Germany",
          "Portugal",
          "Argentina",
          "Germany",
          "Argentina",
          "Argentina",
          "Argentina",
          "Argentina",
          "France",
          "Brazil",
          "Germany",
          "Argentina",
          "Portugal",
          "Germany",
          "Germany",
          "France",
          "Argentina",
          "Argentina",
          "Argentina",
          "France",
          "France",
          "Argentina",
          "France",
          "Argentina",
          "Argentina",
          "Argentina",
          "France",
          "Argentina",
          "Argentina",
          "Argentina",
          "France",
          "Argentina",
          "Argentina",
          "Brazil",
          "Brazil",
          "Portugal",
          "Germany",
          "Germany",
          "France",
          "Portugal",
          "France",
          "France",
          "Argentina",
          "France",
          "Argentina",
          "Argentina",
          "Argentina",
          "France",
          "Brazil",
          "Germany",
          "Brazil",
          "Brazil",
          "Argentina",
          "France",
          "Brazil",
          "Brazil",
          "Portugal",
          "Argentina",
          "Argentina",
          "France",
          "Brazil",
          "Argentina",
          "Argentina",
          "Brazil",
          "Argentina",
          "France",
          "Brazil",
          "Argentina",
          "Brazil",
          "Brazil",
          "France",
          "France",
          "Germany",
          "Germany",
          "Germany",
          "France",
          "Germany",
          "Brazil",
          "Brazil",
          "Brazil",
          "Brazil",
          "Germany",
          "Portugal",
          "Brazil",
          "Brazil",
          "Argentina",
          "Argentina",
          "Brazil",
          "Brazil",
          "Argentina",
          "Portugal",
          "France",
          "Argentina",
          "Argentina",
          "France",
          "Portugal",
          "France",
          "Brazil",
          "France",
          "France",
          "France",
          "Portugal",
          "Germany",
          "Portugal",
          "France",
          "Portugal",
          "Argentina",
          "Argentina",
          "Portugal",
          "France",
          "Germany",
          "Germany",
          "France",
          "Argentina",
          "Brazil",
          "Germany",
          "Brazil",
          "Germany",
          "Germany",
          "Germany",
          "Portugal",
          "Argentina",
          "Argentina",
          "Brazil",
          "Argentina",
          "Argentina",
          "France",
          "Portugal",
          "France",
          "Germany",
          "Germany",
          "Germany",
          "Argentina",
          "Portugal",
          "France",
          "Portugal",
          "Brazil",
          "Germany",
          "France",
          "Argentina",
          "Brazil",
          "France",
          "Germany",
          "Brazil",
          "Brazil",
          "France",
          "Brazil",
          "Argentina",
          "France",
          "Brazil",
          "Germany",
          "Brazil",
          "Germany",
          "Portugal",
          "Germany",
          "Germany",
          "France",
          "Germany",
          "France",
          "Germany",
          "France",
          "France",
          "Argentina",
          "France",
          "Argentina",
          "Argentina",
          "Argentina",
          "Argentina",
          "Argentina",
          "Argentina",
          "Argentina",
          "France",
          "Argentina",
          "Brazil",
          "Germany",
          "Brazil",
          "Portugal",
          "Argentina",
          "Germany",
          "Brazil",
          "France",
          "Germany",
          "Argentina",
          "Brazil",
          "Argentina",
          "Germany",
          "France",
          "France",
          "Portugal",
          "Brazil",
          "Argentina",
          "France",
          "France",
          "France",
          "Argentina",
          "Brazil",
          "Portugal",
          "Brazil",
          "France",
          "Argentina",
          "Brazil",
          "Argentina",
          "Germany",
          "Argentina",
          "Argentina",
          "Argentina",
          "Portugal",
          "Argentina",
          "Argentina",
          "Germany",
          "Brazil",
          "France",
          "Portugal",
          "Germany",
          "Germany",
          "Germany",
          "Germany",
          "Argentina",
          "France",
          "Portugal",
          "Argentina",
          "Argentina",
          "Argentina",
          "France",
          "Argentina",
          "Portugal",
          "France",
          "France",
          "Portugal",
          "Portugal",
          "France",
          "France",
          "Brazil",
          "Argentina",
          "Argentina",
          "Brazil",
          "Brazil",
          "France",
          "Germany",
          "Brazil",
          "Germany",
          "Argentina",
          "Argentina",
          "Brazil",
          "Brazil",
          "Argentina",
          "Portugal",
          "Argentina",
          "Germany",
          "Brazil",
          "Brazil",
          "France",
          "France",
          "France",
          "Germany",
          "Brazil",
          "Argentina",
          "France",
          "Germany",
          "France",
          "France",
          "Brazil",
          "Brazil",
          "Germany",
          "Germany",
          "Portugal",
          "Brazil",
          "Germany",
          "Argentina",
          "Argentina",
          "Argentina",
          "Argentina",
          "Argentina",
          "Argentina",
          "Argentina",
          "Argentina",
          "Portugal",
          "Argentina",
          "Portugal",
          "Germany",
          "Argentina",
          "Argentina",
          "Portugal",
          "Argentina",
          "France",
          "Brazil",
          "France",
          "France",
          "Argentina",
          "Brazil",
          "Argentina",
          "Portugal",
          "France",
          "Argentina",
          "Portugal",
          "Brazil",
          "France",
          "Brazil",
          "Brazil",
          "Portugal",
          "Portugal",
          "Portugal",
          "Argentina",
          "Brazil",
          "Argentina",
          "Brazil",
          "France",
          "Germany",
          "Germany",
          "Germany",
          "Portugal",
          "Brazil",
          "Portugal",
          "Germany",
          "Brazil",
          "Germany",
          "Germany",
          "Germany",
          "Germany",
          "France",
          "Germany",
          "Portugal",
          "Argentina",
          "France",
          "Germany",
          "Portugal",
          "France",
          "France",
          "Argentina",
          "Brazil",
          "Germany",
          "Germany",
          "France",
          "Germany",
          "Germany",
          "Brazil",
          "Germany",
          "France",
          "Brazil",
          "Portugal",
          "Argentina",
          "Brazil",
          "Argentina",
          "Brazil",
          "Brazil",
          "Germany",
          "Argentina",
          "Portugal",
          "Argentina",
          "Argentina",
          "France",
          "France",
          "Argentina",
          "Brazil",
          "France",
          "Germany",
          "Germany",
          "Germany",
          "Germany",
          "Germany",
          "Brazil",
          "Brazil",
          "Brazil",
          "Brazil",
          "Germany",
          "Germany",
          "Germany",
          "Brazil",
          "Argentina",
          "Argentina",
          "Argentina",
          "Brazil",
          "Argentina",
          "Argentina",
          "Brazil",
          "Argentina",
          "Argentina",
          "France",
          "Germany",
          "Argentina",
          "France",
          "Argentina",
          "Argentina",
          "France",
          "Portugal",
          "Argentina",
          "Argentina",
          "Brazil",
          "Portugal",
          "Argentina",
          "Argentina",
          "France",
          "Argentina",
          "France",
          "Germany",
          "Argentina",
          "Germany",
          "Argentina",
          "France",
          "Argentina",
          "Argentina",
          "France",
          "Argentina",
          "France",
          "Germany",
          "France",
          "Germany",
          "Argentina",
          "Germany",
          "France",
          "Germany",
          "Germany",
          "Germany",
          "Brazil",
          "France",
          "France",
          "Argentina",
          "Germany",
          "Germany",
          "Argentina",
          "Brazil",
          "France",
          "Argentina",
          "Germany",
          "Argentina",
          "Brazil",
          "Germany",
          "France",
          "Brazil",
          "Brazil",
          "Portugal",
          "Germany",
          "Argentina",
          "France",
          "Brazil",
          "Brazil",
          "Germany",
          "Brazil",
          "France",
          "Germany",
          "Germany",
          "Germany",
          "Argentina",
          "Argentina",
          "Argentina",
          "Argentina",
          "Argentina",
          "France",
          "Germany",
          "Argentina",
          "France",
          "Germany",
          "Portugal",
          "Germany",
          "Argentina",
          "Portugal",
          "France",
          "Germany",
          "Germany",
          "France",
          "Argentina",
          "Argentina",
          "France",
          "Brazil",
          "Germany",
          "Brazil",
          "France",
          "Germany",
          "Germany",
          "Argentina",
          "Argentina",
          "Brazil",
          "Germany",
          "Germany",
          "Germany",
          "France",
          "Argentina",
          "Argentina",
          "Argentina",
          "Argentina",
          "Argentina",
          "Germany",
          "Argentina",
          "Argentina",
          "Argentina",
          "Argentina",
          "Brazil",
          "Portugal",
          "Argentina",
          "Argentina",
          "Portugal",
          "Brazil",
          "Germany",
          "Portugal",
          "Germany",
          "Portugal",
          "Brazil",
          "Argentina",
          "Argentina",
          "Argentina",
          "Portugal",
          "France",
          "Argentina",
          "Argentina",
          "Argentina",
          "Germany",
          "Portugal",
          "Brazil",
          "Argentina",
          "France",
          "France",
          "France",
          "France",
          "Germany",
          "Brazil",
          "Portugal",
          "Argentina",
          "Germany",
          "Germany",
          "Portugal",
          "Germany",
          "Argentina",
          "France",
          "Germany",
          "Brazil",
          "Argentina",
          "France",
          "Argentina",
          "Germany",
          "Argentina",
          "Brazil",
          "Germany",
          "France",
          "Brazil",
          "Brazil",
          "Portugal",
          "Brazil",
          "Germany",
          "Argentina",
          "Brazil",
          "Germany",
          "Germany",
          "France",
          "Argentina",
          "Argentina",
          "Brazil",
          "Argentina",
          "France",
          "Brazil",
          "Portugal",
          "France",
          "Germany",
          "Portugal",
          "Argentina",
          "Argentina",
          "Argentina",
          "Germany",
          "Germany",
          "Germany",
          "Argentina",
          "Germany",
          "Argentina",
          "Portugal",
          "Argentina",
          "France",
          "Argentina",
          "Brazil",
          "Brazil",
          "France",
          "Germany",
          "Germany",
          "Germany",
          "Argentina",
          "France",
          "Germany",
          "Brazil",
          "Germany",
          "Argentina",
          "Portugal",
          "Portugal",
          "Germany",
          "Germany",
          "Germany",
          "Portugal",
          "Portugal",
          "Germany",
          "Argentina",
          "Germany",
          "Argentina",
          "Argentina",
          "Argentina",
          "Argentina",
          "Argentina",
          "France",
          "Portugal",
          "Argentina",
          "Argentina",
          "Brazil",
          "Brazil",
          "Argentina",
          "Argentina",
          "Brazil",
          "Argentina",
          "Argentina",
          "Portugal",
          "Brazil",
          "Germany",
          "Argentina",
          "Argentina",
          "Argentina",
          "Germany",
          "France",
          "Argentina",
          "Argentina",
          "Argentina",
          "France",
          "Germany",
          "Brazil",
          "Germany",
          "Argentina",
          "Argentina",
          "Brazil",
          "Germany",
          "Germany",
          "Germany",
          "France",
          "Argentina",
          "Brazil",
          "France",
          "France",
          "France",
          "Germany",
          "Argentina",
          "France",
          "France",
          "Germany",
          "Argentina",
          "Germany",
          "Germany",
          "Germany",
          "France",
          "Germany",
          "Germany",
          "Germany",
          "Portugal",
          "Brazil",
          "Germany",
          "Brazil",
          "Brazil",
          "Brazil",
          "Portugal",
          "France",
          "Brazil",
          "Brazil",
          "France",
          "Brazil",
          "Brazil",
          "Germany",
          "Portugal",
          "Brazil",
          "Brazil",
          "Brazil",
          "Germany",
          "Germany",
          "Brazil",
          "Brazil",
          "Germany",
          "Argentina",
          "France",
          "Brazil",
          "Portugal",
          "France",
          "France",
          "Portugal",
          "France",
          "France",
          "France",
          "Germany",
          "France",
          "Argentina",
          "Brazil",
          "Argentina",
          "France",
          "Germany",
          "Portugal",
          "Argentina",
          "Germany",
          "Germany",
          "Portugal",
          "Brazil",
          "Argentina",
          "Argentina",
          "Argentina",
          "Argentina",
          "Argentina",
          "Portugal",
          "Argentina",
          "Argentina",
          "Brazil",
          "Argentina",
          "France",
          "Argentina",
          "Argentina",
          "Argentina",
          "France",
          "Germany",
          "France",
          "Germany",
          "Argentina",
          "France",
          "Germany",
          "Portugal",
          "Germany",
          "Argentina",
          "France",
          "Germany",
          "Germany",
          "Argentina",
          "Germany",
          "Germany",
          "France",
          "Germany",
          "Argentina",
          "France",
          "Argentina",
          "Brazil",
          "Portugal",
          "Germany",
          "Argentina",
          "Brazil",
          "France",
          "Germany",
          "Germany",
          "Germany",
          "Argentina",
          "Brazil",
          "Argentina",
          "France",
          "Germany",
          "France",
          "Germany",
          "Germany",
          "Germany",
          "Brazil",
          "Portugal",
          "Portugal",
          "Germany",
          "Brazil",
          "Argentina",
          "Germany",
          "Germany",
          "France",
          "Portugal",
          "Brazil",
          "Germany",
          "Brazil",
          "Germany",
          "Argentina",
          "Argentina",
          "Germany",
          "Germany",
          "Argentina",
          "France",
          "Germany",
          "Germany",
          "Brazil",
          "Argentina",
          "France",
          "Brazil",
          "France",
          "Brazil",
          "Germany",
          "Argentina",
          "Brazil",
          "France",
          "France",
          "Argentina",
          "France",
          "Argentina",
          "Germany",
          "France",
          "Germany",
          "France",
          "Argentina",
          "Brazil",
          "Brazil",
          "Brazil",
          "Germany",
          "Argentina",
          "Germany",
          "Germany",
          "Germany",
          "France",
          "Germany",
          "Germany",
          "Germany",
          "Portugal",
          "Portugal",
          "Germany",
          "France",
          "Argentina",
          "Germany",
          "Argentina",
          "Argentina",
          "Argentina",
          "Argentina",
          "France",
          "Argentina",
          "Portugal",
          "Portugal",
          "Germany",
          "Argentina",
          "Portugal",
          "France",
          "France",
          "Argentina",
          "Portugal",
          "Germany",
          "Germany",
          "France",
          "France",
          "Germany",
          "Argentina",
          "Brazil",
          "Portugal",
          "Germany",
          "Argentina",
          "Argentina",
          "Brazil",
          "France",
          "France",
          "Argentina",
          "Argentina",
          "Germany",
          "France",
          "Germany",
          "Argentina",
          "Portugal",
          "Germany",
          "France",
          "Germany",
          "Germany",
          "Brazil",
          "Brazil",
          "France",
          "Germany",
          "Germany",
          "Portugal",
          "Argentina",
          "France",
          "Brazil",
          "Argentina",
          "Brazil",
          "Germany",
          "Argentina",
          "Brazil",
          "Brazil",
          "Germany",
          "Brazil",
          "Brazil",
          "Brazil",
          "France",
          "Germany",
          "Argentina",
          "Brazil",
          "Germany",
          "Brazil",
          "Germany",
          "Portugal",
          "Germany",
          "France",
          "Germany",
          "Brazil",
          "Argentina",
          "Brazil",
          "France",
          "Germany",
          "Germany",
          "Germany",
          "Germany",
          "Germany",
          "Portugal",
          "Argentina",
          "Argentina",
          "Portugal",
          "Argentina",
          "France",
          "Germany",
          "Germany",
          "Brazil",
          "Portugal",
          "France",
          "Germany",
          "Germany",
          "France",
          "Germany",
          "France",
          "Germany",
          "Germany",
          "Germany",
          "Germany",
          "France",
          "Germany",
          "France",
          "Germany",
          "Germany",
          "Germany",
          "France",
          "France",
          "France",
          "Germany",
          "Germany",
          "Argentina",
          "Germany",
          "Germany",
          "Germany",
          "Brazil",
          "France",
          "Germany",
          "Argentina",
          "Portugal",
          "Argentina",
          "Germany",
          "Germany",
          "Germany",
          "France",
          "Argentina",
          "Argentina",
          "Brazil",
          "Portugal",
          "France",
          "Germany",
          "France",
          "France",
          "Germany",
          "Germany",
          "France",
          "France",
          "France",
          "Argentina",
          "Germany",
          "France",
          "Brazil",
          "France",
          "Germany",
          "Germany",
          "Argentina",
          "Argentina",
          "Germany",
          "France",
          "Germany",
          "Brazil",
          "France",
          "Argentina",
          "France",
          "Portugal",
          "Argentina",
          "France",
          "Brazil",
          "Germany",
          "Germany",
          "France",
          "France",
          "Argentina",
          "France",
          "France",
          "Germany",
          "France",
          "Germany",
          "Argentina",
          "Germany",
          "Brazil",
          "Argentina",
          "Germany",
          "France",
          "Germany",
          "Germany",
          "Germany",
          "Germany",
          "Brazil",
          "Brazil",
          "Germany",
          "France",
          "Argentina",
          "France",
          "Germany",
          "Germany",
          "Portugal",
          "Brazil",
          "Brazil",
          "Germany",
          "Germany",
          "Germany",
          "Germany",
          "Germany",
          "Germany",
          "Argentina",
          "Argentina",
          "Argentina",
          "France",
          "Germany",
          "Germany",
          "Germany",
          "Germany",
          "Argentina",
          "Germany",
          "France",
          "Germany",
          "France",
          "France",
          "Germany",
          "Brazil",
          "Germany",
          "Germany",
          "Portugal",
          "Brazil",
          "Argentina",
          "Argentina",
          "Argentina",
          "Germany",
          "France",
          "Argentina",
          "Argentina",
          "Germany",
          "Argentina",
          "Germany",
          "Germany",
          "France",
          "Germany",
          "Germany",
          "Germany",
          "France",
          "Germany",
          "Germany",
          "Germany",
          "Germany",
          "Germany",
          "France",
          "France",
          "France",
          "Argentina",
          "Argentina",
          "France",
          "Germany",
          "Germany",
          "Germany",
          "Germany",
          "Germany",
          "Germany",
          "France",
          "France",
          "France",
          "France",
          "Brazil",
          "Brazil",
          "Argentina",
          "Argentina",
          "Germany",
          "France",
          "Germany",
          "France",
          "Argentina",
          "Portugal",
          "Brazil",
          "Germany",
          "Argentina",
          "Brazil",
          "Argentina",
          "Argentina",
          "Germany",
          "France",
          "Germany",
          "Germany",
          "Argentina",
          "Argentina",
          "France",
          "Brazil",
          "Germany",
          "Germany",
          "Germany",
          "France",
          "Argentina",
          "France",
          "France",
          "Argentina",
          "Germany",
          "Argentina",
          "Portugal",
          "Brazil",
          "France",
          "France",
          "France",
          "France",
          "Brazil",
          "France",
          "Germany",
          "France",
          "Portugal",
          "Germany",
          "Brazil",
          "France",
          "Germany",
          "Argentina",
          "Argentina",
          "Germany",
          "Brazil",
          "Argentina",
          "Germany",
          "Germany",
          "France",
          "Brazil",
          "Germany",
          "Argentina",
          "Argentina",
          "Germany",
          "Germany",
          "Brazil",
          "Brazil",
          "France",
          "Germany",
          "Germany",
          "Portugal",
          "France",
          "Germany",
          "France",
          "France",
          "Germany",
          "Germany",
          "Germany",
          "Germany",
          "France",
          "Germany",
          "Germany",
          "France",
          "France",
          "Germany",
          "Germany",
          "Germany",
          "France",
          "Argentina",
          "Germany",
          "Argentina",
          "Germany",
          "Germany",
          "France",
          "Germany",
          "Germany",
          "Germany",
          "Germany",
          "France",
          "Germany",
          "Germany",
          "Germany",
          "France",
          "Brazil",
          "Argentina",
          "Germany",
          "Germany",
          "Argentina",
          "Argentina",
          "Argentina",
          "France",
          "Germany",
          "Brazil",
          "France",
          "Argentina",
          "Germany",
          "Argentina",
          "Germany",
          "France",
          "France",
          "France",
          "Argentina",
          "France",
          "France",
          "Argentina",
          "Argentina",
          "France",
          "France",
          "Argentina",
          "France",
          "France",
          "France",
          "Argentina",
          "France",
          "France",
          "Portugal",
          "Argentina",
          "Argentina",
          "Argentina",
          "Argentina",
          "Argentina",
          "Germany",
          "France",
          "Brazil",
          "Germany",
          "Germany",
          "Brazil",
          "Germany",
          "Germany",
          "Germany",
          "Germany",
          "France",
          "Argentina",
          "France",
          "France",
          "Portugal",
          "France",
          "Portugal",
          "Argentina",
          "France",
          "Argentina",
          "Brazil",
          "Portugal",
          "Portugal",
          "Germany",
          "France",
          "France",
          "Germany",
          "Brazil",
          "Brazil",
          "Portugal",
          "Argentina",
          "Germany",
          "Germany",
          "Germany",
          "Germany",
          "Germany",
          "Germany",
          "Portugal",
          "Germany",
          "Argentina",
          "Germany",
          "Germany",
          "Germany",
          "Brazil",
          "Brazil",
          "Brazil",
          "Germany",
          "France",
          "Brazil",
          "France",
          "Portugal",
          "Germany",
          "Brazil",
          "Germany",
          "France",
          "Brazil",
          "Portugal",
          "France",
          "Germany",
          "Germany",
          "France",
          "Brazil",
          "Germany",
          "France",
          "Brazil",
          "Germany",
          "Brazil",
          "France",
          "Argentina",
          "Argentina",
          "Germany",
          "Germany",
          "Argentina",
          "Brazil",
          "Germany",
          "Germany",
          "Germany",
          "France",
          "Germany",
          "Germany",
          "France",
          "Germany",
          "Germany",
          "France",
          "Germany",
          "Argentina",
          "Argentina",
          "Germany",
          "Germany",
          "Portugal",
          "France",
          "Argentina",
          "France",
          "Germany",
          "France",
          "Argentina",
          "Argentina",
          "Germany",
          "Argentina",
          "Germany",
          "Germany",
          "Argentina",
          "Brazil",
          "Germany",
          "Portugal",
          "Germany",
          "Argentina",
          "Germany",
          "Argentina",
          "Brazil",
          "Brazil",
          "France",
          "Germany",
          "France",
          "France",
          "Germany",
          "France",
          "Germany",
          "France",
          "France",
          "Germany",
          "France",
          "Germany",
          "Germany",
          "Argentina",
          "Argentina",
          "Argentina",
          "Portugal",
          "Germany",
          "Portugal",
          "Argentina",
          "France",
          "Argentina",
          "Brazil",
          "Argentina",
          "Brazil",
          "Argentina",
          "Germany",
          "Germany",
          "Argentina",
          "Germany",
          "Argentina",
          "Germany",
          "Portugal",
          "Germany",
          "Germany",
          "Germany",
          "Germany",
          "Germany",
          "Argentina",
          "Brazil",
          "Portugal",
          "France",
          "Argentina",
          "Germany",
          "Germany",
          "Germany",
          "France",
          "France",
          "Germany",
          "France",
          "France",
          "Germany",
          "Germany",
          "Argentina",
          "Germany",
          "Argentina",
          "Argentina",
          "Argentina",
          "France",
          "Germany",
          "France",
          "Argentina",
          "Argentina",
          "Germany",
          "France",
          "France",
          "Argentina",
          "Germany",
          "France",
          "Germany",
          "Portugal",
          "Argentina",
          "Germany",
          "France",
          "France",
          "Germany",
          "France",
          "Argentina",
          "France",
          "France",
          "Portugal",
          "Brazil",
          "Argentina",
          "Portugal",
          "Portugal",
          "Germany",
          "France",
          "Germany",
          "Argentina",
          "France",
          "Germany",
          "France",
          "Germany",
          "Germany",
          "France",
          "France",
          "Argentina",
          "France",
          "Germany",
          "Argentina",
          "Germany",
          "Germany",
          "Germany",
          "Germany",
          "Argentina",
          "Germany",
          "France",
          "Brazil",
          "Germany",
          "Germany",
          "France",
          "France",
          "Argentina",
          "Germany",
          "Germany",
          "Argentina",
          "Germany",
          "Argentina",
          "Germany",
          "Argentina",
          "Argentina",
          "Portugal",
          "France",
          "Germany",
          "Germany",
          "Brazil",
          "Argentina",
          "Germany",
          "Brazil",
          "Brazil",
          "Brazil",
          "Germany",
          "Germany",
          "France",
          "Germany",
          "Argentina",
          "Argentina",
          "Argentina",
          "Germany",
          "Germany",
          "Argentina",
          "Brazil",
          "Argentina",
          "Germany",
          "Germany",
          "Brazil",
          "France",
          "France",
          "Germany",
          "France",
          "France",
          "France",
          "Germany",
          "Portugal",
          "France",
          "France",
          "France",
          "Brazil",
          "France",
          "Argentina",
          "Germany",
          "France",
          "Argentina",
          "Argentina",
          "Germany",
          "France",
          "Germany",
          "Germany",
          "Germany",
          "Argentina",
          "Argentina",
          "Germany",
          "Germany",
          "Portugal",
          "Portugal",
          "Portugal",
          "France",
          "Portugal",
          "Argentina",
          "Germany",
          "Germany",
          "France",
          "France",
          "Portugal",
          "Argentina",
          "France",
          "Germany",
          "Argentina",
          "Argentina",
          "France",
          "Argentina",
          "Germany",
          "France",
          "Argentina",
          "Argentina",
          "Portugal",
          "Germany",
          "France",
          "France",
          "Germany",
          "Argentina",
          "Argentina",
          "France",
          "Germany",
          "Germany",
          "Argentina",
          "France",
          "France",
          "Germany",
          "Germany",
          "Argentina",
          "Argentina",
          "Argentina",
          "Germany",
          "Germany",
          "Germany",
          "Germany",
          "Germany",
          "Argentina",
          "France",
          "France",
          "France",
          "Germany",
          "France",
          "France",
          "Brazil",
          "Germany",
          "Argentina",
          "Argentina",
          "Germany",
          "Germany",
          "Argentina",
          "Germany",
          "France",
          "Argentina",
          "Germany",
          "Argentina",
          "Germany",
          "France",
          "France",
          "Germany",
          "France",
          "Germany",
          "France",
          "Germany",
          "Argentina",
          "France",
          "Germany",
          "Argentina",
          "Germany",
          "France",
          "Germany",
          "Germany",
          "Germany",
          "France",
          "France",
          "Germany",
          "Germany",
          "Argentina",
          "Argentina",
          "Germany",
          "France",
          "Argentina",
          "France",
          "France",
          "Germany",
          "France",
          "Germany",
          "France",
          "France",
          "France",
          "Germany",
          "Argentina",
          "France",
          "France",
          "Argentina",
          "Argentina",
          "France",
          "Germany",
          "Portugal",
          "Portugal",
          "Germany",
          "France",
          "Germany",
          "Germany",
          "Germany",
          "France",
          "Germany",
          "Argentina",
          "Germany",
          "Brazil",
          "Germany",
          "Germany",
          "France",
          "France",
          "Germany",
          "Germany",
          "Germany",
          "Argentina",
          "Argentina",
          "Germany",
          "Germany",
          "Argentina",
          "France",
          "Germany",
          "Argentina",
          "Argentina",
          "France",
          "Argentina",
          "Germany",
          "France",
          "Germany",
          "Germany",
          "Germany",
          "Argentina",
          "Portugal",
          "Argentina",
          "Germany",
          "France",
          "Germany",
          "France",
          "France",
          "Germany",
          "Germany",
          "Argentina",
          "Germany",
          "Germany",
          "Germany",
          "Argentina",
          "France",
          "France",
          "Argentina",
          "Argentina",
          "Germany",
          "Argentina",
          "France",
          "Germany",
          "Germany",
          "Argentina",
          "France",
          "Argentina",
          "Argentina",
          "Germany",
          "Germany",
          "Germany",
          "Argentina",
          "Germany",
          "Germany",
          "Argentina",
          "France",
          "Brazil",
          "Argentina",
          "France",
          "Germany",
          "France",
          "France",
          "Germany",
          "Germany",
          "Germany",
          "Argentina",
          "Argentina",
          "Argentina",
          "Germany",
          "Germany",
          "Germany",
          "Argentina",
          "France",
          "Argentina",
          "Argentina",
          "France",
          "France",
          "Germany",
          "France",
          "Germany",
          "Germany",
          "Argentina",
          "France",
          "France",
          "Brazil",
          "France",
          "Germany",
          "France",
          "Argentina",
          "Brazil",
          "France",
          "Germany",
          "France",
          "Germany",
          "France",
          "Germany",
          "Argentina",
          "France",
          "Germany",
          "France",
          "Germany",
          "France",
          "Germany",
          "Germany",
          "Germany",
          "Germany",
          "France",
          "Germany",
          "Germany",
          "Germany",
          "Germany",
          "Germany",
          "France",
          "France",
          "Germany",
          "Argentina",
          "Argentina",
          "Germany",
          "Argentina",
          "France",
          "Germany",
          "Germany",
          "Germany",
          "Germany",
          "Argentina",
          "France",
          "France",
          "Germany",
          "France",
          "France",
          "Portugal",
          "France",
          "Germany",
          "Germany",
          "France",
          "Germany",
          "Germany",
          "Germany"
         ],
         "x0": " ",
         "xaxis": "x",
         "y": [
          33,
          35,
          21,
          27,
          25,
          29,
          25,
          25,
          33,
          29,
          27,
          27,
          31,
          21,
          25,
          27,
          35,
          31,
          29,
          23,
          25,
          27,
          35,
          33,
          29,
          29,
          31,
          27,
          23,
          25,
          23,
          29,
          27,
          33,
          35,
          33,
          29,
          31,
          29,
          29,
          29,
          27,
          27,
          23,
          27,
          25,
          29,
          25,
          31,
          33,
          31,
          31,
          31,
          27,
          25,
          23,
          23,
          23,
          23,
          23,
          25,
          27,
          25,
          27,
          27,
          29,
          25,
          37,
          37,
          33,
          31,
          33,
          29,
          27,
          27,
          19,
          23,
          23,
          23,
          23,
          25,
          25,
          25,
          25,
          25,
          27,
          29,
          27,
          27,
          27,
          33,
          35,
          33,
          33,
          31,
          29,
          33,
          29,
          29,
          29,
          33,
          21,
          19,
          23,
          21,
          21,
          25,
          27,
          25,
          25,
          25,
          27,
          25,
          27,
          25,
          27,
          33,
          35,
          33,
          33,
          31,
          31,
          31,
          29,
          31,
          21,
          21,
          21,
          21,
          23,
          23,
          23,
          21,
          25,
          27,
          27,
          27,
          27,
          27,
          29,
          27,
          27,
          27,
          37,
          35,
          33,
          35,
          31,
          31,
          29,
          31,
          31,
          29,
          29,
          29,
          29,
          27,
          29,
          27,
          27,
          27,
          29,
          31,
          29,
          21,
          21,
          23,
          23,
          23,
          23,
          23,
          23,
          23,
          23,
          23,
          21,
          25,
          27,
          25,
          27,
          27,
          25,
          25,
          29,
          29,
          29,
          27,
          37,
          33,
          31,
          33,
          31,
          29,
          29,
          29,
          31,
          31,
          29,
          29,
          29,
          29,
          29,
          27,
          31,
          31,
          27,
          27,
          31,
          31,
          29,
          29,
          17,
          21,
          21,
          23,
          23,
          23,
          23,
          23,
          23,
          23,
          25,
          25,
          23,
          23,
          27,
          23,
          25,
          25,
          23,
          27,
          27,
          25,
          25,
          25,
          27,
          25,
          27,
          37,
          33,
          33,
          33,
          33,
          31,
          31,
          31,
          31,
          31,
          29,
          33,
          31,
          31,
          29,
          29,
          31,
          31,
          27,
          33,
          23,
          21,
          23,
          23,
          21,
          23,
          23,
          23,
          23,
          21,
          23,
          23,
          23,
          23,
          25,
          21,
          25,
          25,
          23,
          21,
          27,
          27,
          27,
          25,
          25,
          25,
          25,
          25,
          29,
          29,
          27,
          27,
          27,
          25,
          27,
          27,
          35,
          39,
          35,
          35,
          35,
          33,
          33,
          31,
          33,
          33,
          31,
          31,
          29,
          33,
          35,
          31,
          29,
          27,
          33,
          29,
          31,
          33,
          33,
          33,
          33,
          31,
          31,
          19,
          21,
          21,
          19,
          19,
          21,
          21,
          21,
          21,
          21,
          23,
          23,
          23,
          21,
          23,
          23,
          25,
          23,
          25,
          25,
          25,
          25,
          27,
          25,
          25,
          25,
          25,
          25,
          25,
          29,
          27,
          29,
          25,
          27,
          39,
          35,
          35,
          33,
          39,
          33,
          33,
          33,
          31,
          29,
          29,
          31,
          33,
          29,
          29,
          29,
          29,
          27,
          29,
          27,
          29,
          33,
          33,
          29,
          27,
          19,
          19,
          23,
          23,
          23,
          21,
          23,
          21,
          21,
          23,
          23,
          23,
          23,
          23,
          23,
          21,
          25,
          25,
          25,
          25,
          25,
          25,
          25,
          23,
          27,
          25,
          25,
          25,
          29,
          27,
          25,
          25,
          27,
          29,
          27,
          27,
          27,
          39,
          39,
          37,
          35,
          33,
          33,
          35,
          35,
          31,
          35,
          35,
          33,
          31,
          33,
          33,
          29,
          31,
          29,
          31,
          31,
          31,
          31,
          31,
          33,
          27,
          29,
          29,
          33,
          27,
          29,
          29,
          29,
          29,
          29,
          27,
          31,
          31,
          27,
          35,
          31,
          31,
          33,
          29,
          29,
          29,
          31,
          33,
          33,
          27,
          21,
          21,
          23,
          21,
          21,
          21,
          21,
          23,
          21,
          23,
          23,
          23,
          21,
          23,
          25,
          23,
          23,
          23,
          23,
          23,
          23,
          21,
          23,
          23,
          25,
          25,
          25,
          25,
          25,
          27,
          27,
          25,
          27,
          25,
          23,
          25,
          25,
          25,
          27,
          27,
          29,
          27,
          29,
          27,
          27,
          27,
          29,
          25,
          27,
          27,
          27,
          37,
          35,
          29,
          33,
          33,
          31,
          39,
          31,
          31,
          31,
          33,
          33,
          33,
          31,
          29,
          33,
          29,
          33,
          33,
          35,
          33,
          31,
          31,
          31,
          29,
          31,
          29,
          29,
          31,
          31,
          33,
          29,
          31,
          29,
          29,
          31,
          33,
          27,
          27,
          31,
          27,
          29,
          29,
          31,
          33,
          33,
          29,
          29,
          29,
          29,
          29,
          31,
          31,
          29,
          29,
          29,
          27,
          29,
          29,
          29,
          27,
          19,
          19,
          21,
          21,
          21,
          19,
          21,
          23,
          23,
          21,
          23,
          23,
          23,
          23,
          21,
          23,
          23,
          23,
          23,
          19,
          25,
          25,
          25,
          23,
          25,
          25,
          25,
          25,
          25,
          25,
          25,
          25,
          25,
          27,
          27,
          25,
          27,
          25,
          25,
          27,
          25,
          27,
          25,
          25,
          27,
          29,
          29,
          27,
          29,
          27,
          27,
          27,
          29,
          27,
          29,
          27,
          27,
          37,
          37,
          35,
          33,
          35,
          35,
          35,
          33,
          31,
          31,
          33,
          31,
          31,
          29,
          29,
          31,
          29,
          31,
          29,
          31,
          27,
          29,
          27,
          33,
          31,
          31,
          31,
          29,
          31,
          27,
          29,
          31,
          31,
          21,
          19,
          21,
          19,
          21,
          19,
          19,
          19,
          21,
          21,
          21,
          21,
          21,
          21,
          23,
          23,
          23,
          23,
          23,
          23,
          23,
          23,
          25,
          23,
          23,
          25,
          23,
          25,
          25,
          25,
          25,
          25,
          23,
          23,
          23,
          23,
          23,
          27,
          25,
          25,
          27,
          25,
          25,
          27,
          27,
          25,
          25,
          25,
          29,
          25,
          27,
          27,
          27,
          27,
          27,
          25,
          27,
          25,
          27,
          27,
          25,
          27,
          27,
          25,
          27,
          37,
          39,
          35,
          33,
          33,
          33,
          33,
          31,
          33,
          29,
          33,
          29,
          35,
          31,
          31,
          31,
          31,
          29,
          31,
          31,
          29,
          27,
          29,
          27,
          31,
          29,
          27,
          35,
          29,
          29,
          31,
          27,
          29,
          29,
          35,
          29,
          31,
          27,
          33,
          27,
          27,
          27,
          31,
          29,
          27,
          29,
          31,
          29,
          31,
          27,
          29,
          17,
          19,
          17,
          19,
          21,
          21,
          21,
          21,
          21,
          21,
          23,
          21,
          21,
          21,
          21,
          21,
          21,
          19,
          23,
          23,
          21,
          23,
          21,
          25,
          23,
          23,
          23,
          23,
          25,
          23,
          23,
          23,
          25,
          25,
          25,
          25,
          25,
          25,
          25,
          25,
          25,
          25,
          27,
          25,
          25,
          25,
          25,
          25,
          25,
          25,
          25,
          25,
          25,
          25,
          27,
          27,
          29,
          29,
          29,
          25,
          29,
          27,
          27,
          27,
          33,
          33,
          35,
          33,
          37,
          33,
          33,
          31,
          33,
          33,
          33,
          33,
          33,
          33,
          33,
          33,
          31,
          33,
          29,
          29,
          31,
          35,
          33,
          29,
          29,
          29,
          33,
          31,
          29,
          33,
          29,
          27,
          31,
          29,
          29,
          27,
          29,
          29,
          29,
          27,
          29,
          35,
          31,
          31,
          29,
          31,
          29,
          27,
          31,
          29,
          31,
          31,
          33,
          17,
          21,
          21,
          21,
          19,
          19,
          21,
          21,
          21,
          21,
          23,
          21,
          23,
          23,
          23,
          23,
          23,
          23,
          23,
          23,
          23,
          23,
          23,
          21,
          23,
          23,
          23,
          25,
          25,
          25,
          25,
          25,
          25,
          23,
          23,
          25,
          27,
          25,
          25,
          25,
          27,
          27,
          25,
          25,
          27,
          23,
          25,
          27,
          29,
          27,
          27,
          29,
          27,
          27,
          25,
          25,
          29,
          39,
          37,
          33,
          31,
          33,
          31,
          31,
          31,
          31,
          35,
          31,
          31,
          33,
          27,
          31,
          29,
          27,
          29,
          35,
          31,
          31,
          27,
          27,
          29,
          29,
          33,
          31,
          35,
          27,
          29,
          31,
          29,
          29,
          27,
          37,
          27,
          29,
          19,
          19,
          19,
          21,
          21,
          21,
          21,
          21,
          21,
          21,
          17,
          21,
          21,
          23,
          23,
          21,
          21,
          23,
          23,
          23,
          21,
          23,
          23,
          23,
          23,
          23,
          19,
          25,
          23,
          23,
          25,
          21,
          23,
          23,
          23,
          23,
          23,
          23,
          25,
          23,
          25,
          25,
          23,
          25,
          25,
          25,
          25,
          25,
          25,
          25,
          27,
          27,
          25,
          27,
          25,
          25,
          25,
          25,
          25,
          25,
          25,
          27,
          27,
          27,
          25,
          27,
          27,
          27,
          27,
          29,
          27,
          35,
          41,
          35,
          35,
          31,
          33,
          33,
          31,
          35,
          33,
          29,
          31,
          29,
          33,
          33,
          31,
          31,
          33,
          29,
          29,
          27,
          29,
          29,
          29,
          35,
          33,
          31,
          33,
          31,
          29,
          29,
          29,
          29,
          29,
          31,
          27,
          29,
          33,
          27,
          27,
          33,
          19,
          19,
          19,
          19,
          19,
          19,
          21,
          19,
          19,
          21,
          21,
          21,
          23,
          19,
          19,
          23,
          23,
          21,
          23,
          23,
          23,
          21,
          23,
          23,
          23,
          23,
          21,
          25,
          23,
          23,
          23,
          23,
          23,
          23,
          23,
          25,
          23,
          23,
          25,
          23,
          23,
          23,
          23,
          23,
          25,
          25,
          25,
          25,
          23,
          23,
          25,
          25,
          25,
          25,
          25,
          27,
          25,
          25,
          25,
          27,
          25,
          27,
          27,
          27,
          27,
          27,
          27,
          27,
          27,
          27,
          27,
          25,
          29,
          27,
          33,
          33,
          31,
          35,
          31,
          31,
          29,
          33,
          31,
          29,
          29,
          29,
          31,
          31,
          31,
          33,
          29,
          31,
          29,
          29,
          27,
          29,
          33,
          27,
          29,
          31,
          29,
          31,
          27,
          27,
          29,
          31,
          31,
          27,
          31,
          27,
          31,
          31,
          31,
          27,
          33,
          19,
          19,
          19,
          19,
          19,
          21,
          19,
          19,
          21,
          21,
          21,
          21,
          21,
          21,
          19,
          23,
          21,
          23,
          23,
          23,
          21,
          21,
          23,
          23,
          23,
          23,
          23,
          23,
          23,
          21,
          21,
          23,
          21,
          21,
          25,
          23,
          25,
          23,
          23,
          23,
          23,
          23,
          23,
          21,
          23,
          23,
          23,
          23,
          23,
          25,
          23,
          25,
          25,
          25,
          23,
          23,
          25,
          25,
          21,
          27,
          25,
          25,
          25,
          23,
          25,
          25,
          25,
          25,
          25,
          25,
          25,
          25,
          25,
          27,
          27,
          27,
          25,
          27,
          25,
          27,
          27,
          27,
          27,
          27,
          27,
          29,
          27,
          25,
          27,
          27,
          27,
          35,
          31,
          29,
          29,
          29,
          31,
          27,
          29,
          29,
          31,
          29,
          29,
          29,
          29,
          29,
          27,
          29,
          29,
          31,
          35,
          29,
          29,
          27,
          29,
          27,
          29,
          29,
          27,
          31,
          33,
          29,
          27,
          29,
          17,
          19,
          19,
          17,
          19,
          21,
          21,
          21,
          19,
          21,
          21,
          21,
          21,
          21,
          19,
          21,
          21,
          21,
          19,
          21,
          19,
          19,
          21,
          21,
          21,
          21,
          19,
          21,
          21,
          21,
          21,
          21,
          21,
          21,
          21,
          23,
          23,
          21,
          21,
          23,
          21,
          21,
          23,
          23,
          23,
          21,
          21,
          21,
          23,
          23,
          23,
          21,
          23,
          23,
          21,
          23,
          23,
          23,
          21,
          23,
          23,
          23,
          25,
          23,
          23,
          23,
          23,
          25,
          25,
          25,
          25,
          25,
          25,
          23,
          23,
          23,
          25,
          25,
          27,
          27,
          27,
          27,
          27,
          27,
          27,
          29,
          33,
          31,
          31,
          31,
          29,
          31,
          31,
          33,
          31,
          33,
          29,
          29,
          29,
          29,
          29,
          27,
          27,
          27,
          31,
          31,
          29,
          29,
          29,
          27,
          33,
          27,
          29,
          17,
          17,
          17,
          19,
          19,
          19,
          17,
          19,
          21,
          21,
          19,
          21,
          19,
          19,
          19,
          21,
          21,
          19,
          21,
          21,
          19,
          21,
          21,
          21,
          21,
          19,
          21,
          19,
          23,
          23,
          23,
          21,
          21,
          21,
          21,
          21,
          21,
          21,
          19,
          21,
          21,
          21,
          21,
          23,
          23,
          23,
          21,
          23,
          21,
          23,
          23,
          21,
          19,
          21,
          23,
          23,
          23,
          25,
          21,
          23,
          23,
          23,
          23,
          23,
          23,
          23,
          23,
          25,
          23,
          25,
          25,
          25,
          23,
          25,
          25,
          23,
          25,
          23,
          25,
          25,
          25,
          25,
          27,
          25,
          25,
          25,
          25,
          25,
          25,
          25,
          27,
          27,
          27,
          29,
          27,
          25,
          27,
          29,
          37,
          37,
          33,
          31,
          29,
          29,
          31,
          31,
          27,
          29,
          29,
          29,
          31,
          29,
          17,
          17,
          19,
          19,
          19,
          19,
          19,
          19,
          19,
          19,
          19,
          19,
          21,
          21,
          21,
          21,
          21,
          21,
          21,
          21,
          21,
          21,
          21,
          21,
          21,
          21,
          21,
          21,
          21,
          21,
          19,
          21,
          21,
          23,
          21,
          23,
          23,
          21,
          23,
          21,
          23,
          21,
          23,
          23,
          23,
          23,
          23,
          23,
          21,
          21,
          19,
          25,
          23,
          21,
          23,
          23,
          23,
          23,
          23,
          23,
          25,
          25,
          25,
          25,
          25,
          27,
          25,
          25,
          29,
          27,
          25,
          27,
          27,
          33,
          33,
          29,
          29,
          35,
          29,
          17,
          17,
          17,
          19,
          19,
          19,
          19,
          19,
          17,
          19,
          21,
          19,
          21,
          19,
          19,
          19,
          21,
          21,
          21,
          19,
          21,
          21,
          21,
          19,
          17,
          21,
          21,
          21,
          21,
          21,
          21,
          21,
          19,
          19,
          21,
          21,
          23,
          21,
          19,
          21,
          21,
          21,
          21,
          23,
          21,
          21,
          21,
          21,
          23,
          21,
          21,
          23,
          21,
          21,
          23,
          23,
          23,
          23,
          23,
          23,
          21,
          21,
          23,
          23,
          23,
          25,
          25,
          23,
          23,
          25,
          25,
          25,
          25,
          25,
          25,
          27,
          27,
          37,
          29,
          29,
          29,
          27,
          31,
          17,
          19,
          17,
          19,
          19,
          19,
          19,
          19,
          17,
          19,
          19,
          19,
          19,
          17,
          19,
          19,
          17,
          21,
          21,
          21,
          19,
          19,
          19,
          21,
          21,
          19,
          19,
          21,
          21,
          21,
          19,
          23,
          21,
          21,
          21,
          21,
          21,
          19,
          23,
          23,
          21,
          21,
          19,
          23,
          19,
          23,
          23,
          23,
          21,
          23,
          23,
          25,
          23,
          23,
          25,
          23,
          19,
          25,
          25,
          27,
          25,
          33,
          31,
          27,
          17,
          19,
          17,
          19,
          17,
          19,
          19,
          17,
          17,
          19,
          19,
          21,
          21,
          19,
          21,
          19,
          21,
          19,
          17,
          21,
          21,
          19,
          21,
          21,
          21,
          21,
          19,
          21,
          21,
          21,
          21,
          21,
          19,
          21,
          21,
          21,
          21,
          19,
          21,
          21,
          23,
          23,
          23,
          23,
          21,
          21,
          23,
          23,
          21,
          21,
          23,
          23,
          27,
          27,
          41,
          27,
          29,
          31,
          17,
          19,
          17,
          19,
          19,
          19,
          17,
          19,
          19,
          19,
          19,
          17,
          19,
          21,
          19,
          17,
          21,
          19,
          19,
          21,
          21,
          19,
          19,
          21,
          21,
          21,
          19,
          19,
          19,
          21,
          21,
          21,
          21,
          19,
          21,
          21,
          19,
          23,
          23,
          19,
          21,
          21,
          21,
          23,
          23,
          23,
          21,
          23,
          23,
          23,
          23,
          27,
          27,
          29,
          29,
          29,
          19,
          19,
          19,
          17,
          19,
          19,
          19,
          19,
          19,
          19,
          19,
          21,
          19,
          21,
          21,
          21,
          19,
          19,
          19,
          19,
          19,
          19,
          23,
          23,
          21,
          21,
          21,
          21,
          23,
          21,
          23,
          23,
          25,
          23,
          23,
          25,
          27,
          31,
          19,
          19,
          19,
          19,
          17,
          19,
          19,
          21,
          19,
          17,
          21,
          21,
          19,
          19,
          21,
          21,
          19,
          19,
          19,
          21,
          21,
          21,
          21,
          21,
          23,
          35,
          17,
          17,
          19,
          19,
          19,
          19,
          21,
          21,
          19,
          19,
          19,
          17,
          17,
          19,
          17,
          19,
          17,
          21,
          19,
          19,
          21,
          19,
          23,
          17,
          19,
          19,
          21,
          19,
          23,
          21,
          21,
          23,
          19,
          17,
          21,
          19,
          19,
          21,
          23,
          19,
          19,
          21,
          21,
          17,
          19,
          19,
          17,
          21,
          17,
          17,
          19
         ],
         "y0": " ",
         "yaxis": "y"
        }
       ],
       "layout": {
        "boxmode": "group",
        "legend": {
         "tracegroupgap": 0
        },
        "margin": {
         "t": 60
        },
        "template": {
         "data": {
          "bar": [
           {
            "error_x": {
             "color": "#2a3f5f"
            },
            "error_y": {
             "color": "#2a3f5f"
            },
            "marker": {
             "line": {
              "color": "#E5ECF6",
              "width": 0.5
             },
             "pattern": {
              "fillmode": "overlay",
              "size": 10,
              "solidity": 0.2
             }
            },
            "type": "bar"
           }
          ],
          "barpolar": [
           {
            "marker": {
             "line": {
              "color": "#E5ECF6",
              "width": 0.5
             },
             "pattern": {
              "fillmode": "overlay",
              "size": 10,
              "solidity": 0.2
             }
            },
            "type": "barpolar"
           }
          ],
          "carpet": [
           {
            "aaxis": {
             "endlinecolor": "#2a3f5f",
             "gridcolor": "white",
             "linecolor": "white",
             "minorgridcolor": "white",
             "startlinecolor": "#2a3f5f"
            },
            "baxis": {
             "endlinecolor": "#2a3f5f",
             "gridcolor": "white",
             "linecolor": "white",
             "minorgridcolor": "white",
             "startlinecolor": "#2a3f5f"
            },
            "type": "carpet"
           }
          ],
          "choropleth": [
           {
            "colorbar": {
             "outlinewidth": 0,
             "ticks": ""
            },
            "type": "choropleth"
           }
          ],
          "contour": [
           {
            "colorbar": {
             "outlinewidth": 0,
             "ticks": ""
            },
            "colorscale": [
             [
              0,
              "#0d0887"
             ],
             [
              0.1111111111111111,
              "#46039f"
             ],
             [
              0.2222222222222222,
              "#7201a8"
             ],
             [
              0.3333333333333333,
              "#9c179e"
             ],
             [
              0.4444444444444444,
              "#bd3786"
             ],
             [
              0.5555555555555556,
              "#d8576b"
             ],
             [
              0.6666666666666666,
              "#ed7953"
             ],
             [
              0.7777777777777778,
              "#fb9f3a"
             ],
             [
              0.8888888888888888,
              "#fdca26"
             ],
             [
              1,
              "#f0f921"
             ]
            ],
            "type": "contour"
           }
          ],
          "contourcarpet": [
           {
            "colorbar": {
             "outlinewidth": 0,
             "ticks": ""
            },
            "type": "contourcarpet"
           }
          ],
          "heatmap": [
           {
            "colorbar": {
             "outlinewidth": 0,
             "ticks": ""
            },
            "colorscale": [
             [
              0,
              "#0d0887"
             ],
             [
              0.1111111111111111,
              "#46039f"
             ],
             [
              0.2222222222222222,
              "#7201a8"
             ],
             [
              0.3333333333333333,
              "#9c179e"
             ],
             [
              0.4444444444444444,
              "#bd3786"
             ],
             [
              0.5555555555555556,
              "#d8576b"
             ],
             [
              0.6666666666666666,
              "#ed7953"
             ],
             [
              0.7777777777777778,
              "#fb9f3a"
             ],
             [
              0.8888888888888888,
              "#fdca26"
             ],
             [
              1,
              "#f0f921"
             ]
            ],
            "type": "heatmap"
           }
          ],
          "heatmapgl": [
           {
            "colorbar": {
             "outlinewidth": 0,
             "ticks": ""
            },
            "colorscale": [
             [
              0,
              "#0d0887"
             ],
             [
              0.1111111111111111,
              "#46039f"
             ],
             [
              0.2222222222222222,
              "#7201a8"
             ],
             [
              0.3333333333333333,
              "#9c179e"
             ],
             [
              0.4444444444444444,
              "#bd3786"
             ],
             [
              0.5555555555555556,
              "#d8576b"
             ],
             [
              0.6666666666666666,
              "#ed7953"
             ],
             [
              0.7777777777777778,
              "#fb9f3a"
             ],
             [
              0.8888888888888888,
              "#fdca26"
             ],
             [
              1,
              "#f0f921"
             ]
            ],
            "type": "heatmapgl"
           }
          ],
          "histogram": [
           {
            "marker": {
             "pattern": {
              "fillmode": "overlay",
              "size": 10,
              "solidity": 0.2
             }
            },
            "type": "histogram"
           }
          ],
          "histogram2d": [
           {
            "colorbar": {
             "outlinewidth": 0,
             "ticks": ""
            },
            "colorscale": [
             [
              0,
              "#0d0887"
             ],
             [
              0.1111111111111111,
              "#46039f"
             ],
             [
              0.2222222222222222,
              "#7201a8"
             ],
             [
              0.3333333333333333,
              "#9c179e"
             ],
             [
              0.4444444444444444,
              "#bd3786"
             ],
             [
              0.5555555555555556,
              "#d8576b"
             ],
             [
              0.6666666666666666,
              "#ed7953"
             ],
             [
              0.7777777777777778,
              "#fb9f3a"
             ],
             [
              0.8888888888888888,
              "#fdca26"
             ],
             [
              1,
              "#f0f921"
             ]
            ],
            "type": "histogram2d"
           }
          ],
          "histogram2dcontour": [
           {
            "colorbar": {
             "outlinewidth": 0,
             "ticks": ""
            },
            "colorscale": [
             [
              0,
              "#0d0887"
             ],
             [
              0.1111111111111111,
              "#46039f"
             ],
             [
              0.2222222222222222,
              "#7201a8"
             ],
             [
              0.3333333333333333,
              "#9c179e"
             ],
             [
              0.4444444444444444,
              "#bd3786"
             ],
             [
              0.5555555555555556,
              "#d8576b"
             ],
             [
              0.6666666666666666,
              "#ed7953"
             ],
             [
              0.7777777777777778,
              "#fb9f3a"
             ],
             [
              0.8888888888888888,
              "#fdca26"
             ],
             [
              1,
              "#f0f921"
             ]
            ],
            "type": "histogram2dcontour"
           }
          ],
          "mesh3d": [
           {
            "colorbar": {
             "outlinewidth": 0,
             "ticks": ""
            },
            "type": "mesh3d"
           }
          ],
          "parcoords": [
           {
            "line": {
             "colorbar": {
              "outlinewidth": 0,
              "ticks": ""
             }
            },
            "type": "parcoords"
           }
          ],
          "pie": [
           {
            "automargin": true,
            "type": "pie"
           }
          ],
          "scatter": [
           {
            "marker": {
             "colorbar": {
              "outlinewidth": 0,
              "ticks": ""
             }
            },
            "type": "scatter"
           }
          ],
          "scatter3d": [
           {
            "line": {
             "colorbar": {
              "outlinewidth": 0,
              "ticks": ""
             }
            },
            "marker": {
             "colorbar": {
              "outlinewidth": 0,
              "ticks": ""
             }
            },
            "type": "scatter3d"
           }
          ],
          "scattercarpet": [
           {
            "marker": {
             "colorbar": {
              "outlinewidth": 0,
              "ticks": ""
             }
            },
            "type": "scattercarpet"
           }
          ],
          "scattergeo": [
           {
            "marker": {
             "colorbar": {
              "outlinewidth": 0,
              "ticks": ""
             }
            },
            "type": "scattergeo"
           }
          ],
          "scattergl": [
           {
            "marker": {
             "colorbar": {
              "outlinewidth": 0,
              "ticks": ""
             }
            },
            "type": "scattergl"
           }
          ],
          "scattermapbox": [
           {
            "marker": {
             "colorbar": {
              "outlinewidth": 0,
              "ticks": ""
             }
            },
            "type": "scattermapbox"
           }
          ],
          "scatterpolar": [
           {
            "marker": {
             "colorbar": {
              "outlinewidth": 0,
              "ticks": ""
             }
            },
            "type": "scatterpolar"
           }
          ],
          "scatterpolargl": [
           {
            "marker": {
             "colorbar": {
              "outlinewidth": 0,
              "ticks": ""
             }
            },
            "type": "scatterpolargl"
           }
          ],
          "scatterternary": [
           {
            "marker": {
             "colorbar": {
              "outlinewidth": 0,
              "ticks": ""
             }
            },
            "type": "scatterternary"
           }
          ],
          "surface": [
           {
            "colorbar": {
             "outlinewidth": 0,
             "ticks": ""
            },
            "colorscale": [
             [
              0,
              "#0d0887"
             ],
             [
              0.1111111111111111,
              "#46039f"
             ],
             [
              0.2222222222222222,
              "#7201a8"
             ],
             [
              0.3333333333333333,
              "#9c179e"
             ],
             [
              0.4444444444444444,
              "#bd3786"
             ],
             [
              0.5555555555555556,
              "#d8576b"
             ],
             [
              0.6666666666666666,
              "#ed7953"
             ],
             [
              0.7777777777777778,
              "#fb9f3a"
             ],
             [
              0.8888888888888888,
              "#fdca26"
             ],
             [
              1,
              "#f0f921"
             ]
            ],
            "type": "surface"
           }
          ],
          "table": [
           {
            "cells": {
             "fill": {
              "color": "#EBF0F8"
             },
             "line": {
              "color": "white"
             }
            },
            "header": {
             "fill": {
              "color": "#C8D4E3"
             },
             "line": {
              "color": "white"
             }
            },
            "type": "table"
           }
          ]
         },
         "layout": {
          "annotationdefaults": {
           "arrowcolor": "#2a3f5f",
           "arrowhead": 0,
           "arrowwidth": 1
          },
          "autotypenumbers": "strict",
          "coloraxis": {
           "colorbar": {
            "outlinewidth": 0,
            "ticks": ""
           }
          },
          "colorscale": {
           "diverging": [
            [
             0,
             "#8e0152"
            ],
            [
             0.1,
             "#c51b7d"
            ],
            [
             0.2,
             "#de77ae"
            ],
            [
             0.3,
             "#f1b6da"
            ],
            [
             0.4,
             "#fde0ef"
            ],
            [
             0.5,
             "#f7f7f7"
            ],
            [
             0.6,
             "#e6f5d0"
            ],
            [
             0.7,
             "#b8e186"
            ],
            [
             0.8,
             "#7fbc41"
            ],
            [
             0.9,
             "#4d9221"
            ],
            [
             1,
             "#276419"
            ]
           ],
           "sequential": [
            [
             0,
             "#0d0887"
            ],
            [
             0.1111111111111111,
             "#46039f"
            ],
            [
             0.2222222222222222,
             "#7201a8"
            ],
            [
             0.3333333333333333,
             "#9c179e"
            ],
            [
             0.4444444444444444,
             "#bd3786"
            ],
            [
             0.5555555555555556,
             "#d8576b"
            ],
            [
             0.6666666666666666,
             "#ed7953"
            ],
            [
             0.7777777777777778,
             "#fb9f3a"
            ],
            [
             0.8888888888888888,
             "#fdca26"
            ],
            [
             1,
             "#f0f921"
            ]
           ],
           "sequentialminus": [
            [
             0,
             "#0d0887"
            ],
            [
             0.1111111111111111,
             "#46039f"
            ],
            [
             0.2222222222222222,
             "#7201a8"
            ],
            [
             0.3333333333333333,
             "#9c179e"
            ],
            [
             0.4444444444444444,
             "#bd3786"
            ],
            [
             0.5555555555555556,
             "#d8576b"
            ],
            [
             0.6666666666666666,
             "#ed7953"
            ],
            [
             0.7777777777777778,
             "#fb9f3a"
            ],
            [
             0.8888888888888888,
             "#fdca26"
            ],
            [
             1,
             "#f0f921"
            ]
           ]
          },
          "colorway": [
           "#636efa",
           "#EF553B",
           "#00cc96",
           "#ab63fa",
           "#FFA15A",
           "#19d3f3",
           "#FF6692",
           "#B6E880",
           "#FF97FF",
           "#FECB52"
          ],
          "font": {
           "color": "#2a3f5f"
          },
          "geo": {
           "bgcolor": "white",
           "lakecolor": "white",
           "landcolor": "#E5ECF6",
           "showlakes": true,
           "showland": true,
           "subunitcolor": "white"
          },
          "hoverlabel": {
           "align": "left"
          },
          "hovermode": "closest",
          "mapbox": {
           "style": "light"
          },
          "paper_bgcolor": "white",
          "plot_bgcolor": "#E5ECF6",
          "polar": {
           "angularaxis": {
            "gridcolor": "white",
            "linecolor": "white",
            "ticks": ""
           },
           "bgcolor": "#E5ECF6",
           "radialaxis": {
            "gridcolor": "white",
            "linecolor": "white",
            "ticks": ""
           }
          },
          "scene": {
           "xaxis": {
            "backgroundcolor": "#E5ECF6",
            "gridcolor": "white",
            "gridwidth": 2,
            "linecolor": "white",
            "showbackground": true,
            "ticks": "",
            "zerolinecolor": "white"
           },
           "yaxis": {
            "backgroundcolor": "#E5ECF6",
            "gridcolor": "white",
            "gridwidth": 2,
            "linecolor": "white",
            "showbackground": true,
            "ticks": "",
            "zerolinecolor": "white"
           },
           "zaxis": {
            "backgroundcolor": "#E5ECF6",
            "gridcolor": "white",
            "gridwidth": 2,
            "linecolor": "white",
            "showbackground": true,
            "ticks": "",
            "zerolinecolor": "white"
           }
          },
          "shapedefaults": {
           "line": {
            "color": "#2a3f5f"
           }
          },
          "ternary": {
           "aaxis": {
            "gridcolor": "white",
            "linecolor": "white",
            "ticks": ""
           },
           "baxis": {
            "gridcolor": "white",
            "linecolor": "white",
            "ticks": ""
           },
           "bgcolor": "#E5ECF6",
           "caxis": {
            "gridcolor": "white",
            "linecolor": "white",
            "ticks": ""
           }
          },
          "title": {
           "x": 0.05
          },
          "xaxis": {
           "automargin": true,
           "gridcolor": "white",
           "linecolor": "white",
           "ticks": "",
           "title": {
            "standoff": 15
           },
           "zerolinecolor": "white",
           "zerolinewidth": 2
          },
          "yaxis": {
           "automargin": true,
           "gridcolor": "white",
           "linecolor": "white",
           "ticks": "",
           "title": {
            "standoff": 15
           },
           "zerolinecolor": "white",
           "zerolinewidth": 2
          }
         }
        },
        "xaxis": {
         "anchor": "y",
         "domain": [
          0,
          1
         ],
         "title": {
          "text": "nationality"
         }
        },
        "yaxis": {
         "anchor": "x",
         "domain": [
          0,
          1
         ],
         "title": {
          "text": "age"
         }
        }
       }
      },
      "text/html": [
       "<div>                            <div id=\"45cb2644-6bf8-4f74-a283-351b4ba69d07\" class=\"plotly-graph-div\" style=\"height:525px; width:100%;\"></div>            <script type=\"text/javascript\">                require([\"plotly\"], function(Plotly) {                    window.PLOTLYENV=window.PLOTLYENV || {};                                    if (document.getElementById(\"45cb2644-6bf8-4f74-a283-351b4ba69d07\")) {                    Plotly.newPlot(                        \"45cb2644-6bf8-4f74-a283-351b4ba69d07\",                        [{\"alignmentgroup\":\"True\",\"boxpoints\":\"all\",\"hovertemplate\":\"nationality=%{x}<br>age=%{y}<extra></extra>\",\"legendgroup\":\"\",\"marker\":{\"color\":\"#636efa\"},\"name\":\"\",\"notched\":false,\"offsetgroup\":\"\",\"orientation\":\"v\",\"showlegend\":false,\"x\":[\"Argentina\",\"Portugal\",\"France\",\"Brazil\",\"Germany\",\"France\",\"Portugal\",\"Portugal\",\"France\",\"France\",\"France\",\"France\",\"Germany\",\"Germany\",\"France\",\"Argentina\",\"Brazil\",\"Germany\",\"Brazil\",\"Brazil\",\"Germany\",\"Brazil\",\"Brazil\",\"Brazil\",\"Brazil\",\"France\",\"Brazil\",\"Argentina\",\"France\",\"France\",\"Brazil\",\"Portugal\",\"Brazil\",\"Portugal\",\"France\",\"France\",\"Germany\",\"Brazil\",\"Germany\",\"France\",\"Brazil\",\"Brazil\",\"Portugal\",\"Portugal\",\"France\",\"Argentina\",\"Brazil\",\"Argentina\",\"Germany\",\"France\",\"Germany\",\"Brazil\",\"Germany\",\"France\",\"Germany\",\"Brazil\",\"Portugal\",\"Portugal\",\"France\",\"Brazil\",\"France\",\"Argentina\",\"Argentina\",\"Germany\",\"Brazil\",\"Argentina\",\"France\",\"Portugal\",\"France\",\"France\",\"Germany\",\"Germany\",\"Argentina\",\"Germany\",\"Brazil\",\"Brazil\",\"France\",\"France\",\"Portugal\",\"Brazil\",\"France\",\"Brazil\",\"France\",\"France\",\"Portugal\",\"Germany\",\"France\",\"France\",\"France\",\"Portugal\",\"Portugal\",\"Brazil\",\"Argentina\",\"Brazil\",\"Germany\",\"France\",\"Brazil\",\"France\",\"Portugal\",\"France\",\"Argentina\",\"France\",\"Brazil\",\"Germany\",\"France\",\"France\",\"Brazil\",\"Brazil\",\"France\",\"France\",\"France\",\"France\",\"France\",\"Brazil\",\"Portugal\",\"Portugal\",\"France\",\"France\",\"Portugal\",\"France\",\"Argentina\",\"Germany\",\"France\",\"Portugal\",\"Brazil\",\"France\",\"Portugal\",\"Brazil\",\"Brazil\",\"Argentina\",\"France\",\"Germany\",\"France\",\"Portugal\",\"Argentina\",\"Germany\",\"France\",\"Portugal\",\"Argentina\",\"Brazil\",\"Portugal\",\"France\",\"France\",\"Argentina\",\"Argentina\",\"Argentina\",\"Argentina\",\"France\",\"Argentina\",\"Argentina\",\"Brazil\",\"Brazil\",\"Argentina\",\"Germany\",\"France\",\"Argentina\",\"France\",\"Germany\",\"Brazil\",\"Brazil\",\"Germany\",\"Germany\",\"Argentina\",\"Portugal\",\"Argentina\",\"France\",\"Brazil\",\"France\",\"Argentina\",\"Portugal\",\"Argentina\",\"Germany\",\"Germany\",\"France\",\"France\",\"France\",\"Brazil\",\"Germany\",\"France\",\"Brazil\",\"Argentina\",\"France\",\"Portugal\",\"France\",\"Germany\",\"Portugal\",\"Argentina\",\"Brazil\",\"France\",\"Germany\",\"Argentina\",\"France\",\"Brazil\",\"Brazil\",\"Germany\",\"Argentina\",\"Brazil\",\"Argentina\",\"France\",\"Brazil\",\"France\",\"Germany\",\"France\",\"Argentina\",\"Argentina\",\"Germany\",\"Argentina\",\"Argentina\",\"Argentina\",\"Brazil\",\"Brazil\",\"France\",\"Portugal\",\"France\",\"Germany\",\"Germany\",\"France\",\"Germany\",\"Argentina\",\"Portugal\",\"France\",\"Germany\",\"France\",\"France\",\"Brazil\",\"Brazil\",\"Germany\",\"Brazil\",\"Brazil\",\"France\",\"France\",\"Argentina\",\"Germany\",\"Portugal\",\"Argentina\",\"Germany\",\"Portugal\",\"Argentina\",\"Argentina\",\"Argentina\",\"Argentina\",\"France\",\"Brazil\",\"Germany\",\"Portugal\",\"Brazil\",\"Portugal\",\"Brazil\",\"Germany\",\"France\",\"France\",\"Brazil\",\"Brazil\",\"France\",\"Brazil\",\"Brazil\",\"France\",\"Argentina\",\"Germany\",\"Argentina\",\"Argentina\",\"Brazil\",\"Portugal\",\"Argentina\",\"Brazil\",\"Portugal\",\"Portugal\",\"France\",\"France\",\"Brazil\",\"Brazil\",\"France\",\"Portugal\",\"France\",\"France\",\"Germany\",\"France\",\"France\",\"Germany\",\"France\",\"Portugal\",\"France\",\"Argentina\",\"Portugal\",\"Portugal\",\"Portugal\",\"Brazil\",\"Argentina\",\"France\",\"Portugal\",\"Argentina\",\"Germany\",\"Portugal\",\"Argentina\",\"Germany\",\"Argentina\",\"Argentina\",\"Argentina\",\"Argentina\",\"France\",\"Brazil\",\"Germany\",\"Argentina\",\"Portugal\",\"Germany\",\"Germany\",\"France\",\"Argentina\",\"Argentina\",\"Argentina\",\"France\",\"France\",\"Argentina\",\"France\",\"Argentina\",\"Argentina\",\"Argentina\",\"France\",\"Argentina\",\"Argentina\",\"Argentina\",\"France\",\"Argentina\",\"Argentina\",\"Brazil\",\"Brazil\",\"Portugal\",\"Germany\",\"Germany\",\"France\",\"Portugal\",\"France\",\"France\",\"Argentina\",\"France\",\"Argentina\",\"Argentina\",\"Argentina\",\"France\",\"Brazil\",\"Germany\",\"Brazil\",\"Brazil\",\"Argentina\",\"France\",\"Brazil\",\"Brazil\",\"Portugal\",\"Argentina\",\"Argentina\",\"France\",\"Brazil\",\"Argentina\",\"Argentina\",\"Brazil\",\"Argentina\",\"France\",\"Brazil\",\"Argentina\",\"Brazil\",\"Brazil\",\"France\",\"France\",\"Germany\",\"Germany\",\"Germany\",\"France\",\"Germany\",\"Brazil\",\"Brazil\",\"Brazil\",\"Brazil\",\"Germany\",\"Portugal\",\"Brazil\",\"Brazil\",\"Argentina\",\"Argentina\",\"Brazil\",\"Brazil\",\"Argentina\",\"Portugal\",\"France\",\"Argentina\",\"Argentina\",\"France\",\"Portugal\",\"France\",\"Brazil\",\"France\",\"France\",\"France\",\"Portugal\",\"Germany\",\"Portugal\",\"France\",\"Portugal\",\"Argentina\",\"Argentina\",\"Portugal\",\"France\",\"Germany\",\"Germany\",\"France\",\"Argentina\",\"Brazil\",\"Germany\",\"Brazil\",\"Germany\",\"Germany\",\"Germany\",\"Portugal\",\"Argentina\",\"Argentina\",\"Brazil\",\"Argentina\",\"Argentina\",\"France\",\"Portugal\",\"France\",\"Germany\",\"Germany\",\"Germany\",\"Argentina\",\"Portugal\",\"France\",\"Portugal\",\"Brazil\",\"Germany\",\"France\",\"Argentina\",\"Brazil\",\"France\",\"Germany\",\"Brazil\",\"Brazil\",\"France\",\"Brazil\",\"Argentina\",\"France\",\"Brazil\",\"Germany\",\"Brazil\",\"Germany\",\"Portugal\",\"Germany\",\"Germany\",\"France\",\"Germany\",\"France\",\"Germany\",\"France\",\"France\",\"Argentina\",\"France\",\"Argentina\",\"Argentina\",\"Argentina\",\"Argentina\",\"Argentina\",\"Argentina\",\"Argentina\",\"France\",\"Argentina\",\"Brazil\",\"Germany\",\"Brazil\",\"Portugal\",\"Argentina\",\"Germany\",\"Brazil\",\"France\",\"Germany\",\"Argentina\",\"Brazil\",\"Argentina\",\"Germany\",\"France\",\"France\",\"Portugal\",\"Brazil\",\"Argentina\",\"France\",\"France\",\"France\",\"Argentina\",\"Brazil\",\"Portugal\",\"Brazil\",\"France\",\"Argentina\",\"Brazil\",\"Argentina\",\"Germany\",\"Argentina\",\"Argentina\",\"Argentina\",\"Portugal\",\"Argentina\",\"Argentina\",\"Germany\",\"Brazil\",\"France\",\"Portugal\",\"Germany\",\"Germany\",\"Germany\",\"Germany\",\"Argentina\",\"France\",\"Portugal\",\"Argentina\",\"Argentina\",\"Argentina\",\"France\",\"Argentina\",\"Portugal\",\"France\",\"France\",\"Portugal\",\"Portugal\",\"France\",\"France\",\"Brazil\",\"Argentina\",\"Argentina\",\"Brazil\",\"Brazil\",\"France\",\"Germany\",\"Brazil\",\"Germany\",\"Argentina\",\"Argentina\",\"Brazil\",\"Brazil\",\"Argentina\",\"Portugal\",\"Argentina\",\"Germany\",\"Brazil\",\"Brazil\",\"France\",\"France\",\"France\",\"Germany\",\"Brazil\",\"Argentina\",\"France\",\"Germany\",\"France\",\"France\",\"Brazil\",\"Brazil\",\"Germany\",\"Germany\",\"Portugal\",\"Brazil\",\"Germany\",\"Argentina\",\"Argentina\",\"Argentina\",\"Argentina\",\"Argentina\",\"Argentina\",\"Argentina\",\"Argentina\",\"Portugal\",\"Argentina\",\"Portugal\",\"Germany\",\"Argentina\",\"Argentina\",\"Portugal\",\"Argentina\",\"France\",\"Brazil\",\"France\",\"France\",\"Argentina\",\"Brazil\",\"Argentina\",\"Portugal\",\"France\",\"Argentina\",\"Portugal\",\"Brazil\",\"France\",\"Brazil\",\"Brazil\",\"Portugal\",\"Portugal\",\"Portugal\",\"Argentina\",\"Brazil\",\"Argentina\",\"Brazil\",\"France\",\"Germany\",\"Germany\",\"Germany\",\"Portugal\",\"Brazil\",\"Portugal\",\"Germany\",\"Brazil\",\"Germany\",\"Germany\",\"Germany\",\"Germany\",\"France\",\"Germany\",\"Portugal\",\"Argentina\",\"France\",\"Germany\",\"Portugal\",\"France\",\"France\",\"Argentina\",\"Brazil\",\"Germany\",\"Germany\",\"France\",\"Germany\",\"Germany\",\"Brazil\",\"Germany\",\"France\",\"Brazil\",\"Portugal\",\"Argentina\",\"Brazil\",\"Argentina\",\"Brazil\",\"Brazil\",\"Germany\",\"Argentina\",\"Portugal\",\"Argentina\",\"Argentina\",\"France\",\"France\",\"Argentina\",\"Brazil\",\"France\",\"Germany\",\"Germany\",\"Germany\",\"Germany\",\"Germany\",\"Brazil\",\"Brazil\",\"Brazil\",\"Brazil\",\"Germany\",\"Germany\",\"Germany\",\"Brazil\",\"Argentina\",\"Argentina\",\"Argentina\",\"Brazil\",\"Argentina\",\"Argentina\",\"Brazil\",\"Argentina\",\"Argentina\",\"France\",\"Germany\",\"Argentina\",\"France\",\"Argentina\",\"Argentina\",\"France\",\"Portugal\",\"Argentina\",\"Argentina\",\"Brazil\",\"Portugal\",\"Argentina\",\"Argentina\",\"France\",\"Argentina\",\"France\",\"Germany\",\"Argentina\",\"Germany\",\"Argentina\",\"France\",\"Argentina\",\"Argentina\",\"France\",\"Argentina\",\"France\",\"Germany\",\"France\",\"Germany\",\"Argentina\",\"Germany\",\"France\",\"Germany\",\"Germany\",\"Germany\",\"Brazil\",\"France\",\"France\",\"Argentina\",\"Germany\",\"Germany\",\"Argentina\",\"Brazil\",\"France\",\"Argentina\",\"Germany\",\"Argentina\",\"Brazil\",\"Germany\",\"France\",\"Brazil\",\"Brazil\",\"Portugal\",\"Germany\",\"Argentina\",\"France\",\"Brazil\",\"Brazil\",\"Germany\",\"Brazil\",\"France\",\"Germany\",\"Germany\",\"Germany\",\"Argentina\",\"Argentina\",\"Argentina\",\"Argentina\",\"Argentina\",\"France\",\"Germany\",\"Argentina\",\"France\",\"Germany\",\"Portugal\",\"Germany\",\"Argentina\",\"Portugal\",\"France\",\"Germany\",\"Germany\",\"France\",\"Argentina\",\"Argentina\",\"France\",\"Brazil\",\"Germany\",\"Brazil\",\"France\",\"Germany\",\"Germany\",\"Argentina\",\"Argentina\",\"Brazil\",\"Germany\",\"Germany\",\"Germany\",\"France\",\"Argentina\",\"Argentina\",\"Argentina\",\"Argentina\",\"Argentina\",\"Germany\",\"Argentina\",\"Argentina\",\"Argentina\",\"Argentina\",\"Brazil\",\"Portugal\",\"Argentina\",\"Argentina\",\"Portugal\",\"Brazil\",\"Germany\",\"Portugal\",\"Germany\",\"Portugal\",\"Brazil\",\"Argentina\",\"Argentina\",\"Argentina\",\"Portugal\",\"France\",\"Argentina\",\"Argentina\",\"Argentina\",\"Germany\",\"Portugal\",\"Brazil\",\"Argentina\",\"France\",\"France\",\"France\",\"France\",\"Germany\",\"Brazil\",\"Portugal\",\"Argentina\",\"Germany\",\"Germany\",\"Portugal\",\"Germany\",\"Argentina\",\"France\",\"Germany\",\"Brazil\",\"Argentina\",\"France\",\"Argentina\",\"Germany\",\"Argentina\",\"Brazil\",\"Germany\",\"France\",\"Brazil\",\"Brazil\",\"Portugal\",\"Brazil\",\"Germany\",\"Argentina\",\"Brazil\",\"Germany\",\"Germany\",\"France\",\"Argentina\",\"Argentina\",\"Brazil\",\"Argentina\",\"France\",\"Brazil\",\"Portugal\",\"France\",\"Germany\",\"Portugal\",\"Argentina\",\"Argentina\",\"Argentina\",\"Germany\",\"Germany\",\"Germany\",\"Argentina\",\"Germany\",\"Argentina\",\"Portugal\",\"Argentina\",\"France\",\"Argentina\",\"Brazil\",\"Brazil\",\"France\",\"Germany\",\"Germany\",\"Germany\",\"Argentina\",\"France\",\"Germany\",\"Brazil\",\"Germany\",\"Argentina\",\"Portugal\",\"Portugal\",\"Germany\",\"Germany\",\"Germany\",\"Portugal\",\"Portugal\",\"Germany\",\"Argentina\",\"Germany\",\"Argentina\",\"Argentina\",\"Argentina\",\"Argentina\",\"Argentina\",\"France\",\"Portugal\",\"Argentina\",\"Argentina\",\"Brazil\",\"Brazil\",\"Argentina\",\"Argentina\",\"Brazil\",\"Argentina\",\"Argentina\",\"Portugal\",\"Brazil\",\"Germany\",\"Argentina\",\"Argentina\",\"Argentina\",\"Germany\",\"France\",\"Argentina\",\"Argentina\",\"Argentina\",\"France\",\"Germany\",\"Brazil\",\"Germany\",\"Argentina\",\"Argentina\",\"Brazil\",\"Germany\",\"Germany\",\"Germany\",\"France\",\"Argentina\",\"Brazil\",\"France\",\"France\",\"France\",\"Germany\",\"Argentina\",\"France\",\"France\",\"Germany\",\"Argentina\",\"Germany\",\"Germany\",\"Germany\",\"France\",\"Germany\",\"Germany\",\"Germany\",\"Portugal\",\"Brazil\",\"Germany\",\"Brazil\",\"Brazil\",\"Brazil\",\"Portugal\",\"France\",\"Brazil\",\"Brazil\",\"France\",\"Brazil\",\"Brazil\",\"Germany\",\"Portugal\",\"Brazil\",\"Brazil\",\"Brazil\",\"Germany\",\"Germany\",\"Brazil\",\"Brazil\",\"Germany\",\"Argentina\",\"France\",\"Brazil\",\"Portugal\",\"France\",\"France\",\"Portugal\",\"France\",\"France\",\"France\",\"Germany\",\"France\",\"Argentina\",\"Brazil\",\"Argentina\",\"France\",\"Germany\",\"Portugal\",\"Argentina\",\"Germany\",\"Germany\",\"Portugal\",\"Brazil\",\"Argentina\",\"Argentina\",\"Argentina\",\"Argentina\",\"Argentina\",\"Portugal\",\"Argentina\",\"Argentina\",\"Brazil\",\"Argentina\",\"France\",\"Argentina\",\"Argentina\",\"Argentina\",\"France\",\"Germany\",\"France\",\"Germany\",\"Argentina\",\"France\",\"Germany\",\"Portugal\",\"Germany\",\"Argentina\",\"France\",\"Germany\",\"Germany\",\"Argentina\",\"Germany\",\"Germany\",\"France\",\"Germany\",\"Argentina\",\"France\",\"Argentina\",\"Brazil\",\"Portugal\",\"Germany\",\"Argentina\",\"Brazil\",\"France\",\"Germany\",\"Germany\",\"Germany\",\"Argentina\",\"Brazil\",\"Argentina\",\"France\",\"Germany\",\"France\",\"Germany\",\"Germany\",\"Germany\",\"Brazil\",\"Portugal\",\"Portugal\",\"Germany\",\"Brazil\",\"Argentina\",\"Germany\",\"Germany\",\"France\",\"Portugal\",\"Brazil\",\"Germany\",\"Brazil\",\"Germany\",\"Argentina\",\"Argentina\",\"Germany\",\"Germany\",\"Argentina\",\"France\",\"Germany\",\"Germany\",\"Brazil\",\"Argentina\",\"France\",\"Brazil\",\"France\",\"Brazil\",\"Germany\",\"Argentina\",\"Brazil\",\"France\",\"France\",\"Argentina\",\"France\",\"Argentina\",\"Germany\",\"France\",\"Germany\",\"France\",\"Argentina\",\"Brazil\",\"Brazil\",\"Brazil\",\"Germany\",\"Argentina\",\"Germany\",\"Germany\",\"Germany\",\"France\",\"Germany\",\"Germany\",\"Germany\",\"Portugal\",\"Portugal\",\"Germany\",\"France\",\"Argentina\",\"Germany\",\"Argentina\",\"Argentina\",\"Argentina\",\"Argentina\",\"France\",\"Argentina\",\"Portugal\",\"Portugal\",\"Germany\",\"Argentina\",\"Portugal\",\"France\",\"France\",\"Argentina\",\"Portugal\",\"Germany\",\"Germany\",\"France\",\"France\",\"Germany\",\"Argentina\",\"Brazil\",\"Portugal\",\"Germany\",\"Argentina\",\"Argentina\",\"Brazil\",\"France\",\"France\",\"Argentina\",\"Argentina\",\"Germany\",\"France\",\"Germany\",\"Argentina\",\"Portugal\",\"Germany\",\"France\",\"Germany\",\"Germany\",\"Brazil\",\"Brazil\",\"France\",\"Germany\",\"Germany\",\"Portugal\",\"Argentina\",\"France\",\"Brazil\",\"Argentina\",\"Brazil\",\"Germany\",\"Argentina\",\"Brazil\",\"Brazil\",\"Germany\",\"Brazil\",\"Brazil\",\"Brazil\",\"France\",\"Germany\",\"Argentina\",\"Brazil\",\"Germany\",\"Brazil\",\"Germany\",\"Portugal\",\"Germany\",\"France\",\"Germany\",\"Brazil\",\"Argentina\",\"Brazil\",\"France\",\"Germany\",\"Germany\",\"Germany\",\"Germany\",\"Germany\",\"Portugal\",\"Argentina\",\"Argentina\",\"Portugal\",\"Argentina\",\"France\",\"Germany\",\"Germany\",\"Brazil\",\"Portugal\",\"France\",\"Germany\",\"Germany\",\"France\",\"Germany\",\"France\",\"Germany\",\"Germany\",\"Germany\",\"Germany\",\"France\",\"Germany\",\"France\",\"Germany\",\"Germany\",\"Germany\",\"France\",\"France\",\"France\",\"Germany\",\"Germany\",\"Argentina\",\"Germany\",\"Germany\",\"Germany\",\"Brazil\",\"France\",\"Germany\",\"Argentina\",\"Portugal\",\"Argentina\",\"Germany\",\"Germany\",\"Germany\",\"France\",\"Argentina\",\"Argentina\",\"Brazil\",\"Portugal\",\"France\",\"Germany\",\"France\",\"France\",\"Germany\",\"Germany\",\"France\",\"France\",\"France\",\"Argentina\",\"Germany\",\"France\",\"Brazil\",\"France\",\"Germany\",\"Germany\",\"Argentina\",\"Argentina\",\"Germany\",\"France\",\"Germany\",\"Brazil\",\"France\",\"Argentina\",\"France\",\"Portugal\",\"Argentina\",\"France\",\"Brazil\",\"Germany\",\"Germany\",\"France\",\"France\",\"Argentina\",\"France\",\"France\",\"Germany\",\"France\",\"Germany\",\"Argentina\",\"Germany\",\"Brazil\",\"Argentina\",\"Germany\",\"France\",\"Germany\",\"Germany\",\"Germany\",\"Germany\",\"Brazil\",\"Brazil\",\"Germany\",\"France\",\"Argentina\",\"France\",\"Germany\",\"Germany\",\"Portugal\",\"Brazil\",\"Brazil\",\"Germany\",\"Germany\",\"Germany\",\"Germany\",\"Germany\",\"Germany\",\"Argentina\",\"Argentina\",\"Argentina\",\"France\",\"Germany\",\"Germany\",\"Germany\",\"Germany\",\"Argentina\",\"Germany\",\"France\",\"Germany\",\"France\",\"France\",\"Germany\",\"Brazil\",\"Germany\",\"Germany\",\"Portugal\",\"Brazil\",\"Argentina\",\"Argentina\",\"Argentina\",\"Germany\",\"France\",\"Argentina\",\"Argentina\",\"Germany\",\"Argentina\",\"Germany\",\"Germany\",\"France\",\"Germany\",\"Germany\",\"Germany\",\"France\",\"Germany\",\"Germany\",\"Germany\",\"Germany\",\"Germany\",\"France\",\"France\",\"France\",\"Argentina\",\"Argentina\",\"France\",\"Germany\",\"Germany\",\"Germany\",\"Germany\",\"Germany\",\"Germany\",\"France\",\"France\",\"France\",\"France\",\"Brazil\",\"Brazil\",\"Argentina\",\"Argentina\",\"Germany\",\"France\",\"Germany\",\"France\",\"Argentina\",\"Portugal\",\"Brazil\",\"Germany\",\"Argentina\",\"Brazil\",\"Argentina\",\"Argentina\",\"Germany\",\"France\",\"Germany\",\"Germany\",\"Argentina\",\"Argentina\",\"France\",\"Brazil\",\"Germany\",\"Germany\",\"Germany\",\"France\",\"Argentina\",\"France\",\"France\",\"Argentina\",\"Germany\",\"Argentina\",\"Portugal\",\"Brazil\",\"France\",\"France\",\"France\",\"France\",\"Brazil\",\"France\",\"Germany\",\"France\",\"Portugal\",\"Germany\",\"Brazil\",\"France\",\"Germany\",\"Argentina\",\"Argentina\",\"Germany\",\"Brazil\",\"Argentina\",\"Germany\",\"Germany\",\"France\",\"Brazil\",\"Germany\",\"Argentina\",\"Argentina\",\"Germany\",\"Germany\",\"Brazil\",\"Brazil\",\"France\",\"Germany\",\"Germany\",\"Portugal\",\"France\",\"Germany\",\"France\",\"France\",\"Germany\",\"Germany\",\"Germany\",\"Germany\",\"France\",\"Germany\",\"Germany\",\"France\",\"France\",\"Germany\",\"Germany\",\"Germany\",\"France\",\"Argentina\",\"Germany\",\"Argentina\",\"Germany\",\"Germany\",\"France\",\"Germany\",\"Germany\",\"Germany\",\"Germany\",\"France\",\"Germany\",\"Germany\",\"Germany\",\"France\",\"Brazil\",\"Argentina\",\"Germany\",\"Germany\",\"Argentina\",\"Argentina\",\"Argentina\",\"France\",\"Germany\",\"Brazil\",\"France\",\"Argentina\",\"Germany\",\"Argentina\",\"Germany\",\"France\",\"France\",\"France\",\"Argentina\",\"France\",\"France\",\"Argentina\",\"Argentina\",\"France\",\"France\",\"Argentina\",\"France\",\"France\",\"France\",\"Argentina\",\"France\",\"France\",\"Portugal\",\"Argentina\",\"Argentina\",\"Argentina\",\"Argentina\",\"Argentina\",\"Germany\",\"France\",\"Brazil\",\"Germany\",\"Germany\",\"Brazil\",\"Germany\",\"Germany\",\"Germany\",\"Germany\",\"France\",\"Argentina\",\"France\",\"France\",\"Portugal\",\"France\",\"Portugal\",\"Argentina\",\"France\",\"Argentina\",\"Brazil\",\"Portugal\",\"Portugal\",\"Germany\",\"France\",\"France\",\"Germany\",\"Brazil\",\"Brazil\",\"Portugal\",\"Argentina\",\"Germany\",\"Germany\",\"Germany\",\"Germany\",\"Germany\",\"Germany\",\"Portugal\",\"Germany\",\"Argentina\",\"Germany\",\"Germany\",\"Germany\",\"Brazil\",\"Brazil\",\"Brazil\",\"Germany\",\"France\",\"Brazil\",\"France\",\"Portugal\",\"Germany\",\"Brazil\",\"Germany\",\"France\",\"Brazil\",\"Portugal\",\"France\",\"Germany\",\"Germany\",\"France\",\"Brazil\",\"Germany\",\"France\",\"Brazil\",\"Germany\",\"Brazil\",\"France\",\"Argentina\",\"Argentina\",\"Germany\",\"Germany\",\"Argentina\",\"Brazil\",\"Germany\",\"Germany\",\"Germany\",\"France\",\"Germany\",\"Germany\",\"France\",\"Germany\",\"Germany\",\"France\",\"Germany\",\"Argentina\",\"Argentina\",\"Germany\",\"Germany\",\"Portugal\",\"France\",\"Argentina\",\"France\",\"Germany\",\"France\",\"Argentina\",\"Argentina\",\"Germany\",\"Argentina\",\"Germany\",\"Germany\",\"Argentina\",\"Brazil\",\"Germany\",\"Portugal\",\"Germany\",\"Argentina\",\"Germany\",\"Argentina\",\"Brazil\",\"Brazil\",\"France\",\"Germany\",\"France\",\"France\",\"Germany\",\"France\",\"Germany\",\"France\",\"France\",\"Germany\",\"France\",\"Germany\",\"Germany\",\"Argentina\",\"Argentina\",\"Argentina\",\"Portugal\",\"Germany\",\"Portugal\",\"Argentina\",\"France\",\"Argentina\",\"Brazil\",\"Argentina\",\"Brazil\",\"Argentina\",\"Germany\",\"Germany\",\"Argentina\",\"Germany\",\"Argentina\",\"Germany\",\"Portugal\",\"Germany\",\"Germany\",\"Germany\",\"Germany\",\"Germany\",\"Argentina\",\"Brazil\",\"Portugal\",\"France\",\"Argentina\",\"Germany\",\"Germany\",\"Germany\",\"France\",\"France\",\"Germany\",\"France\",\"France\",\"Germany\",\"Germany\",\"Argentina\",\"Germany\",\"Argentina\",\"Argentina\",\"Argentina\",\"France\",\"Germany\",\"France\",\"Argentina\",\"Argentina\",\"Germany\",\"France\",\"France\",\"Argentina\",\"Germany\",\"France\",\"Germany\",\"Portugal\",\"Argentina\",\"Germany\",\"France\",\"France\",\"Germany\",\"France\",\"Argentina\",\"France\",\"France\",\"Portugal\",\"Brazil\",\"Argentina\",\"Portugal\",\"Portugal\",\"Germany\",\"France\",\"Germany\",\"Argentina\",\"France\",\"Germany\",\"France\",\"Germany\",\"Germany\",\"France\",\"France\",\"Argentina\",\"France\",\"Germany\",\"Argentina\",\"Germany\",\"Germany\",\"Germany\",\"Germany\",\"Argentina\",\"Germany\",\"France\",\"Brazil\",\"Germany\",\"Germany\",\"France\",\"France\",\"Argentina\",\"Germany\",\"Germany\",\"Argentina\",\"Germany\",\"Argentina\",\"Germany\",\"Argentina\",\"Argentina\",\"Portugal\",\"France\",\"Germany\",\"Germany\",\"Brazil\",\"Argentina\",\"Germany\",\"Brazil\",\"Brazil\",\"Brazil\",\"Germany\",\"Germany\",\"France\",\"Germany\",\"Argentina\",\"Argentina\",\"Argentina\",\"Germany\",\"Germany\",\"Argentina\",\"Brazil\",\"Argentina\",\"Germany\",\"Germany\",\"Brazil\",\"France\",\"France\",\"Germany\",\"France\",\"France\",\"France\",\"Germany\",\"Portugal\",\"France\",\"France\",\"France\",\"Brazil\",\"France\",\"Argentina\",\"Germany\",\"France\",\"Argentina\",\"Argentina\",\"Germany\",\"France\",\"Germany\",\"Germany\",\"Germany\",\"Argentina\",\"Argentina\",\"Germany\",\"Germany\",\"Portugal\",\"Portugal\",\"Portugal\",\"France\",\"Portugal\",\"Argentina\",\"Germany\",\"Germany\",\"France\",\"France\",\"Portugal\",\"Argentina\",\"France\",\"Germany\",\"Argentina\",\"Argentina\",\"France\",\"Argentina\",\"Germany\",\"France\",\"Argentina\",\"Argentina\",\"Portugal\",\"Germany\",\"France\",\"France\",\"Germany\",\"Argentina\",\"Argentina\",\"France\",\"Germany\",\"Germany\",\"Argentina\",\"France\",\"France\",\"Germany\",\"Germany\",\"Argentina\",\"Argentina\",\"Argentina\",\"Germany\",\"Germany\",\"Germany\",\"Germany\",\"Germany\",\"Argentina\",\"France\",\"France\",\"France\",\"Germany\",\"France\",\"France\",\"Brazil\",\"Germany\",\"Argentina\",\"Argentina\",\"Germany\",\"Germany\",\"Argentina\",\"Germany\",\"France\",\"Argentina\",\"Germany\",\"Argentina\",\"Germany\",\"France\",\"France\",\"Germany\",\"France\",\"Germany\",\"France\",\"Germany\",\"Argentina\",\"France\",\"Germany\",\"Argentina\",\"Germany\",\"France\",\"Germany\",\"Germany\",\"Germany\",\"France\",\"France\",\"Germany\",\"Germany\",\"Argentina\",\"Argentina\",\"Germany\",\"France\",\"Argentina\",\"France\",\"France\",\"Germany\",\"France\",\"Germany\",\"France\",\"France\",\"France\",\"Germany\",\"Argentina\",\"France\",\"France\",\"Argentina\",\"Argentina\",\"France\",\"Germany\",\"Portugal\",\"Portugal\",\"Germany\",\"France\",\"Germany\",\"Germany\",\"Germany\",\"France\",\"Germany\",\"Argentina\",\"Germany\",\"Brazil\",\"Germany\",\"Germany\",\"France\",\"France\",\"Germany\",\"Germany\",\"Germany\",\"Argentina\",\"Argentina\",\"Germany\",\"Germany\",\"Argentina\",\"France\",\"Germany\",\"Argentina\",\"Argentina\",\"France\",\"Argentina\",\"Germany\",\"France\",\"Germany\",\"Germany\",\"Germany\",\"Argentina\",\"Portugal\",\"Argentina\",\"Germany\",\"France\",\"Germany\",\"France\",\"France\",\"Germany\",\"Germany\",\"Argentina\",\"Germany\",\"Germany\",\"Germany\",\"Argentina\",\"France\",\"France\",\"Argentina\",\"Argentina\",\"Germany\",\"Argentina\",\"France\",\"Germany\",\"Germany\",\"Argentina\",\"France\",\"Argentina\",\"Argentina\",\"Germany\",\"Germany\",\"Germany\",\"Argentina\",\"Germany\",\"Germany\",\"Argentina\",\"France\",\"Brazil\",\"Argentina\",\"France\",\"Germany\",\"France\",\"France\",\"Germany\",\"Germany\",\"Germany\",\"Argentina\",\"Argentina\",\"Argentina\",\"Germany\",\"Germany\",\"Germany\",\"Argentina\",\"France\",\"Argentina\",\"Argentina\",\"France\",\"France\",\"Germany\",\"France\",\"Germany\",\"Germany\",\"Argentina\",\"France\",\"France\",\"Brazil\",\"France\",\"Germany\",\"France\",\"Argentina\",\"Brazil\",\"France\",\"Germany\",\"France\",\"Germany\",\"France\",\"Germany\",\"Argentina\",\"France\",\"Germany\",\"France\",\"Germany\",\"France\",\"Germany\",\"Germany\",\"Germany\",\"Germany\",\"France\",\"Germany\",\"Germany\",\"Germany\",\"Germany\",\"Germany\",\"France\",\"France\",\"Germany\",\"Argentina\",\"Argentina\",\"Germany\",\"Argentina\",\"France\",\"Germany\",\"Germany\",\"Germany\",\"Germany\",\"Argentina\",\"France\",\"France\",\"Germany\",\"France\",\"France\",\"Portugal\",\"France\",\"Germany\",\"Germany\",\"France\",\"Germany\",\"Germany\",\"Germany\"],\"x0\":\" \",\"xaxis\":\"x\",\"y\":[33,35,21,27,25,29,25,25,33,29,27,27,31,21,25,27,35,31,29,23,25,27,35,33,29,29,31,27,23,25,23,29,27,33,35,33,29,31,29,29,29,27,27,23,27,25,29,25,31,33,31,31,31,27,25,23,23,23,23,23,25,27,25,27,27,29,25,37,37,33,31,33,29,27,27,19,23,23,23,23,25,25,25,25,25,27,29,27,27,27,33,35,33,33,31,29,33,29,29,29,33,21,19,23,21,21,25,27,25,25,25,27,25,27,25,27,33,35,33,33,31,31,31,29,31,21,21,21,21,23,23,23,21,25,27,27,27,27,27,29,27,27,27,37,35,33,35,31,31,29,31,31,29,29,29,29,27,29,27,27,27,29,31,29,21,21,23,23,23,23,23,23,23,23,23,21,25,27,25,27,27,25,25,29,29,29,27,37,33,31,33,31,29,29,29,31,31,29,29,29,29,29,27,31,31,27,27,31,31,29,29,17,21,21,23,23,23,23,23,23,23,25,25,23,23,27,23,25,25,23,27,27,25,25,25,27,25,27,37,33,33,33,33,31,31,31,31,31,29,33,31,31,29,29,31,31,27,33,23,21,23,23,21,23,23,23,23,21,23,23,23,23,25,21,25,25,23,21,27,27,27,25,25,25,25,25,29,29,27,27,27,25,27,27,35,39,35,35,35,33,33,31,33,33,31,31,29,33,35,31,29,27,33,29,31,33,33,33,33,31,31,19,21,21,19,19,21,21,21,21,21,23,23,23,21,23,23,25,23,25,25,25,25,27,25,25,25,25,25,25,29,27,29,25,27,39,35,35,33,39,33,33,33,31,29,29,31,33,29,29,29,29,27,29,27,29,33,33,29,27,19,19,23,23,23,21,23,21,21,23,23,23,23,23,23,21,25,25,25,25,25,25,25,23,27,25,25,25,29,27,25,25,27,29,27,27,27,39,39,37,35,33,33,35,35,31,35,35,33,31,33,33,29,31,29,31,31,31,31,31,33,27,29,29,33,27,29,29,29,29,29,27,31,31,27,35,31,31,33,29,29,29,31,33,33,27,21,21,23,21,21,21,21,23,21,23,23,23,21,23,25,23,23,23,23,23,23,21,23,23,25,25,25,25,25,27,27,25,27,25,23,25,25,25,27,27,29,27,29,27,27,27,29,25,27,27,27,37,35,29,33,33,31,39,31,31,31,33,33,33,31,29,33,29,33,33,35,33,31,31,31,29,31,29,29,31,31,33,29,31,29,29,31,33,27,27,31,27,29,29,31,33,33,29,29,29,29,29,31,31,29,29,29,27,29,29,29,27,19,19,21,21,21,19,21,23,23,21,23,23,23,23,21,23,23,23,23,19,25,25,25,23,25,25,25,25,25,25,25,25,25,27,27,25,27,25,25,27,25,27,25,25,27,29,29,27,29,27,27,27,29,27,29,27,27,37,37,35,33,35,35,35,33,31,31,33,31,31,29,29,31,29,31,29,31,27,29,27,33,31,31,31,29,31,27,29,31,31,21,19,21,19,21,19,19,19,21,21,21,21,21,21,23,23,23,23,23,23,23,23,25,23,23,25,23,25,25,25,25,25,23,23,23,23,23,27,25,25,27,25,25,27,27,25,25,25,29,25,27,27,27,27,27,25,27,25,27,27,25,27,27,25,27,37,39,35,33,33,33,33,31,33,29,33,29,35,31,31,31,31,29,31,31,29,27,29,27,31,29,27,35,29,29,31,27,29,29,35,29,31,27,33,27,27,27,31,29,27,29,31,29,31,27,29,17,19,17,19,21,21,21,21,21,21,23,21,21,21,21,21,21,19,23,23,21,23,21,25,23,23,23,23,25,23,23,23,25,25,25,25,25,25,25,25,25,25,27,25,25,25,25,25,25,25,25,25,25,25,27,27,29,29,29,25,29,27,27,27,33,33,35,33,37,33,33,31,33,33,33,33,33,33,33,33,31,33,29,29,31,35,33,29,29,29,33,31,29,33,29,27,31,29,29,27,29,29,29,27,29,35,31,31,29,31,29,27,31,29,31,31,33,17,21,21,21,19,19,21,21,21,21,23,21,23,23,23,23,23,23,23,23,23,23,23,21,23,23,23,25,25,25,25,25,25,23,23,25,27,25,25,25,27,27,25,25,27,23,25,27,29,27,27,29,27,27,25,25,29,39,37,33,31,33,31,31,31,31,35,31,31,33,27,31,29,27,29,35,31,31,27,27,29,29,33,31,35,27,29,31,29,29,27,37,27,29,19,19,19,21,21,21,21,21,21,21,17,21,21,23,23,21,21,23,23,23,21,23,23,23,23,23,19,25,23,23,25,21,23,23,23,23,23,23,25,23,25,25,23,25,25,25,25,25,25,25,27,27,25,27,25,25,25,25,25,25,25,27,27,27,25,27,27,27,27,29,27,35,41,35,35,31,33,33,31,35,33,29,31,29,33,33,31,31,33,29,29,27,29,29,29,35,33,31,33,31,29,29,29,29,29,31,27,29,33,27,27,33,19,19,19,19,19,19,21,19,19,21,21,21,23,19,19,23,23,21,23,23,23,21,23,23,23,23,21,25,23,23,23,23,23,23,23,25,23,23,25,23,23,23,23,23,25,25,25,25,23,23,25,25,25,25,25,27,25,25,25,27,25,27,27,27,27,27,27,27,27,27,27,25,29,27,33,33,31,35,31,31,29,33,31,29,29,29,31,31,31,33,29,31,29,29,27,29,33,27,29,31,29,31,27,27,29,31,31,27,31,27,31,31,31,27,33,19,19,19,19,19,21,19,19,21,21,21,21,21,21,19,23,21,23,23,23,21,21,23,23,23,23,23,23,23,21,21,23,21,21,25,23,25,23,23,23,23,23,23,21,23,23,23,23,23,25,23,25,25,25,23,23,25,25,21,27,25,25,25,23,25,25,25,25,25,25,25,25,25,27,27,27,25,27,25,27,27,27,27,27,27,29,27,25,27,27,27,35,31,29,29,29,31,27,29,29,31,29,29,29,29,29,27,29,29,31,35,29,29,27,29,27,29,29,27,31,33,29,27,29,17,19,19,17,19,21,21,21,19,21,21,21,21,21,19,21,21,21,19,21,19,19,21,21,21,21,19,21,21,21,21,21,21,21,21,23,23,21,21,23,21,21,23,23,23,21,21,21,23,23,23,21,23,23,21,23,23,23,21,23,23,23,25,23,23,23,23,25,25,25,25,25,25,23,23,23,25,25,27,27,27,27,27,27,27,29,33,31,31,31,29,31,31,33,31,33,29,29,29,29,29,27,27,27,31,31,29,29,29,27,33,27,29,17,17,17,19,19,19,17,19,21,21,19,21,19,19,19,21,21,19,21,21,19,21,21,21,21,19,21,19,23,23,23,21,21,21,21,21,21,21,19,21,21,21,21,23,23,23,21,23,21,23,23,21,19,21,23,23,23,25,21,23,23,23,23,23,23,23,23,25,23,25,25,25,23,25,25,23,25,23,25,25,25,25,27,25,25,25,25,25,25,25,27,27,27,29,27,25,27,29,37,37,33,31,29,29,31,31,27,29,29,29,31,29,17,17,19,19,19,19,19,19,19,19,19,19,21,21,21,21,21,21,21,21,21,21,21,21,21,21,21,21,21,21,19,21,21,23,21,23,23,21,23,21,23,21,23,23,23,23,23,23,21,21,19,25,23,21,23,23,23,23,23,23,25,25,25,25,25,27,25,25,29,27,25,27,27,33,33,29,29,35,29,17,17,17,19,19,19,19,19,17,19,21,19,21,19,19,19,21,21,21,19,21,21,21,19,17,21,21,21,21,21,21,21,19,19,21,21,23,21,19,21,21,21,21,23,21,21,21,21,23,21,21,23,21,21,23,23,23,23,23,23,21,21,23,23,23,25,25,23,23,25,25,25,25,25,25,27,27,37,29,29,29,27,31,17,19,17,19,19,19,19,19,17,19,19,19,19,17,19,19,17,21,21,21,19,19,19,21,21,19,19,21,21,21,19,23,21,21,21,21,21,19,23,23,21,21,19,23,19,23,23,23,21,23,23,25,23,23,25,23,19,25,25,27,25,33,31,27,17,19,17,19,17,19,19,17,17,19,19,21,21,19,21,19,21,19,17,21,21,19,21,21,21,21,19,21,21,21,21,21,19,21,21,21,21,19,21,21,23,23,23,23,21,21,23,23,21,21,23,23,27,27,41,27,29,31,17,19,17,19,19,19,17,19,19,19,19,17,19,21,19,17,21,19,19,21,21,19,19,21,21,21,19,19,19,21,21,21,21,19,21,21,19,23,23,19,21,21,21,23,23,23,21,23,23,23,23,27,27,29,29,29,19,19,19,17,19,19,19,19,19,19,19,21,19,21,21,21,19,19,19,19,19,19,23,23,21,21,21,21,23,21,23,23,25,23,23,25,27,31,19,19,19,19,17,19,19,21,19,17,21,21,19,19,21,21,19,19,19,21,21,21,21,21,23,35,17,17,19,19,19,19,21,21,19,19,19,17,17,19,17,19,17,21,19,19,21,19,23,17,19,19,21,19,23,21,21,23,19,17,21,19,19,21,23,19,19,21,21,17,19,19,17,21,17,17,19],\"y0\":\" \",\"yaxis\":\"y\",\"type\":\"box\"}],                        {\"template\":{\"data\":{\"bar\":[{\"error_x\":{\"color\":\"#2a3f5f\"},\"error_y\":{\"color\":\"#2a3f5f\"},\"marker\":{\"line\":{\"color\":\"#E5ECF6\",\"width\":0.5},\"pattern\":{\"fillmode\":\"overlay\",\"size\":10,\"solidity\":0.2}},\"type\":\"bar\"}],\"barpolar\":[{\"marker\":{\"line\":{\"color\":\"#E5ECF6\",\"width\":0.5},\"pattern\":{\"fillmode\":\"overlay\",\"size\":10,\"solidity\":0.2}},\"type\":\"barpolar\"}],\"carpet\":[{\"aaxis\":{\"endlinecolor\":\"#2a3f5f\",\"gridcolor\":\"white\",\"linecolor\":\"white\",\"minorgridcolor\":\"white\",\"startlinecolor\":\"#2a3f5f\"},\"baxis\":{\"endlinecolor\":\"#2a3f5f\",\"gridcolor\":\"white\",\"linecolor\":\"white\",\"minorgridcolor\":\"white\",\"startlinecolor\":\"#2a3f5f\"},\"type\":\"carpet\"}],\"choropleth\":[{\"colorbar\":{\"outlinewidth\":0,\"ticks\":\"\"},\"type\":\"choropleth\"}],\"contour\":[{\"colorbar\":{\"outlinewidth\":0,\"ticks\":\"\"},\"colorscale\":[[0.0,\"#0d0887\"],[0.1111111111111111,\"#46039f\"],[0.2222222222222222,\"#7201a8\"],[0.3333333333333333,\"#9c179e\"],[0.4444444444444444,\"#bd3786\"],[0.5555555555555556,\"#d8576b\"],[0.6666666666666666,\"#ed7953\"],[0.7777777777777778,\"#fb9f3a\"],[0.8888888888888888,\"#fdca26\"],[1.0,\"#f0f921\"]],\"type\":\"contour\"}],\"contourcarpet\":[{\"colorbar\":{\"outlinewidth\":0,\"ticks\":\"\"},\"type\":\"contourcarpet\"}],\"heatmap\":[{\"colorbar\":{\"outlinewidth\":0,\"ticks\":\"\"},\"colorscale\":[[0.0,\"#0d0887\"],[0.1111111111111111,\"#46039f\"],[0.2222222222222222,\"#7201a8\"],[0.3333333333333333,\"#9c179e\"],[0.4444444444444444,\"#bd3786\"],[0.5555555555555556,\"#d8576b\"],[0.6666666666666666,\"#ed7953\"],[0.7777777777777778,\"#fb9f3a\"],[0.8888888888888888,\"#fdca26\"],[1.0,\"#f0f921\"]],\"type\":\"heatmap\"}],\"heatmapgl\":[{\"colorbar\":{\"outlinewidth\":0,\"ticks\":\"\"},\"colorscale\":[[0.0,\"#0d0887\"],[0.1111111111111111,\"#46039f\"],[0.2222222222222222,\"#7201a8\"],[0.3333333333333333,\"#9c179e\"],[0.4444444444444444,\"#bd3786\"],[0.5555555555555556,\"#d8576b\"],[0.6666666666666666,\"#ed7953\"],[0.7777777777777778,\"#fb9f3a\"],[0.8888888888888888,\"#fdca26\"],[1.0,\"#f0f921\"]],\"type\":\"heatmapgl\"}],\"histogram\":[{\"marker\":{\"pattern\":{\"fillmode\":\"overlay\",\"size\":10,\"solidity\":0.2}},\"type\":\"histogram\"}],\"histogram2d\":[{\"colorbar\":{\"outlinewidth\":0,\"ticks\":\"\"},\"colorscale\":[[0.0,\"#0d0887\"],[0.1111111111111111,\"#46039f\"],[0.2222222222222222,\"#7201a8\"],[0.3333333333333333,\"#9c179e\"],[0.4444444444444444,\"#bd3786\"],[0.5555555555555556,\"#d8576b\"],[0.6666666666666666,\"#ed7953\"],[0.7777777777777778,\"#fb9f3a\"],[0.8888888888888888,\"#fdca26\"],[1.0,\"#f0f921\"]],\"type\":\"histogram2d\"}],\"histogram2dcontour\":[{\"colorbar\":{\"outlinewidth\":0,\"ticks\":\"\"},\"colorscale\":[[0.0,\"#0d0887\"],[0.1111111111111111,\"#46039f\"],[0.2222222222222222,\"#7201a8\"],[0.3333333333333333,\"#9c179e\"],[0.4444444444444444,\"#bd3786\"],[0.5555555555555556,\"#d8576b\"],[0.6666666666666666,\"#ed7953\"],[0.7777777777777778,\"#fb9f3a\"],[0.8888888888888888,\"#fdca26\"],[1.0,\"#f0f921\"]],\"type\":\"histogram2dcontour\"}],\"mesh3d\":[{\"colorbar\":{\"outlinewidth\":0,\"ticks\":\"\"},\"type\":\"mesh3d\"}],\"parcoords\":[{\"line\":{\"colorbar\":{\"outlinewidth\":0,\"ticks\":\"\"}},\"type\":\"parcoords\"}],\"pie\":[{\"automargin\":true,\"type\":\"pie\"}],\"scatter\":[{\"marker\":{\"colorbar\":{\"outlinewidth\":0,\"ticks\":\"\"}},\"type\":\"scatter\"}],\"scatter3d\":[{\"line\":{\"colorbar\":{\"outlinewidth\":0,\"ticks\":\"\"}},\"marker\":{\"colorbar\":{\"outlinewidth\":0,\"ticks\":\"\"}},\"type\":\"scatter3d\"}],\"scattercarpet\":[{\"marker\":{\"colorbar\":{\"outlinewidth\":0,\"ticks\":\"\"}},\"type\":\"scattercarpet\"}],\"scattergeo\":[{\"marker\":{\"colorbar\":{\"outlinewidth\":0,\"ticks\":\"\"}},\"type\":\"scattergeo\"}],\"scattergl\":[{\"marker\":{\"colorbar\":{\"outlinewidth\":0,\"ticks\":\"\"}},\"type\":\"scattergl\"}],\"scattermapbox\":[{\"marker\":{\"colorbar\":{\"outlinewidth\":0,\"ticks\":\"\"}},\"type\":\"scattermapbox\"}],\"scatterpolar\":[{\"marker\":{\"colorbar\":{\"outlinewidth\":0,\"ticks\":\"\"}},\"type\":\"scatterpolar\"}],\"scatterpolargl\":[{\"marker\":{\"colorbar\":{\"outlinewidth\":0,\"ticks\":\"\"}},\"type\":\"scatterpolargl\"}],\"scatterternary\":[{\"marker\":{\"colorbar\":{\"outlinewidth\":0,\"ticks\":\"\"}},\"type\":\"scatterternary\"}],\"surface\":[{\"colorbar\":{\"outlinewidth\":0,\"ticks\":\"\"},\"colorscale\":[[0.0,\"#0d0887\"],[0.1111111111111111,\"#46039f\"],[0.2222222222222222,\"#7201a8\"],[0.3333333333333333,\"#9c179e\"],[0.4444444444444444,\"#bd3786\"],[0.5555555555555556,\"#d8576b\"],[0.6666666666666666,\"#ed7953\"],[0.7777777777777778,\"#fb9f3a\"],[0.8888888888888888,\"#fdca26\"],[1.0,\"#f0f921\"]],\"type\":\"surface\"}],\"table\":[{\"cells\":{\"fill\":{\"color\":\"#EBF0F8\"},\"line\":{\"color\":\"white\"}},\"header\":{\"fill\":{\"color\":\"#C8D4E3\"},\"line\":{\"color\":\"white\"}},\"type\":\"table\"}]},\"layout\":{\"annotationdefaults\":{\"arrowcolor\":\"#2a3f5f\",\"arrowhead\":0,\"arrowwidth\":1},\"autotypenumbers\":\"strict\",\"coloraxis\":{\"colorbar\":{\"outlinewidth\":0,\"ticks\":\"\"}},\"colorscale\":{\"diverging\":[[0,\"#8e0152\"],[0.1,\"#c51b7d\"],[0.2,\"#de77ae\"],[0.3,\"#f1b6da\"],[0.4,\"#fde0ef\"],[0.5,\"#f7f7f7\"],[0.6,\"#e6f5d0\"],[0.7,\"#b8e186\"],[0.8,\"#7fbc41\"],[0.9,\"#4d9221\"],[1,\"#276419\"]],\"sequential\":[[0.0,\"#0d0887\"],[0.1111111111111111,\"#46039f\"],[0.2222222222222222,\"#7201a8\"],[0.3333333333333333,\"#9c179e\"],[0.4444444444444444,\"#bd3786\"],[0.5555555555555556,\"#d8576b\"],[0.6666666666666666,\"#ed7953\"],[0.7777777777777778,\"#fb9f3a\"],[0.8888888888888888,\"#fdca26\"],[1.0,\"#f0f921\"]],\"sequentialminus\":[[0.0,\"#0d0887\"],[0.1111111111111111,\"#46039f\"],[0.2222222222222222,\"#7201a8\"],[0.3333333333333333,\"#9c179e\"],[0.4444444444444444,\"#bd3786\"],[0.5555555555555556,\"#d8576b\"],[0.6666666666666666,\"#ed7953\"],[0.7777777777777778,\"#fb9f3a\"],[0.8888888888888888,\"#fdca26\"],[1.0,\"#f0f921\"]]},\"colorway\":[\"#636efa\",\"#EF553B\",\"#00cc96\",\"#ab63fa\",\"#FFA15A\",\"#19d3f3\",\"#FF6692\",\"#B6E880\",\"#FF97FF\",\"#FECB52\"],\"font\":{\"color\":\"#2a3f5f\"},\"geo\":{\"bgcolor\":\"white\",\"lakecolor\":\"white\",\"landcolor\":\"#E5ECF6\",\"showlakes\":true,\"showland\":true,\"subunitcolor\":\"white\"},\"hoverlabel\":{\"align\":\"left\"},\"hovermode\":\"closest\",\"mapbox\":{\"style\":\"light\"},\"paper_bgcolor\":\"white\",\"plot_bgcolor\":\"#E5ECF6\",\"polar\":{\"angularaxis\":{\"gridcolor\":\"white\",\"linecolor\":\"white\",\"ticks\":\"\"},\"bgcolor\":\"#E5ECF6\",\"radialaxis\":{\"gridcolor\":\"white\",\"linecolor\":\"white\",\"ticks\":\"\"}},\"scene\":{\"xaxis\":{\"backgroundcolor\":\"#E5ECF6\",\"gridcolor\":\"white\",\"gridwidth\":2,\"linecolor\":\"white\",\"showbackground\":true,\"ticks\":\"\",\"zerolinecolor\":\"white\"},\"yaxis\":{\"backgroundcolor\":\"#E5ECF6\",\"gridcolor\":\"white\",\"gridwidth\":2,\"linecolor\":\"white\",\"showbackground\":true,\"ticks\":\"\",\"zerolinecolor\":\"white\"},\"zaxis\":{\"backgroundcolor\":\"#E5ECF6\",\"gridcolor\":\"white\",\"gridwidth\":2,\"linecolor\":\"white\",\"showbackground\":true,\"ticks\":\"\",\"zerolinecolor\":\"white\"}},\"shapedefaults\":{\"line\":{\"color\":\"#2a3f5f\"}},\"ternary\":{\"aaxis\":{\"gridcolor\":\"white\",\"linecolor\":\"white\",\"ticks\":\"\"},\"baxis\":{\"gridcolor\":\"white\",\"linecolor\":\"white\",\"ticks\":\"\"},\"bgcolor\":\"#E5ECF6\",\"caxis\":{\"gridcolor\":\"white\",\"linecolor\":\"white\",\"ticks\":\"\"}},\"title\":{\"x\":0.05},\"xaxis\":{\"automargin\":true,\"gridcolor\":\"white\",\"linecolor\":\"white\",\"ticks\":\"\",\"title\":{\"standoff\":15},\"zerolinecolor\":\"white\",\"zerolinewidth\":2},\"yaxis\":{\"automargin\":true,\"gridcolor\":\"white\",\"linecolor\":\"white\",\"ticks\":\"\",\"title\":{\"standoff\":15},\"zerolinecolor\":\"white\",\"zerolinewidth\":2}}},\"xaxis\":{\"anchor\":\"y\",\"domain\":[0.0,1.0],\"title\":{\"text\":\"nationality\"}},\"yaxis\":{\"anchor\":\"x\",\"domain\":[0.0,1.0],\"title\":{\"text\":\"age\"}},\"legend\":{\"tracegroupgap\":0},\"margin\":{\"t\":60},\"boxmode\":\"group\"},                        {\"responsive\": true}                    ).then(function(){\n",
       "                            \n",
       "var gd = document.getElementById('45cb2644-6bf8-4f74-a283-351b4ba69d07');\n",
       "var x = new MutationObserver(function (mutations, observer) {{\n",
       "        var display = window.getComputedStyle(gd).display;\n",
       "        if (!display || display === 'none') {{\n",
       "            console.log([gd, 'removed!']);\n",
       "            Plotly.purge(gd);\n",
       "            observer.disconnect();\n",
       "        }}\n",
       "}});\n",
       "\n",
       "// Listen for the removal of the full notebook cells\n",
       "var notebookContainer = gd.closest('#notebook-container');\n",
       "if (notebookContainer) {{\n",
       "    x.observe(notebookContainer, {childList: true});\n",
       "}}\n",
       "\n",
       "// Listen for the clearing of the current output cell\n",
       "var outputEl = gd.closest('.output');\n",
       "if (outputEl) {{\n",
       "    x.observe(outputEl, {childList: true});\n",
       "}}\n",
       "\n",
       "                        })                };                });            </script>        </div>"
      ]
     },
     "metadata": {},
     "output_type": "display_data"
    },
    {
     "data": {
      "text/plain": [
       "<Figure size 2880x1080 with 0 Axes>"
      ]
     },
     "metadata": {},
     "output_type": "display_data"
    }
   ],
   "source": [
    "### using plotly.\n",
    "plt.figure(figsize=(40,15))\n",
    "fig = px.box(countries, x=\"nationality\", y=\"age\", points=\"all\")\n",
    "fig.show();"
   ]
  },
  {
   "cell_type": "code",
   "execution_count": null,
   "id": "cf5754d9",
   "metadata": {},
   "outputs": [],
   "source": []
  },
  {
   "cell_type": "code",
   "execution_count": 138,
   "id": "b8ba9b04",
   "metadata": {},
   "outputs": [
    {
     "data": {
      "text/plain": [
       "array(['FC Barcelona', 'Juventus', 'Atlético Madrid', 'FC Bayern München',\n",
       "       'Paris Saint-Germain', 'Manchester City', 'Liverpool',\n",
       "       'Real Madrid', 'Tottenham Hotspur', 'Inter', 'Napoli', 'Chelsea',\n",
       "       'Borussia Dortmund', 'Manchester United', 'Arsenal', 'Lazio',\n",
       "       'Atalanta', 'Real Sociedad', 'Borussia Mönchengladbach',\n",
       "       'Leicester City', 'Milan', 'Olympique Lyonnais', 'RB Leipzig',\n",
       "       'Villarreal CF', 'SL Benfica', 'Ajax', 'Everton', 'FC Porto',\n",
       "       'Sevilla FC', 'Torino', 'Wolverhampton Wanderers', 'RC Celta',\n",
       "       'AS Monaco', 'Valencia CF', 'Roma', 'VfL Wolfsburg', 'Real Betis',\n",
       "       'Olympique de Marseille', 'Inter Miami', 'Beijing Sinobo Guoan FC',\n",
       "       'Los Angeles FC', 'Al Shabab', 'Athletic Club de Bilbao',\n",
       "       'Guangzhou Evergrande Taobao FC', 'Shanghai SIPG FC',\n",
       "       'Eintracht Frankfurt', 'Bayer 04 Leverkusen', 'Levante UD',\n",
       "       'Crystal Palace', 'Medipol Başakşehir FK', 'Newcastle United',\n",
       "       'Grêmio', 'Fulham', 'LOSC Lille', 'Genoa', 'Deportivo Alavés',\n",
       "       'Getafe CF', 'Burnley', 'SV Werder Bremen', 'Galatasaray SK',\n",
       "       'PFC CSKA Moscow', 'TSG 1899 Hoffenheim', 'Leeds United',\n",
       "       'West Ham United', 'Cagliari', 'Stade Rennais FC', 'OGC Nice',\n",
       "       'Boca Juniors', 'Atlanta United', 'SD Eibar', 'Vissel Kobe',\n",
       "       'Tigres U.A.N.L.', 'Fiorentina', 'Sassuolo', 'AS Saint-Étienne',\n",
       "       'Dalian YiFang FC', 'Club Brugge KV', '1. FC Union Berlin',\n",
       "       'Shakhtar Donetsk', 'Sporting CP', 'Real Valladolid CF',\n",
       "       'Feyenoord', 'PSV', 'River Plate', nan, 'São Paulo',\n",
       "       'Atlético Mineiro', 'Palmeiras', 'Flamengo', 'Dinamo Zagreb',\n",
       "       'Dynamo Kyiv', 'Aston Villa', 'Udinese', 'Brighton & Hove Albion',\n",
       "       'Watford', 'FC Groningen', 'Orlando City SC', 'Al Hilal',\n",
       "       'Sampdoria', 'Guangzhou R&F FC', 'Jiangsu Suning FC',\n",
       "       'West Bromwich Albion', 'Al Nassr', 'Fenerbahçe SK', 'Beşiktaş JK',\n",
       "       'Hebei China Fortune FC', 'Southampton', 'Lokomotiv Moscow',\n",
       "       'Fluminense', 'Sheffield United', 'LA Galaxy', 'Stade de Reims',\n",
       "       'Granada CF', 'SC Braga', 'SC Freiburg', 'CA Osasuna',\n",
       "       'RC Strasbourg Alsace', 'AZ Alkmaar', 'Hertha BSC',\n",
       "       'FC Schalke 04', 'Vitória Guimarães', 'Club América',\n",
       "       'Estudiantes de La Plata', 'FC Girondins de Bordeaux',\n",
       "       'Olympiacos CFP', 'Portland Timbers', 'Racing Club', 'Girona FC',\n",
       "       'Shanghai Greenland Shenhua FC', 'Montpellier HSC', 'Toronto FC',\n",
       "       'Coritiba', 'Internacional', 'Santos', 'Angers SCO', 'FC Nantes',\n",
       "       'RCD Espanyol', 'SK Slavia Praha', 'Spartak Moscow',\n",
       "       'BSC Young Boys', 'Cruz Azul', 'SD Huesca', 'Parma',\n",
       "       'San Lorenzo de Almagro', 'Royal Antwerp FC',\n",
       "       'Club Atlético Lanús', 'Seattle Sounders FC', 'Monterrey',\n",
       "       'Wuhan Zall', 'FC Augsburg', 'Sivasspor', 'Club León',\n",
       "       'Trabzonspor', 'Norwich City', 'Stade Brestois 29', '1. FC Köln',\n",
       "       'Bournemouth', 'Brentford', 'RSC Anderlecht', 'Celtic',\n",
       "       'Derby County', 'CD Leganés', 'Fatih Karagümrük S.K.',\n",
       "       'En Avant de Guingamp', 'Club Tijuana',\n",
       "       'Shijiazhuang Ever Bright F.C.', 'Amiens SC', 'Hellas Verona',\n",
       "       'Qingdao Huanghai F.C.', 'Birmingham City', 'Tianjin TEDA FC',\n",
       "       'Bologna', 'Universidad Católica', 'Vélez Sarsfield', 'Club Atlas',\n",
       "       'Independiente', 'Al Ahli', 'Goiás', 'Alanyaspor',\n",
       "       'FC Red Bull Salzburg', '1. FSV Mainz 05', 'KRC Genk', 'Lecce',\n",
       "       'Racing Club de Lens', 'FC Metz', 'Rio Ave FC', 'Dijon FCO',\n",
       "       'Nacional de Montevideo', 'FC Utrecht', 'FC København',\n",
       "       'UD Almería', 'Spezia', 'FC Midtjylland', 'Aalborg BK',\n",
       "       'AEK Athens', 'Olimpia Asunción', 'FC Basel 1893', 'Junior FC',\n",
       "       'Hamburger SV', 'Santos Laguna', 'Cádiz CF', 'Perth Glory',\n",
       "       'Deportivo Toluca', 'Rosenborg BK', 'KAA Gent', 'Swansea City',\n",
       "       'Çaykur Rizespor', 'Chongqing Dangdai Lifan FC SWM Team',\n",
       "       'RCD Mallorca', 'Montreal Impact', 'New England Revolution',\n",
       "       'SPAL', 'Real Zaragoza', 'DSC Arminia Bielefeld', 'Al Wehda',\n",
       "       'Pachuca', 'Stade Malherbe Caen', 'Al Ain FC', 'Godoy Cruz',\n",
       "       'Colo-Colo', 'Columbus Crew SC', 'Vasco da Gama',\n",
       "       'Club Athletico Paranaense', 'Botafogo', 'Fortaleza',\n",
       "       'Guadalajara', 'Famalicão', 'Portimonense SC', 'VfB Stuttgart',\n",
       "       'SC Heerenveen', 'Rangers FC', 'Nîmes Olympique', 'Boavista FC',\n",
       "       'U.N.A.M.', 'Atlético Nacional', 'Royal Excel Mouscron',\n",
       "       'Nottingham Forest', 'FC Luzern', 'Preston North End', 'LASK Linz',\n",
       "       'Toulouse Football Club', 'Defensa y Justicia', 'FC Cincinnati',\n",
       "       'Real Salt Lake', 'New York Red Bulls', 'Moreirense FC',\n",
       "       'New York City FC', 'DC United', 'Brescia', 'Ulsan Hyundai FC',\n",
       "       'Yeni Malatyaspor', 'Philadelphia Union', 'Hatayspor', 'Millwall',\n",
       "       'Vancouver Whitecaps FC', 'FC Lorient', 'Atiker Konyaspor',\n",
       "       'Antalyaspor', 'Molde FK', 'PAOK', 'Western United FC',\n",
       "       'Shandong Luneng TaiShan FC', 'Wisła Kraków', 'Denizlispor',\n",
       "       \"Newell's Old Boys\", 'Sporting Kansas City', 'Malmö FF',\n",
       "       'Henan Jianye FC', 'Fortuna Düsseldorf', 'Sparta Praha',\n",
       "       'Kayserispor', 'SV Sandhausen', 'Benevento', 'Minnesota United FC',\n",
       "       'Houston Dynamo', 'Rosario Central', 'Club Atlético Colón',\n",
       "       'FC Seoul', 'Paris FC', 'MKE Ankaragücü', 'Al Taawoun',\n",
       "       'FC Dallas', 'Atlético de San Luis', 'Elche CF',\n",
       "       'Argentinos Juniors', 'Independiente del Valle', 'Chicago Fire',\n",
       "       'Puebla FC', 'Deportivo Cali', 'VfL Bochum 1848',\n",
       "       'Clube Sport Marítimo', 'Kaizer Chiefs', 'Panathinaikos FC',\n",
       "       'Astra Giurgiu', 'Daegu FC', 'Bahia', 'Atlético Clube Goianiense',\n",
       "       'Peñarol', 'Club Atlético Talleres', 'FCSB (Steaua)',\n",
       "       '1. FC Nürnberg', 'Sporting de Charleroi', 'Standard de Liège',\n",
       "       'Viktoria Plzeň', 'Stoke City', 'Reading', 'Shenzhen FC',\n",
       "       'FC St. Gallen', 'Blackburn Rovers', 'San Jose Earthquakes',\n",
       "       'Kashiwa Reysol', 'Real Sporting de Gijón', 'Vitesse',\n",
       "       'Club Libertad', 'Willem II', 'Club Guaraní', 'FC Sion',\n",
       "       'Al Ittihad', 'Gençlerbirliği SK', 'KAS Eupen', 'Rayo Vallecano',\n",
       "       'Göztepe SK', 'Western Sydney Wanderers', 'ESTAC Troyes',\n",
       "       'Sydney FC', 'Jeonbuk Hyundai Motors', 'Hannover 96', 'FC Juárez',\n",
       "       'Ettifaq FC', 'Yokohama F. Marinos', 'Club Atlético Aldosivi',\n",
       "       'Orlando Pirates', 'Holstein Kiel', 'Unión de Santa Fe',\n",
       "       'Gil Vicente FC', 'Club Atlético Banfield', 'Sint-Truidense VV',\n",
       "       'Huddersfield Town', 'IFK Norrköping', 'FC Paços de Ferreira',\n",
       "       'Real Oviedo', 'CD Tondela', 'América de Cali', 'Middlesbrough',\n",
       "       'KSV Cercle Brugge', 'FC Emmen', 'SK Rapid Wien', 'Hammarby IF',\n",
       "       'Empoli', 'FK Bodø/Glimt', 'AD Alcorcón', 'Colorado Rapids',\n",
       "       'Al Faisaly', 'Heracles Almelo', 'Crotone', 'Nashville SC',\n",
       "       '1. FC Heidenheim 1846', 'Gamba Osaka', 'Melbourne City FC',\n",
       "       'Millonarios FC', 'Legia Warszawa', 'Wolfsberger AC',\n",
       "       'Mazatlán FC', 'AIK', 'FK Austria Wien', 'River Plate Asunción',\n",
       "       'Os Belenenses', 'LDU Quito', 'CFR Cluj', 'Sheffield Wednesday',\n",
       "       'Cardiff City', 'AC Monza', 'Kawasaki Frontale', 'Cerezo Osaka',\n",
       "       'FC Tokyo', 'Servette FC', 'Universitatea Craiova',\n",
       "       'Gimnasia y Esgrima La Plata', 'Independiente Medellín',\n",
       "       'Ceará Sporting Club', 'Gazişehir Gaziantep F.K.', 'Club Necaxa',\n",
       "       'Club Atlético Huracán', 'Bristol City', 'CD Mirandés',\n",
       "       'Queens Park Rangers', 'FC Twente', 'Valenciennes FC',\n",
       "       'SC Paderborn 07', 'Santa Clara', 'KV Kortrijk', 'CD Tenerife',\n",
       "       'Unión La Calera', 'Farense', 'KV Mechelen',\n",
       "       'Hokkaido Consadole Sapporo', 'Querétaro', 'Raków Częstochowa',\n",
       "       'Kasimpaşa SK', 'Lech Poznań', 'CD Nacional', 'SV Zulte-Waregem',\n",
       "       'Aberdeen', 'BB Erzurumspor', 'Helsingborgs IF', 'FC Cartagena',\n",
       "       '1. FC Kaiserslautern', 'IFK Göteborg', 'Central Córdoba',\n",
       "       'Atlético Tucumán', 'SpVgg Greuther Fürth', 'Albacete BP',\n",
       "       'Dinamo Bucureşti', 'Wellington Phoenix', 'SV Darmstadt 98',\n",
       "       'Chievo Verona', 'Djurgårdens IF', 'AC Ajaccio', 'AJ Auxerre',\n",
       "       'FC Erzgebirge Aue', 'Al Fateh', 'ADO Den Haag', 'El Nacional',\n",
       "       'Nagoya Grampus', 'Al Fayha', 'Piast Gliwice', 'Damac FC',\n",
       "       'Deportivo Binacional', 'Kashima Antlers', 'Al Hazem', 'Patronato',\n",
       "       'Sangju Sangmu FC', 'Oceânico FC', 'Barnsley', 'CF Fuenlabrada',\n",
       "       'Adelaide United', 'SD Ponferradina', 'FC Ingolstadt 04',\n",
       "       'Shamrock Rovers', 'Charlton Athletic', 'Sanfrecce Hiroshima',\n",
       "       'Brøndby IF', 'FC St. Pauli', 'SK Sturm Graz', 'Emelec',\n",
       "       'Hull City', 'Aarhus GF', 'Beerschot AC', 'UD Las Palmas',\n",
       "       'VfL Osnabrück', 'Málaga CF', 'Clermont Foot 63', 'FC Viitorul',\n",
       "       'GwangJu FC', 'Coquimbo Unido', 'Arsenal de Sarandí', 'CD Lugo',\n",
       "       'Lechia Gdańsk', 'Viktoria Köln', 'FC Nordsjælland',\n",
       "       'Karlsruher SC', 'FC Zürich', 'IF Elfsborg', 'SG Dynamo Dresden',\n",
       "       'Shimizu S-Pulse', 'Gangwon FC', 'HJK Helsinki',\n",
       "       'Vålerenga Fotball', 'Jagiellonia Białystok', 'Club Atlético Grau',\n",
       "       'Melgar FBC', 'Al Raed', 'FC Lugano', 'Barcelona Sporting Club',\n",
       "       'Coventry City', 'Doncaster Rovers', 'Eintracht Braunschweig',\n",
       "       'Chamois Niortais Football Club', 'Nacional Asunción', 'VVV-Venlo',\n",
       "       'Club Plaza Colonia', 'Urawa Red Diamonds', 'Kristiansund BK',\n",
       "       'Pohang Steelers', 'Suwon Samsung Bluewings', 'Abha Club',\n",
       "       'SK Brann', 'Oud-Heverlee Leuven', 'Oita Trinita',\n",
       "       'Pogoń Szczecin', 'SønderjyskE', 'Dundalk', 'Club Atlético Tigre',\n",
       "       'PEC Zwolle', 'Górnik Zabrze', 'Sunderland', 'Macarthur FC',\n",
       "       'Kilmarnock', 'Shonan Bellmare', 'Le Havre AC', 'Grenoble Foot 38',\n",
       "       'Fortuna Sittard', 'Melbourne Victory', 'FC Würzburger Kickers',\n",
       "       'Luton Town', 'SSV Jahn Regensburg',\n",
       "       'La Berrichonne de Châteauroux', 'Cusco FC', 'Śląsk Wrocław',\n",
       "       'BK Häcken', 'Club Bolívar', 'Liverpool Fútbol Club',\n",
       "       'Zagłębie Lubin', 'Alianza Lima', 'Sol de América', 'SD Aucas',\n",
       "       'Incheon United FC', 'Cracovia', 'SpVgg Unterhaching',\n",
       "       'Oriente Petrolero', 'Universidad Católica del Ecuador',\n",
       "       'Motherwell', 'Odense Boldklub', 'Stabæk Fotball', 'KV Oostende',\n",
       "       'Odds BK', 'UD Logroñés', 'SV Wehen Wiesbaden', 'Portsmouth',\n",
       "       'Sparta Rotterdam', 'Sepsi OSK', 'Wigan Athletic',\n",
       "       'Rotherham United', 'Audax Italiano', 'St. Johnstone FC',\n",
       "       'Randers FC', 'Vegalta Sendai', 'Viking FK', 'FC Hansa Rostock',\n",
       "       'Rodez Aveyron Football', 'FC Sochaux-Montbéliard',\n",
       "       'Gaz Metan Mediaş', 'MSV Duisburg', 'River Plate Montevideo',\n",
       "       'Milton Keynes Dons', 'SCR Altach', 'Lincoln City', 'Lyngby BK',\n",
       "       'Oxford United', 'Wycombe Wanderers', 'C.D. Castellón',\n",
       "       'Always Ready', 'AS Nancy Lorraine', 'RKC Waalwijk', 'Hibernian',\n",
       "       'TSV Hartberg', 'Deportivo Pasto', 'Delfín SC', 'FC Voluntari',\n",
       "       'Jorge Wilstermann', 'FC Botoşani', 'FC Chambly Oise',\n",
       "       'Nacional Potosí', 'FC Hermannstadt', 'Club Blooming',\n",
       "       'CD Huachipato', 'SV Waldhof Mannheim', 'CE Sabadell FC',\n",
       "       'Newcastle Jets', 'Seongnam FC', 'FSV Zwickau', 'Hallescher FC',\n",
       "       'Waasland-Beveren', 'IK Sirius', 'SV Ried', 'SKN St. Pölten',\n",
       "       'Örebro SK', 'Peterborough United', 'Vejle Boldklub', 'Pau FC',\n",
       "       'WSG Tirol', 'Brisbane Roar', 'Ipswich Town', 'IK Start',\n",
       "       'Kalmar FF', 'Sarpsborg 08 FF', 'Livingston FC', 'St. Mirren',\n",
       "       'Fleetwood Town', 'FC Lausanne-Sport', 'Sagan Tosu',\n",
       "       'TSV 1860 München', 'Busan IPark', 'Stal Mielec', 'Mjøndalen IF',\n",
       "       'Centro Atlético Fénix', 'Wisła Płock', 'SV Meppen',\n",
       "       'Estudiantes de Mérida', 'Sport Huancayo', 'Crewe Alexandra',\n",
       "       'Yokohama FC', 'Blackpool', 'Aalesunds FK', 'FK Haugesund',\n",
       "       'KFC Uerdingen 05', 'Plymouth Argyle', 'Bristol Rovers',\n",
       "       'AC Horsens', 'Politehnica Iaşi', 'Salford City', 'Warta Poznań',\n",
       "       'Northampton Town', 'Burton Albion', 'Central Coast Mariners',\n",
       "       'Al Adalah', 'AC Mineros de Guayana', 'USL Dunkerque',\n",
       "       'Sportivo Luqueño', 'UTA Arad', 'Chindia Târgovişte', 'Caracas FC',\n",
       "       'Bayern München II', 'Strømsgodset IF', 'Southend United',\n",
       "       'FC Admira Wacker Mödling', 'Exeter City', 'Gillingham',\n",
       "       'Hamilton Academical FC', 'Bradford City', 'Rochdale',\n",
       "       'Forest Green Rovers', 'Dundee United', '1. FC Magdeburg',\n",
       "       'Shrewsbury', 'FC Argeș', 'Türkgücü München', 'Cambridge United',\n",
       "       'Swindon Town', 'Grimsby Town', 'Carlisle United', 'Port Vale',\n",
       "       'Tranmere Rovers', 'Colchester United', 'Bolton Wanderers',\n",
       "       'VfB Lübeck', 'Accrington Stanley', 'Cheltenham Town', 'FC Vaduz',\n",
       "       '1. FC Saarbrücken', 'Östersunds FK', 'Mjällby AIF',\n",
       "       'Academica Clinceni', 'Aragua FC', 'Bohemian FC', 'Barrow',\n",
       "       'AFC Wimbledon', 'SC Verl', 'Ross County FC', 'Newport County',\n",
       "       'Sandefjord Fotball', 'Mansfield Town', 'Crawley Town',\n",
       "       'Falkenbergs FF', 'Varbergs BoIS', 'Walsall', 'Oldham Athletic',\n",
       "       'Scunthorpe United', 'Leyton Orient', 'Stevenage',\n",
       "       'Podbeskidzie Bielsko-Biała', 'Morecambe', 'Derry City',\n",
       "       'Llaneros de Guanare', 'Sligo Rovers', 'Cork City',\n",
       "       \"St. Patrick's Athletic\", 'Zamora FC', 'Shelbourne FC',\n",
       "       'Harrogate Town', 'Waterford FC', 'Finn Harps'], dtype=object)"
      ]
     },
     "execution_count": 138,
     "metadata": {},
     "output_type": "execute_result"
    }
   ],
   "source": [
    "### age distribution of players in the clubs.\n",
    "data['club_name'].unique()"
   ]
  },
  {
   "cell_type": "code",
   "execution_count": 170,
   "id": "5838f788",
   "metadata": {},
   "outputs": [],
   "source": [
    "clubs_name = ['FC Barcelona', 'Juventus', 'Atlético Madrid', 'FC Bayern München',\n",
    "       'Paris Saint-Germain', 'Manchester City', 'Liverpool',\n",
    "       'Real Madrid', 'Chelsea', 'Manchester United', 'Arsenal',]\n",
    "\n",
    "clubs = data[(data['club_name'].isin(clubs_name)) & (data['age'])]"
   ]
  },
  {
   "cell_type": "code",
   "execution_count": 156,
   "id": "7c0b5028",
   "metadata": {},
   "outputs": [
    {
     "data": {
      "application/vnd.plotly.v1+json": {
       "config": {
        "plotlyServerURL": "https://plot.ly"
       },
       "data": [
        {
         "alignmentgroup": "True",
         "boxpoints": "all",
         "hovertemplate": "club_name=%{x}<br>age=%{y}<extra></extra>",
         "legendgroup": "",
         "marker": {
          "color": "#636efa"
         },
         "name": "",
         "notched": false,
         "offsetgroup": "",
         "orientation": "v",
         "showlegend": false,
         "type": "box",
         "x": [
          "FC Barcelona",
          "Juventus",
          "Atlético Madrid",
          "FC Bayern München",
          "Manchester City",
          "Paris Saint-Germain",
          "Liverpool",
          "Manchester City",
          "FC Bayern München",
          "Real Madrid",
          "Chelsea",
          "Liverpool",
          "Manchester United",
          "Manchester City",
          "Juventus",
          "FC Barcelona",
          "Arsenal",
          "FC Barcelona",
          "Paris Saint-Germain",
          "FC Barcelona",
          "Real Madrid",
          "Manchester United",
          "Paris Saint-Germain",
          "FC Barcelona",
          "FC Barcelona",
          "Manchester United",
          "Chelsea",
          "FC Barcelona",
          "FC Barcelona",
          "Paris Saint-Germain",
          "Chelsea",
          "Chelsea",
          "Liverpool",
          "Juventus",
          "Liverpool",
          "Juventus",
          "Manchester City",
          "Juventus",
          "FC Bayern München",
          "Atlético Madrid",
          "Atlético Madrid",
          "Atlético Madrid",
          "Manchester City",
          "Juventus",
          "Atlético Madrid",
          "Real Madrid",
          "Real Madrid",
          "FC Barcelona",
          "Liverpool",
          "Real Madrid",
          "Manchester United",
          "Manchester City",
          "Paris Saint-Germain",
          "Atlético Madrid",
          "Manchester City",
          "Arsenal",
          "Chelsea",
          "Manchester United",
          "Atlético Madrid",
          "Arsenal",
          "Atlético Madrid",
          "Atlético Madrid",
          "Arsenal",
          "Arsenal",
          "FC Bayern München",
          "Juventus",
          "FC Bayern München",
          "Chelsea",
          "Liverpool",
          "Chelsea",
          "Manchester City",
          "Chelsea",
          "Manchester United",
          "Atlético Madrid",
          "Juventus",
          "FC Bayern München",
          "Juventus",
          "Chelsea",
          "Paris Saint-Germain",
          "Real Madrid",
          "Chelsea",
          "Manchester United",
          "Liverpool",
          "Arsenal",
          "Arsenal",
          "Manchester City",
          "Manchester United",
          "Chelsea",
          "Juventus",
          "FC Bayern München",
          "Atlético Madrid",
          "Arsenal",
          "Manchester United",
          "Atlético Madrid",
          "Arsenal",
          "Manchester United",
          "Real Madrid",
          "Real Madrid",
          "Juventus",
          "FC Barcelona",
          "Manchester United",
          "Manchester City",
          "Chelsea",
          "Chelsea",
          "FC Barcelona",
          "Chelsea",
          "FC Bayern München",
          "Arsenal",
          "Liverpool",
          "Arsenal",
          "Chelsea",
          "Juventus",
          "Arsenal",
          "Liverpool",
          "Liverpool",
          "Paris Saint-Germain",
          "Liverpool",
          "Manchester United",
          "Paris Saint-Germain",
          "Manchester United",
          "FC Barcelona",
          "Manchester United",
          "Real Madrid",
          "Manchester City",
          "Arsenal",
          "FC Barcelona",
          "Liverpool",
          "Real Madrid",
          "FC Bayern München",
          "Manchester United",
          "Juventus",
          "Arsenal",
          "Paris Saint-Germain",
          "Chelsea",
          "Chelsea",
          "Chelsea",
          "Arsenal",
          "Chelsea",
          "Arsenal",
          "Manchester City",
          "Manchester City",
          "FC Barcelona",
          "Juventus",
          "Manchester City",
          "FC Bayern München",
          "Paris Saint-Germain",
          "Chelsea",
          "Arsenal",
          "Atlético Madrid",
          "Manchester United",
          "Arsenal",
          "FC Barcelona",
          "FC Barcelona",
          "Atlético Madrid",
          "FC Barcelona",
          "Manchester City",
          "FC Bayern München",
          "Liverpool",
          "Liverpool",
          "FC Barcelona",
          "Juventus",
          "Paris Saint-Germain",
          "Liverpool",
          "Manchester City",
          "Juventus",
          "Juventus",
          "Arsenal",
          "Liverpool",
          "Real Madrid",
          "Juventus",
          "Paris Saint-Germain",
          "Manchester United",
          "Paris Saint-Germain",
          "Paris Saint-Germain",
          "Manchester City",
          "Liverpool",
          "Arsenal"
         ],
         "x0": " ",
         "xaxis": "x",
         "y": [
          33,
          35,
          27,
          31,
          29,
          21,
          27,
          25,
          25,
          29,
          29,
          21,
          25,
          25,
          35,
          33,
          31,
          31,
          33,
          29,
          27,
          27,
          27,
          33,
          31,
          29,
          21,
          23,
          25,
          27,
          27,
          35,
          29,
          33,
          29,
          29,
          29,
          23,
          25,
          25,
          25,
          27,
          35,
          29,
          31,
          21,
          21,
          23,
          23,
          25,
          23,
          23,
          27,
          29,
          29,
          29,
          25,
          27,
          25,
          25,
          25,
          27,
          31,
          31,
          31,
          29,
          19,
          21,
          25,
          23,
          25,
          27,
          27,
          29,
          25,
          31,
          33,
          29,
          29,
          19,
          21,
          23,
          23,
          25,
          23,
          23,
          25,
          25,
          25,
          25,
          25,
          27,
          33,
          31,
          33,
          31,
          29,
          19,
          23,
          23,
          23,
          25,
          25,
          25,
          27,
          33,
          31,
          23,
          27,
          27,
          29,
          27,
          21,
          23,
          25,
          23,
          25,
          31,
          27,
          27,
          17,
          21,
          23,
          25,
          27,
          29,
          33,
          21,
          23,
          19,
          21,
          25,
          21,
          21,
          25,
          27,
          19,
          19,
          19,
          23,
          23,
          17,
          21,
          19,
          21,
          27,
          19,
          21,
          19,
          37,
          19,
          19,
          21,
          19,
          23,
          23,
          19,
          23,
          19,
          21,
          19,
          17,
          17,
          19,
          21,
          21,
          25,
          19,
          21,
          21,
          17,
          19,
          17,
          19,
          19,
          21,
          25
         ],
         "y0": " ",
         "yaxis": "y"
        }
       ],
       "layout": {
        "autosize": false,
        "boxmode": "group",
        "height": 500,
        "legend": {
         "tracegroupgap": 0
        },
        "margin": {
         "t": 60
        },
        "template": {
         "data": {
          "bar": [
           {
            "error_x": {
             "color": "#2a3f5f"
            },
            "error_y": {
             "color": "#2a3f5f"
            },
            "marker": {
             "line": {
              "color": "#E5ECF6",
              "width": 0.5
             },
             "pattern": {
              "fillmode": "overlay",
              "size": 10,
              "solidity": 0.2
             }
            },
            "type": "bar"
           }
          ],
          "barpolar": [
           {
            "marker": {
             "line": {
              "color": "#E5ECF6",
              "width": 0.5
             },
             "pattern": {
              "fillmode": "overlay",
              "size": 10,
              "solidity": 0.2
             }
            },
            "type": "barpolar"
           }
          ],
          "carpet": [
           {
            "aaxis": {
             "endlinecolor": "#2a3f5f",
             "gridcolor": "white",
             "linecolor": "white",
             "minorgridcolor": "white",
             "startlinecolor": "#2a3f5f"
            },
            "baxis": {
             "endlinecolor": "#2a3f5f",
             "gridcolor": "white",
             "linecolor": "white",
             "minorgridcolor": "white",
             "startlinecolor": "#2a3f5f"
            },
            "type": "carpet"
           }
          ],
          "choropleth": [
           {
            "colorbar": {
             "outlinewidth": 0,
             "ticks": ""
            },
            "type": "choropleth"
           }
          ],
          "contour": [
           {
            "colorbar": {
             "outlinewidth": 0,
             "ticks": ""
            },
            "colorscale": [
             [
              0,
              "#0d0887"
             ],
             [
              0.1111111111111111,
              "#46039f"
             ],
             [
              0.2222222222222222,
              "#7201a8"
             ],
             [
              0.3333333333333333,
              "#9c179e"
             ],
             [
              0.4444444444444444,
              "#bd3786"
             ],
             [
              0.5555555555555556,
              "#d8576b"
             ],
             [
              0.6666666666666666,
              "#ed7953"
             ],
             [
              0.7777777777777778,
              "#fb9f3a"
             ],
             [
              0.8888888888888888,
              "#fdca26"
             ],
             [
              1,
              "#f0f921"
             ]
            ],
            "type": "contour"
           }
          ],
          "contourcarpet": [
           {
            "colorbar": {
             "outlinewidth": 0,
             "ticks": ""
            },
            "type": "contourcarpet"
           }
          ],
          "heatmap": [
           {
            "colorbar": {
             "outlinewidth": 0,
             "ticks": ""
            },
            "colorscale": [
             [
              0,
              "#0d0887"
             ],
             [
              0.1111111111111111,
              "#46039f"
             ],
             [
              0.2222222222222222,
              "#7201a8"
             ],
             [
              0.3333333333333333,
              "#9c179e"
             ],
             [
              0.4444444444444444,
              "#bd3786"
             ],
             [
              0.5555555555555556,
              "#d8576b"
             ],
             [
              0.6666666666666666,
              "#ed7953"
             ],
             [
              0.7777777777777778,
              "#fb9f3a"
             ],
             [
              0.8888888888888888,
              "#fdca26"
             ],
             [
              1,
              "#f0f921"
             ]
            ],
            "type": "heatmap"
           }
          ],
          "heatmapgl": [
           {
            "colorbar": {
             "outlinewidth": 0,
             "ticks": ""
            },
            "colorscale": [
             [
              0,
              "#0d0887"
             ],
             [
              0.1111111111111111,
              "#46039f"
             ],
             [
              0.2222222222222222,
              "#7201a8"
             ],
             [
              0.3333333333333333,
              "#9c179e"
             ],
             [
              0.4444444444444444,
              "#bd3786"
             ],
             [
              0.5555555555555556,
              "#d8576b"
             ],
             [
              0.6666666666666666,
              "#ed7953"
             ],
             [
              0.7777777777777778,
              "#fb9f3a"
             ],
             [
              0.8888888888888888,
              "#fdca26"
             ],
             [
              1,
              "#f0f921"
             ]
            ],
            "type": "heatmapgl"
           }
          ],
          "histogram": [
           {
            "marker": {
             "pattern": {
              "fillmode": "overlay",
              "size": 10,
              "solidity": 0.2
             }
            },
            "type": "histogram"
           }
          ],
          "histogram2d": [
           {
            "colorbar": {
             "outlinewidth": 0,
             "ticks": ""
            },
            "colorscale": [
             [
              0,
              "#0d0887"
             ],
             [
              0.1111111111111111,
              "#46039f"
             ],
             [
              0.2222222222222222,
              "#7201a8"
             ],
             [
              0.3333333333333333,
              "#9c179e"
             ],
             [
              0.4444444444444444,
              "#bd3786"
             ],
             [
              0.5555555555555556,
              "#d8576b"
             ],
             [
              0.6666666666666666,
              "#ed7953"
             ],
             [
              0.7777777777777778,
              "#fb9f3a"
             ],
             [
              0.8888888888888888,
              "#fdca26"
             ],
             [
              1,
              "#f0f921"
             ]
            ],
            "type": "histogram2d"
           }
          ],
          "histogram2dcontour": [
           {
            "colorbar": {
             "outlinewidth": 0,
             "ticks": ""
            },
            "colorscale": [
             [
              0,
              "#0d0887"
             ],
             [
              0.1111111111111111,
              "#46039f"
             ],
             [
              0.2222222222222222,
              "#7201a8"
             ],
             [
              0.3333333333333333,
              "#9c179e"
             ],
             [
              0.4444444444444444,
              "#bd3786"
             ],
             [
              0.5555555555555556,
              "#d8576b"
             ],
             [
              0.6666666666666666,
              "#ed7953"
             ],
             [
              0.7777777777777778,
              "#fb9f3a"
             ],
             [
              0.8888888888888888,
              "#fdca26"
             ],
             [
              1,
              "#f0f921"
             ]
            ],
            "type": "histogram2dcontour"
           }
          ],
          "mesh3d": [
           {
            "colorbar": {
             "outlinewidth": 0,
             "ticks": ""
            },
            "type": "mesh3d"
           }
          ],
          "parcoords": [
           {
            "line": {
             "colorbar": {
              "outlinewidth": 0,
              "ticks": ""
             }
            },
            "type": "parcoords"
           }
          ],
          "pie": [
           {
            "automargin": true,
            "type": "pie"
           }
          ],
          "scatter": [
           {
            "marker": {
             "colorbar": {
              "outlinewidth": 0,
              "ticks": ""
             }
            },
            "type": "scatter"
           }
          ],
          "scatter3d": [
           {
            "line": {
             "colorbar": {
              "outlinewidth": 0,
              "ticks": ""
             }
            },
            "marker": {
             "colorbar": {
              "outlinewidth": 0,
              "ticks": ""
             }
            },
            "type": "scatter3d"
           }
          ],
          "scattercarpet": [
           {
            "marker": {
             "colorbar": {
              "outlinewidth": 0,
              "ticks": ""
             }
            },
            "type": "scattercarpet"
           }
          ],
          "scattergeo": [
           {
            "marker": {
             "colorbar": {
              "outlinewidth": 0,
              "ticks": ""
             }
            },
            "type": "scattergeo"
           }
          ],
          "scattergl": [
           {
            "marker": {
             "colorbar": {
              "outlinewidth": 0,
              "ticks": ""
             }
            },
            "type": "scattergl"
           }
          ],
          "scattermapbox": [
           {
            "marker": {
             "colorbar": {
              "outlinewidth": 0,
              "ticks": ""
             }
            },
            "type": "scattermapbox"
           }
          ],
          "scatterpolar": [
           {
            "marker": {
             "colorbar": {
              "outlinewidth": 0,
              "ticks": ""
             }
            },
            "type": "scatterpolar"
           }
          ],
          "scatterpolargl": [
           {
            "marker": {
             "colorbar": {
              "outlinewidth": 0,
              "ticks": ""
             }
            },
            "type": "scatterpolargl"
           }
          ],
          "scatterternary": [
           {
            "marker": {
             "colorbar": {
              "outlinewidth": 0,
              "ticks": ""
             }
            },
            "type": "scatterternary"
           }
          ],
          "surface": [
           {
            "colorbar": {
             "outlinewidth": 0,
             "ticks": ""
            },
            "colorscale": [
             [
              0,
              "#0d0887"
             ],
             [
              0.1111111111111111,
              "#46039f"
             ],
             [
              0.2222222222222222,
              "#7201a8"
             ],
             [
              0.3333333333333333,
              "#9c179e"
             ],
             [
              0.4444444444444444,
              "#bd3786"
             ],
             [
              0.5555555555555556,
              "#d8576b"
             ],
             [
              0.6666666666666666,
              "#ed7953"
             ],
             [
              0.7777777777777778,
              "#fb9f3a"
             ],
             [
              0.8888888888888888,
              "#fdca26"
             ],
             [
              1,
              "#f0f921"
             ]
            ],
            "type": "surface"
           }
          ],
          "table": [
           {
            "cells": {
             "fill": {
              "color": "#EBF0F8"
             },
             "line": {
              "color": "white"
             }
            },
            "header": {
             "fill": {
              "color": "#C8D4E3"
             },
             "line": {
              "color": "white"
             }
            },
            "type": "table"
           }
          ]
         },
         "layout": {
          "annotationdefaults": {
           "arrowcolor": "#2a3f5f",
           "arrowhead": 0,
           "arrowwidth": 1
          },
          "autotypenumbers": "strict",
          "coloraxis": {
           "colorbar": {
            "outlinewidth": 0,
            "ticks": ""
           }
          },
          "colorscale": {
           "diverging": [
            [
             0,
             "#8e0152"
            ],
            [
             0.1,
             "#c51b7d"
            ],
            [
             0.2,
             "#de77ae"
            ],
            [
             0.3,
             "#f1b6da"
            ],
            [
             0.4,
             "#fde0ef"
            ],
            [
             0.5,
             "#f7f7f7"
            ],
            [
             0.6,
             "#e6f5d0"
            ],
            [
             0.7,
             "#b8e186"
            ],
            [
             0.8,
             "#7fbc41"
            ],
            [
             0.9,
             "#4d9221"
            ],
            [
             1,
             "#276419"
            ]
           ],
           "sequential": [
            [
             0,
             "#0d0887"
            ],
            [
             0.1111111111111111,
             "#46039f"
            ],
            [
             0.2222222222222222,
             "#7201a8"
            ],
            [
             0.3333333333333333,
             "#9c179e"
            ],
            [
             0.4444444444444444,
             "#bd3786"
            ],
            [
             0.5555555555555556,
             "#d8576b"
            ],
            [
             0.6666666666666666,
             "#ed7953"
            ],
            [
             0.7777777777777778,
             "#fb9f3a"
            ],
            [
             0.8888888888888888,
             "#fdca26"
            ],
            [
             1,
             "#f0f921"
            ]
           ],
           "sequentialminus": [
            [
             0,
             "#0d0887"
            ],
            [
             0.1111111111111111,
             "#46039f"
            ],
            [
             0.2222222222222222,
             "#7201a8"
            ],
            [
             0.3333333333333333,
             "#9c179e"
            ],
            [
             0.4444444444444444,
             "#bd3786"
            ],
            [
             0.5555555555555556,
             "#d8576b"
            ],
            [
             0.6666666666666666,
             "#ed7953"
            ],
            [
             0.7777777777777778,
             "#fb9f3a"
            ],
            [
             0.8888888888888888,
             "#fdca26"
            ],
            [
             1,
             "#f0f921"
            ]
           ]
          },
          "colorway": [
           "#636efa",
           "#EF553B",
           "#00cc96",
           "#ab63fa",
           "#FFA15A",
           "#19d3f3",
           "#FF6692",
           "#B6E880",
           "#FF97FF",
           "#FECB52"
          ],
          "font": {
           "color": "#2a3f5f"
          },
          "geo": {
           "bgcolor": "white",
           "lakecolor": "white",
           "landcolor": "#E5ECF6",
           "showlakes": true,
           "showland": true,
           "subunitcolor": "white"
          },
          "hoverlabel": {
           "align": "left"
          },
          "hovermode": "closest",
          "mapbox": {
           "style": "light"
          },
          "paper_bgcolor": "white",
          "plot_bgcolor": "#E5ECF6",
          "polar": {
           "angularaxis": {
            "gridcolor": "white",
            "linecolor": "white",
            "ticks": ""
           },
           "bgcolor": "#E5ECF6",
           "radialaxis": {
            "gridcolor": "white",
            "linecolor": "white",
            "ticks": ""
           }
          },
          "scene": {
           "xaxis": {
            "backgroundcolor": "#E5ECF6",
            "gridcolor": "white",
            "gridwidth": 2,
            "linecolor": "white",
            "showbackground": true,
            "ticks": "",
            "zerolinecolor": "white"
           },
           "yaxis": {
            "backgroundcolor": "#E5ECF6",
            "gridcolor": "white",
            "gridwidth": 2,
            "linecolor": "white",
            "showbackground": true,
            "ticks": "",
            "zerolinecolor": "white"
           },
           "zaxis": {
            "backgroundcolor": "#E5ECF6",
            "gridcolor": "white",
            "gridwidth": 2,
            "linecolor": "white",
            "showbackground": true,
            "ticks": "",
            "zerolinecolor": "white"
           }
          },
          "shapedefaults": {
           "line": {
            "color": "#2a3f5f"
           }
          },
          "ternary": {
           "aaxis": {
            "gridcolor": "white",
            "linecolor": "white",
            "ticks": ""
           },
           "baxis": {
            "gridcolor": "white",
            "linecolor": "white",
            "ticks": ""
           },
           "bgcolor": "#E5ECF6",
           "caxis": {
            "gridcolor": "white",
            "linecolor": "white",
            "ticks": ""
           }
          },
          "title": {
           "x": 0.05
          },
          "xaxis": {
           "automargin": true,
           "gridcolor": "white",
           "linecolor": "white",
           "ticks": "",
           "title": {
            "standoff": 15
           },
           "zerolinecolor": "white",
           "zerolinewidth": 2
          },
          "yaxis": {
           "automargin": true,
           "gridcolor": "white",
           "linecolor": "white",
           "ticks": "",
           "title": {
            "standoff": 15
           },
           "zerolinecolor": "white",
           "zerolinewidth": 2
          }
         }
        },
        "width": 1000,
        "xaxis": {
         "anchor": "y",
         "domain": [
          0,
          1
         ],
         "title": {
          "text": "club_name"
         }
        },
        "yaxis": {
         "anchor": "x",
         "domain": [
          0,
          1
         ],
         "title": {
          "text": "age"
         }
        }
       }
      },
      "text/html": [
       "<div>                            <div id=\"bb51434b-2d83-467a-b05b-130c7104dae3\" class=\"plotly-graph-div\" style=\"height:500px; width:1000px;\"></div>            <script type=\"text/javascript\">                require([\"plotly\"], function(Plotly) {                    window.PLOTLYENV=window.PLOTLYENV || {};                                    if (document.getElementById(\"bb51434b-2d83-467a-b05b-130c7104dae3\")) {                    Plotly.newPlot(                        \"bb51434b-2d83-467a-b05b-130c7104dae3\",                        [{\"alignmentgroup\":\"True\",\"boxpoints\":\"all\",\"hovertemplate\":\"club_name=%{x}<br>age=%{y}<extra></extra>\",\"legendgroup\":\"\",\"marker\":{\"color\":\"#636efa\"},\"name\":\"\",\"notched\":false,\"offsetgroup\":\"\",\"orientation\":\"v\",\"showlegend\":false,\"x\":[\"FC Barcelona\",\"Juventus\",\"Atl\\u00e9tico Madrid\",\"FC Bayern M\\u00fcnchen\",\"Manchester City\",\"Paris Saint-Germain\",\"Liverpool\",\"Manchester City\",\"FC Bayern M\\u00fcnchen\",\"Real Madrid\",\"Chelsea\",\"Liverpool\",\"Manchester United\",\"Manchester City\",\"Juventus\",\"FC Barcelona\",\"Arsenal\",\"FC Barcelona\",\"Paris Saint-Germain\",\"FC Barcelona\",\"Real Madrid\",\"Manchester United\",\"Paris Saint-Germain\",\"FC Barcelona\",\"FC Barcelona\",\"Manchester United\",\"Chelsea\",\"FC Barcelona\",\"FC Barcelona\",\"Paris Saint-Germain\",\"Chelsea\",\"Chelsea\",\"Liverpool\",\"Juventus\",\"Liverpool\",\"Juventus\",\"Manchester City\",\"Juventus\",\"FC Bayern M\\u00fcnchen\",\"Atl\\u00e9tico Madrid\",\"Atl\\u00e9tico Madrid\",\"Atl\\u00e9tico Madrid\",\"Manchester City\",\"Juventus\",\"Atl\\u00e9tico Madrid\",\"Real Madrid\",\"Real Madrid\",\"FC Barcelona\",\"Liverpool\",\"Real Madrid\",\"Manchester United\",\"Manchester City\",\"Paris Saint-Germain\",\"Atl\\u00e9tico Madrid\",\"Manchester City\",\"Arsenal\",\"Chelsea\",\"Manchester United\",\"Atl\\u00e9tico Madrid\",\"Arsenal\",\"Atl\\u00e9tico Madrid\",\"Atl\\u00e9tico Madrid\",\"Arsenal\",\"Arsenal\",\"FC Bayern M\\u00fcnchen\",\"Juventus\",\"FC Bayern M\\u00fcnchen\",\"Chelsea\",\"Liverpool\",\"Chelsea\",\"Manchester City\",\"Chelsea\",\"Manchester United\",\"Atl\\u00e9tico Madrid\",\"Juventus\",\"FC Bayern M\\u00fcnchen\",\"Juventus\",\"Chelsea\",\"Paris Saint-Germain\",\"Real Madrid\",\"Chelsea\",\"Manchester United\",\"Liverpool\",\"Arsenal\",\"Arsenal\",\"Manchester City\",\"Manchester United\",\"Chelsea\",\"Juventus\",\"FC Bayern M\\u00fcnchen\",\"Atl\\u00e9tico Madrid\",\"Arsenal\",\"Manchester United\",\"Atl\\u00e9tico Madrid\",\"Arsenal\",\"Manchester United\",\"Real Madrid\",\"Real Madrid\",\"Juventus\",\"FC Barcelona\",\"Manchester United\",\"Manchester City\",\"Chelsea\",\"Chelsea\",\"FC Barcelona\",\"Chelsea\",\"FC Bayern M\\u00fcnchen\",\"Arsenal\",\"Liverpool\",\"Arsenal\",\"Chelsea\",\"Juventus\",\"Arsenal\",\"Liverpool\",\"Liverpool\",\"Paris Saint-Germain\",\"Liverpool\",\"Manchester United\",\"Paris Saint-Germain\",\"Manchester United\",\"FC Barcelona\",\"Manchester United\",\"Real Madrid\",\"Manchester City\",\"Arsenal\",\"FC Barcelona\",\"Liverpool\",\"Real Madrid\",\"FC Bayern M\\u00fcnchen\",\"Manchester United\",\"Juventus\",\"Arsenal\",\"Paris Saint-Germain\",\"Chelsea\",\"Chelsea\",\"Chelsea\",\"Arsenal\",\"Chelsea\",\"Arsenal\",\"Manchester City\",\"Manchester City\",\"FC Barcelona\",\"Juventus\",\"Manchester City\",\"FC Bayern M\\u00fcnchen\",\"Paris Saint-Germain\",\"Chelsea\",\"Arsenal\",\"Atl\\u00e9tico Madrid\",\"Manchester United\",\"Arsenal\",\"FC Barcelona\",\"FC Barcelona\",\"Atl\\u00e9tico Madrid\",\"FC Barcelona\",\"Manchester City\",\"FC Bayern M\\u00fcnchen\",\"Liverpool\",\"Liverpool\",\"FC Barcelona\",\"Juventus\",\"Paris Saint-Germain\",\"Liverpool\",\"Manchester City\",\"Juventus\",\"Juventus\",\"Arsenal\",\"Liverpool\",\"Real Madrid\",\"Juventus\",\"Paris Saint-Germain\",\"Manchester United\",\"Paris Saint-Germain\",\"Paris Saint-Germain\",\"Manchester City\",\"Liverpool\",\"Arsenal\"],\"x0\":\" \",\"xaxis\":\"x\",\"y\":[33,35,27,31,29,21,27,25,25,29,29,21,25,25,35,33,31,31,33,29,27,27,27,33,31,29,21,23,25,27,27,35,29,33,29,29,29,23,25,25,25,27,35,29,31,21,21,23,23,25,23,23,27,29,29,29,25,27,25,25,25,27,31,31,31,29,19,21,25,23,25,27,27,29,25,31,33,29,29,19,21,23,23,25,23,23,25,25,25,25,25,27,33,31,33,31,29,19,23,23,23,25,25,25,27,33,31,23,27,27,29,27,21,23,25,23,25,31,27,27,17,21,23,25,27,29,33,21,23,19,21,25,21,21,25,27,19,19,19,23,23,17,21,19,21,27,19,21,19,37,19,19,21,19,23,23,19,23,19,21,19,17,17,19,21,21,25,19,21,21,17,19,17,19,19,21,25],\"y0\":\" \",\"yaxis\":\"y\",\"type\":\"box\"}],                        {\"template\":{\"data\":{\"bar\":[{\"error_x\":{\"color\":\"#2a3f5f\"},\"error_y\":{\"color\":\"#2a3f5f\"},\"marker\":{\"line\":{\"color\":\"#E5ECF6\",\"width\":0.5},\"pattern\":{\"fillmode\":\"overlay\",\"size\":10,\"solidity\":0.2}},\"type\":\"bar\"}],\"barpolar\":[{\"marker\":{\"line\":{\"color\":\"#E5ECF6\",\"width\":0.5},\"pattern\":{\"fillmode\":\"overlay\",\"size\":10,\"solidity\":0.2}},\"type\":\"barpolar\"}],\"carpet\":[{\"aaxis\":{\"endlinecolor\":\"#2a3f5f\",\"gridcolor\":\"white\",\"linecolor\":\"white\",\"minorgridcolor\":\"white\",\"startlinecolor\":\"#2a3f5f\"},\"baxis\":{\"endlinecolor\":\"#2a3f5f\",\"gridcolor\":\"white\",\"linecolor\":\"white\",\"minorgridcolor\":\"white\",\"startlinecolor\":\"#2a3f5f\"},\"type\":\"carpet\"}],\"choropleth\":[{\"colorbar\":{\"outlinewidth\":0,\"ticks\":\"\"},\"type\":\"choropleth\"}],\"contour\":[{\"colorbar\":{\"outlinewidth\":0,\"ticks\":\"\"},\"colorscale\":[[0.0,\"#0d0887\"],[0.1111111111111111,\"#46039f\"],[0.2222222222222222,\"#7201a8\"],[0.3333333333333333,\"#9c179e\"],[0.4444444444444444,\"#bd3786\"],[0.5555555555555556,\"#d8576b\"],[0.6666666666666666,\"#ed7953\"],[0.7777777777777778,\"#fb9f3a\"],[0.8888888888888888,\"#fdca26\"],[1.0,\"#f0f921\"]],\"type\":\"contour\"}],\"contourcarpet\":[{\"colorbar\":{\"outlinewidth\":0,\"ticks\":\"\"},\"type\":\"contourcarpet\"}],\"heatmap\":[{\"colorbar\":{\"outlinewidth\":0,\"ticks\":\"\"},\"colorscale\":[[0.0,\"#0d0887\"],[0.1111111111111111,\"#46039f\"],[0.2222222222222222,\"#7201a8\"],[0.3333333333333333,\"#9c179e\"],[0.4444444444444444,\"#bd3786\"],[0.5555555555555556,\"#d8576b\"],[0.6666666666666666,\"#ed7953\"],[0.7777777777777778,\"#fb9f3a\"],[0.8888888888888888,\"#fdca26\"],[1.0,\"#f0f921\"]],\"type\":\"heatmap\"}],\"heatmapgl\":[{\"colorbar\":{\"outlinewidth\":0,\"ticks\":\"\"},\"colorscale\":[[0.0,\"#0d0887\"],[0.1111111111111111,\"#46039f\"],[0.2222222222222222,\"#7201a8\"],[0.3333333333333333,\"#9c179e\"],[0.4444444444444444,\"#bd3786\"],[0.5555555555555556,\"#d8576b\"],[0.6666666666666666,\"#ed7953\"],[0.7777777777777778,\"#fb9f3a\"],[0.8888888888888888,\"#fdca26\"],[1.0,\"#f0f921\"]],\"type\":\"heatmapgl\"}],\"histogram\":[{\"marker\":{\"pattern\":{\"fillmode\":\"overlay\",\"size\":10,\"solidity\":0.2}},\"type\":\"histogram\"}],\"histogram2d\":[{\"colorbar\":{\"outlinewidth\":0,\"ticks\":\"\"},\"colorscale\":[[0.0,\"#0d0887\"],[0.1111111111111111,\"#46039f\"],[0.2222222222222222,\"#7201a8\"],[0.3333333333333333,\"#9c179e\"],[0.4444444444444444,\"#bd3786\"],[0.5555555555555556,\"#d8576b\"],[0.6666666666666666,\"#ed7953\"],[0.7777777777777778,\"#fb9f3a\"],[0.8888888888888888,\"#fdca26\"],[1.0,\"#f0f921\"]],\"type\":\"histogram2d\"}],\"histogram2dcontour\":[{\"colorbar\":{\"outlinewidth\":0,\"ticks\":\"\"},\"colorscale\":[[0.0,\"#0d0887\"],[0.1111111111111111,\"#46039f\"],[0.2222222222222222,\"#7201a8\"],[0.3333333333333333,\"#9c179e\"],[0.4444444444444444,\"#bd3786\"],[0.5555555555555556,\"#d8576b\"],[0.6666666666666666,\"#ed7953\"],[0.7777777777777778,\"#fb9f3a\"],[0.8888888888888888,\"#fdca26\"],[1.0,\"#f0f921\"]],\"type\":\"histogram2dcontour\"}],\"mesh3d\":[{\"colorbar\":{\"outlinewidth\":0,\"ticks\":\"\"},\"type\":\"mesh3d\"}],\"parcoords\":[{\"line\":{\"colorbar\":{\"outlinewidth\":0,\"ticks\":\"\"}},\"type\":\"parcoords\"}],\"pie\":[{\"automargin\":true,\"type\":\"pie\"}],\"scatter\":[{\"marker\":{\"colorbar\":{\"outlinewidth\":0,\"ticks\":\"\"}},\"type\":\"scatter\"}],\"scatter3d\":[{\"line\":{\"colorbar\":{\"outlinewidth\":0,\"ticks\":\"\"}},\"marker\":{\"colorbar\":{\"outlinewidth\":0,\"ticks\":\"\"}},\"type\":\"scatter3d\"}],\"scattercarpet\":[{\"marker\":{\"colorbar\":{\"outlinewidth\":0,\"ticks\":\"\"}},\"type\":\"scattercarpet\"}],\"scattergeo\":[{\"marker\":{\"colorbar\":{\"outlinewidth\":0,\"ticks\":\"\"}},\"type\":\"scattergeo\"}],\"scattergl\":[{\"marker\":{\"colorbar\":{\"outlinewidth\":0,\"ticks\":\"\"}},\"type\":\"scattergl\"}],\"scattermapbox\":[{\"marker\":{\"colorbar\":{\"outlinewidth\":0,\"ticks\":\"\"}},\"type\":\"scattermapbox\"}],\"scatterpolar\":[{\"marker\":{\"colorbar\":{\"outlinewidth\":0,\"ticks\":\"\"}},\"type\":\"scatterpolar\"}],\"scatterpolargl\":[{\"marker\":{\"colorbar\":{\"outlinewidth\":0,\"ticks\":\"\"}},\"type\":\"scatterpolargl\"}],\"scatterternary\":[{\"marker\":{\"colorbar\":{\"outlinewidth\":0,\"ticks\":\"\"}},\"type\":\"scatterternary\"}],\"surface\":[{\"colorbar\":{\"outlinewidth\":0,\"ticks\":\"\"},\"colorscale\":[[0.0,\"#0d0887\"],[0.1111111111111111,\"#46039f\"],[0.2222222222222222,\"#7201a8\"],[0.3333333333333333,\"#9c179e\"],[0.4444444444444444,\"#bd3786\"],[0.5555555555555556,\"#d8576b\"],[0.6666666666666666,\"#ed7953\"],[0.7777777777777778,\"#fb9f3a\"],[0.8888888888888888,\"#fdca26\"],[1.0,\"#f0f921\"]],\"type\":\"surface\"}],\"table\":[{\"cells\":{\"fill\":{\"color\":\"#EBF0F8\"},\"line\":{\"color\":\"white\"}},\"header\":{\"fill\":{\"color\":\"#C8D4E3\"},\"line\":{\"color\":\"white\"}},\"type\":\"table\"}]},\"layout\":{\"annotationdefaults\":{\"arrowcolor\":\"#2a3f5f\",\"arrowhead\":0,\"arrowwidth\":1},\"autotypenumbers\":\"strict\",\"coloraxis\":{\"colorbar\":{\"outlinewidth\":0,\"ticks\":\"\"}},\"colorscale\":{\"diverging\":[[0,\"#8e0152\"],[0.1,\"#c51b7d\"],[0.2,\"#de77ae\"],[0.3,\"#f1b6da\"],[0.4,\"#fde0ef\"],[0.5,\"#f7f7f7\"],[0.6,\"#e6f5d0\"],[0.7,\"#b8e186\"],[0.8,\"#7fbc41\"],[0.9,\"#4d9221\"],[1,\"#276419\"]],\"sequential\":[[0.0,\"#0d0887\"],[0.1111111111111111,\"#46039f\"],[0.2222222222222222,\"#7201a8\"],[0.3333333333333333,\"#9c179e\"],[0.4444444444444444,\"#bd3786\"],[0.5555555555555556,\"#d8576b\"],[0.6666666666666666,\"#ed7953\"],[0.7777777777777778,\"#fb9f3a\"],[0.8888888888888888,\"#fdca26\"],[1.0,\"#f0f921\"]],\"sequentialminus\":[[0.0,\"#0d0887\"],[0.1111111111111111,\"#46039f\"],[0.2222222222222222,\"#7201a8\"],[0.3333333333333333,\"#9c179e\"],[0.4444444444444444,\"#bd3786\"],[0.5555555555555556,\"#d8576b\"],[0.6666666666666666,\"#ed7953\"],[0.7777777777777778,\"#fb9f3a\"],[0.8888888888888888,\"#fdca26\"],[1.0,\"#f0f921\"]]},\"colorway\":[\"#636efa\",\"#EF553B\",\"#00cc96\",\"#ab63fa\",\"#FFA15A\",\"#19d3f3\",\"#FF6692\",\"#B6E880\",\"#FF97FF\",\"#FECB52\"],\"font\":{\"color\":\"#2a3f5f\"},\"geo\":{\"bgcolor\":\"white\",\"lakecolor\":\"white\",\"landcolor\":\"#E5ECF6\",\"showlakes\":true,\"showland\":true,\"subunitcolor\":\"white\"},\"hoverlabel\":{\"align\":\"left\"},\"hovermode\":\"closest\",\"mapbox\":{\"style\":\"light\"},\"paper_bgcolor\":\"white\",\"plot_bgcolor\":\"#E5ECF6\",\"polar\":{\"angularaxis\":{\"gridcolor\":\"white\",\"linecolor\":\"white\",\"ticks\":\"\"},\"bgcolor\":\"#E5ECF6\",\"radialaxis\":{\"gridcolor\":\"white\",\"linecolor\":\"white\",\"ticks\":\"\"}},\"scene\":{\"xaxis\":{\"backgroundcolor\":\"#E5ECF6\",\"gridcolor\":\"white\",\"gridwidth\":2,\"linecolor\":\"white\",\"showbackground\":true,\"ticks\":\"\",\"zerolinecolor\":\"white\"},\"yaxis\":{\"backgroundcolor\":\"#E5ECF6\",\"gridcolor\":\"white\",\"gridwidth\":2,\"linecolor\":\"white\",\"showbackground\":true,\"ticks\":\"\",\"zerolinecolor\":\"white\"},\"zaxis\":{\"backgroundcolor\":\"#E5ECF6\",\"gridcolor\":\"white\",\"gridwidth\":2,\"linecolor\":\"white\",\"showbackground\":true,\"ticks\":\"\",\"zerolinecolor\":\"white\"}},\"shapedefaults\":{\"line\":{\"color\":\"#2a3f5f\"}},\"ternary\":{\"aaxis\":{\"gridcolor\":\"white\",\"linecolor\":\"white\",\"ticks\":\"\"},\"baxis\":{\"gridcolor\":\"white\",\"linecolor\":\"white\",\"ticks\":\"\"},\"bgcolor\":\"#E5ECF6\",\"caxis\":{\"gridcolor\":\"white\",\"linecolor\":\"white\",\"ticks\":\"\"}},\"title\":{\"x\":0.05},\"xaxis\":{\"automargin\":true,\"gridcolor\":\"white\",\"linecolor\":\"white\",\"ticks\":\"\",\"title\":{\"standoff\":15},\"zerolinecolor\":\"white\",\"zerolinewidth\":2},\"yaxis\":{\"automargin\":true,\"gridcolor\":\"white\",\"linecolor\":\"white\",\"ticks\":\"\",\"title\":{\"standoff\":15},\"zerolinecolor\":\"white\",\"zerolinewidth\":2}}},\"xaxis\":{\"anchor\":\"y\",\"domain\":[0.0,1.0],\"title\":{\"text\":\"club_name\"}},\"yaxis\":{\"anchor\":\"x\",\"domain\":[0.0,1.0],\"title\":{\"text\":\"age\"}},\"legend\":{\"tracegroupgap\":0},\"margin\":{\"t\":60},\"boxmode\":\"group\",\"autosize\":false,\"width\":1000,\"height\":500},                        {\"responsive\": true}                    ).then(function(){\n",
       "                            \n",
       "var gd = document.getElementById('bb51434b-2d83-467a-b05b-130c7104dae3');\n",
       "var x = new MutationObserver(function (mutations, observer) {{\n",
       "        var display = window.getComputedStyle(gd).display;\n",
       "        if (!display || display === 'none') {{\n",
       "            console.log([gd, 'removed!']);\n",
       "            Plotly.purge(gd);\n",
       "            observer.disconnect();\n",
       "        }}\n",
       "}});\n",
       "\n",
       "// Listen for the removal of the full notebook cells\n",
       "var notebookContainer = gd.closest('#notebook-container');\n",
       "if (notebookContainer) {{\n",
       "    x.observe(notebookContainer, {childList: true});\n",
       "}}\n",
       "\n",
       "// Listen for the clearing of the current output cell\n",
       "var outputEl = gd.closest('.output');\n",
       "if (outputEl) {{\n",
       "    x.observe(outputEl, {childList: true});\n",
       "}}\n",
       "\n",
       "                        })                };                });            </script>        </div>"
      ]
     },
     "metadata": {},
     "output_type": "display_data"
    }
   ],
   "source": [
    "fig = px.box(clubs,x='club_name',y='age',points='all')\n",
    "\n",
    "fig.update_layout(\n",
    "    autosize=False,\n",
    "    width=1000,\n",
    "    height=500)"
   ]
  },
  {
   "cell_type": "code",
   "execution_count": 157,
   "id": "feaf3cba",
   "metadata": {},
   "outputs": [
    {
     "data": {
      "image/png": "[encoded data removed]",
      "text/plain": [
       "<Figure size 1728x1080 with 1 Axes>"
      ]
     },
     "metadata": {
      "needs_background": "light"
     },
     "output_type": "display_data"
    }
   ],
   "source": [
    "plt.figure(figsize=(24,15))\n",
    "sns.boxenplot(x='club_name',y='age',data=clubs)\n",
    "plt.grid()"
   ]
  },
  {
   "cell_type": "code",
   "execution_count": null,
   "id": "ef29d15e",
   "metadata": {},
   "outputs": [],
   "source": []
  },
  {
   "cell_type": "markdown",
   "id": "d0ce03ef",
   "metadata": {},
   "source": [
    "### TOP 30 Players."
   ]
  },
  {
   "cell_type": "code",
   "execution_count": 166,
   "id": "fcae1fd9",
   "metadata": {},
   "outputs": [
    {
     "name": "stderr",
     "output_type": "stream",
     "text": [
      "C:\\Users\\Abhishek Rewale\\AppData\\Local\\Temp\\ipykernel_11540\\3283086159.py:2: SettingWithCopyWarning:\n",
      "\n",
      "\n",
      "A value is trying to be set on a copy of a slice from a DataFrame\n",
      "\n",
      "See the caveats in the documentation: https://pandas.pydata.org/pandas-docs/stable/user_guide/indexing.html#returning-a-view-versus-a-copy\n",
      "\n"
     ]
    },
    {
     "data": {
      "application/vnd.plotly.v1+json": {
       "config": {
        "plotlyServerURL": "https://plot.ly"
       },
       "data": [
        {
         "customdata": [
          [
           "L. Messi",
           "FC Barcelona"
          ],
          [
           "Cristiano Ronaldo",
           "Juventus"
          ],
          [
           "J. Oblak",
           "Atlético Madrid"
          ],
          [
           "R. Lewandowski",
           "FC Bayern München"
          ],
          [
           "Neymar Jr",
           "Paris Saint-Germain"
          ],
          [
           "K. De Bruyne",
           "Manchester City"
          ],
          [
           "Alisson",
           "Liverpool"
          ],
          [
           "S. Mané",
           "Liverpool"
          ],
          [
           "M. Salah",
           "Liverpool"
          ],
          [
           "V. van Dijk",
           "Liverpool"
          ],
          [
           "M. ter Stegen",
           "FC Barcelona"
          ],
          [
           "K. Mbappé",
           "Paris Saint-Germain"
          ],
          [
           "T. Courtois",
           "Real Madrid"
          ],
          [
           "S. Agüero",
           "Manchester City"
          ],
          [
           "Sergio Ramos",
           "Real Madrid"
          ],
          [
           "K. Benzema",
           "Real Madrid"
          ],
          [
           "M. Neuer",
           "FC Bayern München"
          ],
          [
           "Casemiro",
           "Real Madrid"
          ],
          [
           "S. Handanovič",
           "Inter"
          ],
          [
           "N. Kanté",
           "Chelsea"
          ],
          [
           "K. Koulibaly",
           "Napoli"
          ],
          [
           "E. Hazard",
           "Real Madrid"
          ],
          [
           "T. Kroos",
           "Real Madrid"
          ],
          [
           "Ederson",
           "Manchester City"
          ],
          [
           "P. Dybala",
           "Juventus"
          ],
          [
           "H. Kane",
           "Tottenham Hotspur"
          ],
          [
           "J. Kimmich",
           "FC Bayern München"
          ],
          [
           "R. Sterling",
           "Manchester City"
          ],
          [
           "L. Modrić",
           "Real Madrid"
          ],
          [
           "Roberto Firmino",
           "Liverpool"
          ]
         ],
         "hovertemplate": "age=%{marker.color}<br>overall=%{y}<br>short_name=%{customdata[0]}<br>club_name=%{customdata[1]}<extra></extra>",
         "legendgroup": "",
         "marker": {
          "color": [
           33,
           35,
           27,
           31,
           28,
           29,
           27,
           28,
           28,
           28,
           28,
           21,
           28,
           32,
           34,
           32,
           34,
           28,
           35,
           29,
           29,
           29,
           30,
           26,
           26,
           26,
           25,
           25,
           34,
           28
          ],
          "coloraxis": "coloraxis",
          "size": 30,
          "symbol": "circle"
         },
         "mode": "markers",
         "name": "",
         "orientation": "v",
         "showlegend": false,
         "type": "scatter",
         "x": [
          33,
          35,
          27,
          31,
          28,
          29,
          27,
          28,
          28,
          28,
          28,
          21,
          28,
          32,
          34,
          32,
          34,
          28,
          35,
          29,
          29,
          29,
          30,
          26,
          26,
          26,
          25,
          25,
          34,
          28
         ],
         "xaxis": "x",
         "y": [
          93,
          92,
          91,
          91,
          91,
          91,
          90,
          90,
          90,
          90,
          90,
          90,
          89,
          89,
          89,
          89,
          89,
          89,
          88,
          88,
          88,
          88,
          88,
          88,
          88,
          88,
          88,
          88,
          87,
          87
         ],
         "yaxis": "y"
        }
       ],
       "layout": {
        "coloraxis": {
         "colorbar": {
          "title": {
           "text": "age"
          }
         },
         "colorscale": [
          [
           0,
           "#0d0887"
          ],
          [
           0.1111111111111111,
           "#46039f"
          ],
          [
           0.2222222222222222,
           "#7201a8"
          ],
          [
           0.3333333333333333,
           "#9c179e"
          ],
          [
           0.4444444444444444,
           "#bd3786"
          ],
          [
           0.5555555555555556,
           "#d8576b"
          ],
          [
           0.6666666666666666,
           "#ed7953"
          ],
          [
           0.7777777777777778,
           "#fb9f3a"
          ],
          [
           0.8888888888888888,
           "#fdca26"
          ],
          [
           1,
           "#f0f921"
          ]
         ]
        },
        "legend": {
         "tracegroupgap": 0
        },
        "margin": {
         "t": 60
        },
        "template": {
         "data": {
          "bar": [
           {
            "error_x": {
             "color": "#2a3f5f"
            },
            "error_y": {
             "color": "#2a3f5f"
            },
            "marker": {
             "line": {
              "color": "#E5ECF6",
              "width": 0.5
             },
             "pattern": {
              "fillmode": "overlay",
              "size": 10,
              "solidity": 0.2
             }
            },
            "type": "bar"
           }
          ],
          "barpolar": [
           {
            "marker": {
             "line": {
              "color": "#E5ECF6",
              "width": 0.5
             },
             "pattern": {
              "fillmode": "overlay",
              "size": 10,
              "solidity": 0.2
             }
            },
            "type": "barpolar"
           }
          ],
          "carpet": [
           {
            "aaxis": {
             "endlinecolor": "#2a3f5f",
             "gridcolor": "white",
             "linecolor": "white",
             "minorgridcolor": "white",
             "startlinecolor": "#2a3f5f"
            },
            "baxis": {
             "endlinecolor": "#2a3f5f",
             "gridcolor": "white",
             "linecolor": "white",
             "minorgridcolor": "white",
             "startlinecolor": "#2a3f5f"
            },
            "type": "carpet"
           }
          ],
          "choropleth": [
           {
            "colorbar": {
             "outlinewidth": 0,
             "ticks": ""
            },
            "type": "choropleth"
           }
          ],
          "contour": [
           {
            "colorbar": {
             "outlinewidth": 0,
             "ticks": ""
            },
            "colorscale": [
             [
              0,
              "#0d0887"
             ],
             [
              0.1111111111111111,
              "#46039f"
             ],
             [
              0.2222222222222222,
              "#7201a8"
             ],
             [
              0.3333333333333333,
              "#9c179e"
             ],
             [
              0.4444444444444444,
              "#bd3786"
             ],
             [
              0.5555555555555556,
              "#d8576b"
             ],
             [
              0.6666666666666666,
              "#ed7953"
             ],
             [
              0.7777777777777778,
              "#fb9f3a"
             ],
             [
              0.8888888888888888,
              "#fdca26"
             ],
             [
              1,
              "#f0f921"
             ]
            ],
            "type": "contour"
           }
          ],
          "contourcarpet": [
           {
            "colorbar": {
             "outlinewidth": 0,
             "ticks": ""
            },
            "type": "contourcarpet"
           }
          ],
          "heatmap": [
           {
            "colorbar": {
             "outlinewidth": 0,
             "ticks": ""
            },
            "colorscale": [
             [
              0,
              "#0d0887"
             ],
             [
              0.1111111111111111,
              "#46039f"
             ],
             [
              0.2222222222222222,
              "#7201a8"
             ],
             [
              0.3333333333333333,
              "#9c179e"
             ],
             [
              0.4444444444444444,
              "#bd3786"
             ],
             [
              0.5555555555555556,
              "#d8576b"
             ],
             [
              0.6666666666666666,
              "#ed7953"
             ],
             [
              0.7777777777777778,
              "#fb9f3a"
             ],
             [
              0.8888888888888888,
              "#fdca26"
             ],
             [
              1,
              "#f0f921"
             ]
            ],
            "type": "heatmap"
           }
          ],
          "heatmapgl": [
           {
            "colorbar": {
             "outlinewidth": 0,
             "ticks": ""
            },
            "colorscale": [
             [
              0,
              "#0d0887"
             ],
             [
              0.1111111111111111,
              "#46039f"
             ],
             [
              0.2222222222222222,
              "#7201a8"
             ],
             [
              0.3333333333333333,
              "#9c179e"
             ],
             [
              0.4444444444444444,
              "#bd3786"
             ],
             [
              0.5555555555555556,
              "#d8576b"
             ],
             [
              0.6666666666666666,
              "#ed7953"
             ],
             [
              0.7777777777777778,
              "#fb9f3a"
             ],
             [
              0.8888888888888888,
              "#fdca26"
             ],
             [
              1,
              "#f0f921"
             ]
            ],
            "type": "heatmapgl"
           }
          ],
          "histogram": [
           {
            "marker": {
             "pattern": {
              "fillmode": "overlay",
              "size": 10,
              "solidity": 0.2
             }
            },
            "type": "histogram"
           }
          ],
          "histogram2d": [
           {
            "colorbar": {
             "outlinewidth": 0,
             "ticks": ""
            },
            "colorscale": [
             [
              0,
              "#0d0887"
             ],
             [
              0.1111111111111111,
              "#46039f"
             ],
             [
              0.2222222222222222,
              "#7201a8"
             ],
             [
              0.3333333333333333,
              "#9c179e"
             ],
             [
              0.4444444444444444,
              "#bd3786"
             ],
             [
              0.5555555555555556,
              "#d8576b"
             ],
             [
              0.6666666666666666,
              "#ed7953"
             ],
             [
              0.7777777777777778,
              "#fb9f3a"
             ],
             [
              0.8888888888888888,
              "#fdca26"
             ],
             [
              1,
              "#f0f921"
             ]
            ],
            "type": "histogram2d"
           }
          ],
          "histogram2dcontour": [
           {
            "colorbar": {
             "outlinewidth": 0,
             "ticks": ""
            },
            "colorscale": [
             [
              0,
              "#0d0887"
             ],
             [
              0.1111111111111111,
              "#46039f"
             ],
             [
              0.2222222222222222,
              "#7201a8"
             ],
             [
              0.3333333333333333,
              "#9c179e"
             ],
             [
              0.4444444444444444,
              "#bd3786"
             ],
             [
              0.5555555555555556,
              "#d8576b"
             ],
             [
              0.6666666666666666,
              "#ed7953"
             ],
             [
              0.7777777777777778,
              "#fb9f3a"
             ],
             [
              0.8888888888888888,
              "#fdca26"
             ],
             [
              1,
              "#f0f921"
             ]
            ],
            "type": "histogram2dcontour"
           }
          ],
          "mesh3d": [
           {
            "colorbar": {
             "outlinewidth": 0,
             "ticks": ""
            },
            "type": "mesh3d"
           }
          ],
          "parcoords": [
           {
            "line": {
             "colorbar": {
              "outlinewidth": 0,
              "ticks": ""
             }
            },
            "type": "parcoords"
           }
          ],
          "pie": [
           {
            "automargin": true,
            "type": "pie"
           }
          ],
          "scatter": [
           {
            "marker": {
             "colorbar": {
              "outlinewidth": 0,
              "ticks": ""
             }
            },
            "type": "scatter"
           }
          ],
          "scatter3d": [
           {
            "line": {
             "colorbar": {
              "outlinewidth": 0,
              "ticks": ""
             }
            },
            "marker": {
             "colorbar": {
              "outlinewidth": 0,
              "ticks": ""
             }
            },
            "type": "scatter3d"
           }
          ],
          "scattercarpet": [
           {
            "marker": {
             "colorbar": {
              "outlinewidth": 0,
              "ticks": ""
             }
            },
            "type": "scattercarpet"
           }
          ],
          "scattergeo": [
           {
            "marker": {
             "colorbar": {
              "outlinewidth": 0,
              "ticks": ""
             }
            },
            "type": "scattergeo"
           }
          ],
          "scattergl": [
           {
            "marker": {
             "colorbar": {
              "outlinewidth": 0,
              "ticks": ""
             }
            },
            "type": "scattergl"
           }
          ],
          "scattermapbox": [
           {
            "marker": {
             "colorbar": {
              "outlinewidth": 0,
              "ticks": ""
             }
            },
            "type": "scattermapbox"
           }
          ],
          "scatterpolar": [
           {
            "marker": {
             "colorbar": {
              "outlinewidth": 0,
              "ticks": ""
             }
            },
            "type": "scatterpolar"
           }
          ],
          "scatterpolargl": [
           {
            "marker": {
             "colorbar": {
              "outlinewidth": 0,
              "ticks": ""
             }
            },
            "type": "scatterpolargl"
           }
          ],
          "scatterternary": [
           {
            "marker": {
             "colorbar": {
              "outlinewidth": 0,
              "ticks": ""
             }
            },
            "type": "scatterternary"
           }
          ],
          "surface": [
           {
            "colorbar": {
             "outlinewidth": 0,
             "ticks": ""
            },
            "colorscale": [
             [
              0,
              "#0d0887"
             ],
             [
              0.1111111111111111,
              "#46039f"
             ],
             [
              0.2222222222222222,
              "#7201a8"
             ],
             [
              0.3333333333333333,
              "#9c179e"
             ],
             [
              0.4444444444444444,
              "#bd3786"
             ],
             [
              0.5555555555555556,
              "#d8576b"
             ],
             [
              0.6666666666666666,
              "#ed7953"
             ],
             [
              0.7777777777777778,
              "#fb9f3a"
             ],
             [
              0.8888888888888888,
              "#fdca26"
             ],
             [
              1,
              "#f0f921"
             ]
            ],
            "type": "surface"
           }
          ],
          "table": [
           {
            "cells": {
             "fill": {
              "color": "#EBF0F8"
             },
             "line": {
              "color": "white"
             }
            },
            "header": {
             "fill": {
              "color": "#C8D4E3"
             },
             "line": {
              "color": "white"
             }
            },
            "type": "table"
           }
          ]
         },
         "layout": {
          "annotationdefaults": {
           "arrowcolor": "#2a3f5f",
           "arrowhead": 0,
           "arrowwidth": 1
          },
          "autotypenumbers": "strict",
          "coloraxis": {
           "colorbar": {
            "outlinewidth": 0,
            "ticks": ""
           }
          },
          "colorscale": {
           "diverging": [
            [
             0,
             "#8e0152"
            ],
            [
             0.1,
             "#c51b7d"
            ],
            [
             0.2,
             "#de77ae"
            ],
            [
             0.3,
             "#f1b6da"
            ],
            [
             0.4,
             "#fde0ef"
            ],
            [
             0.5,
             "#f7f7f7"
            ],
            [
             0.6,
             "#e6f5d0"
            ],
            [
             0.7,
             "#b8e186"
            ],
            [
             0.8,
             "#7fbc41"
            ],
            [
             0.9,
             "#4d9221"
            ],
            [
             1,
             "#276419"
            ]
           ],
           "sequential": [
            [
             0,
             "#0d0887"
            ],
            [
             0.1111111111111111,
             "#46039f"
            ],
            [
             0.2222222222222222,
             "#7201a8"
            ],
            [
             0.3333333333333333,
             "#9c179e"
            ],
            [
             0.4444444444444444,
             "#bd3786"
            ],
            [
             0.5555555555555556,
             "#d8576b"
            ],
            [
             0.6666666666666666,
             "#ed7953"
            ],
            [
             0.7777777777777778,
             "#fb9f3a"
            ],
            [
             0.8888888888888888,
             "#fdca26"
            ],
            [
             1,
             "#f0f921"
            ]
           ],
           "sequentialminus": [
            [
             0,
             "#0d0887"
            ],
            [
             0.1111111111111111,
             "#46039f"
            ],
            [
             0.2222222222222222,
             "#7201a8"
            ],
            [
             0.3333333333333333,
             "#9c179e"
            ],
            [
             0.4444444444444444,
             "#bd3786"
            ],
            [
             0.5555555555555556,
             "#d8576b"
            ],
            [
             0.6666666666666666,
             "#ed7953"
            ],
            [
             0.7777777777777778,
             "#fb9f3a"
            ],
            [
             0.8888888888888888,
             "#fdca26"
            ],
            [
             1,
             "#f0f921"
            ]
           ]
          },
          "colorway": [
           "#636efa",
           "#EF553B",
           "#00cc96",
           "#ab63fa",
           "#FFA15A",
           "#19d3f3",
           "#FF6692",
           "#B6E880",
           "#FF97FF",
           "#FECB52"
          ],
          "font": {
           "color": "#2a3f5f"
          },
          "geo": {
           "bgcolor": "white",
           "lakecolor": "white",
           "landcolor": "#E5ECF6",
           "showlakes": true,
           "showland": true,
           "subunitcolor": "white"
          },
          "hoverlabel": {
           "align": "left"
          },
          "hovermode": "closest",
          "mapbox": {
           "style": "light"
          },
          "paper_bgcolor": "white",
          "plot_bgcolor": "#E5ECF6",
          "polar": {
           "angularaxis": {
            "gridcolor": "white",
            "linecolor": "white",
            "ticks": ""
           },
           "bgcolor": "#E5ECF6",
           "radialaxis": {
            "gridcolor": "white",
            "linecolor": "white",
            "ticks": ""
           }
          },
          "scene": {
           "xaxis": {
            "backgroundcolor": "#E5ECF6",
            "gridcolor": "white",
            "gridwidth": 2,
            "linecolor": "white",
            "showbackground": true,
            "ticks": "",
            "zerolinecolor": "white"
           },
           "yaxis": {
            "backgroundcolor": "#E5ECF6",
            "gridcolor": "white",
            "gridwidth": 2,
            "linecolor": "white",
            "showbackground": true,
            "ticks": "",
            "zerolinecolor": "white"
           },
           "zaxis": {
            "backgroundcolor": "#E5ECF6",
            "gridcolor": "white",
            "gridwidth": 2,
            "linecolor": "white",
            "showbackground": true,
            "ticks": "",
            "zerolinecolor": "white"
           }
          },
          "shapedefaults": {
           "line": {
            "color": "#2a3f5f"
           }
          },
          "ternary": {
           "aaxis": {
            "gridcolor": "white",
            "linecolor": "white",
            "ticks": ""
           },
           "baxis": {
            "gridcolor": "white",
            "linecolor": "white",
            "ticks": ""
           },
           "bgcolor": "#E5ECF6",
           "caxis": {
            "gridcolor": "white",
            "linecolor": "white",
            "ticks": ""
           }
          },
          "title": {
           "x": 0.05
          },
          "xaxis": {
           "automargin": true,
           "gridcolor": "white",
           "linecolor": "white",
           "ticks": "",
           "title": {
            "standoff": 15
           },
           "zerolinecolor": "white",
           "zerolinewidth": 2
          },
          "yaxis": {
           "automargin": true,
           "gridcolor": "white",
           "linecolor": "white",
           "ticks": "",
           "title": {
            "standoff": 15
           },
           "zerolinecolor": "white",
           "zerolinewidth": 2
          }
         }
        },
        "xaxis": {
         "anchor": "y",
         "domain": [
          0,
          1
         ],
         "title": {
          "text": "age"
         }
        },
        "yaxis": {
         "anchor": "x",
         "domain": [
          0,
          1
         ],
         "title": {
          "text": "overall"
         }
        }
       }
      },
      "text/html": [
       "<div>                            <div id=\"1d305078-03d1-44c5-9ea7-b21189a8fd2c\" class=\"plotly-graph-div\" style=\"height:525px; width:100%;\"></div>            <script type=\"text/javascript\">                require([\"plotly\"], function(Plotly) {                    window.PLOTLYENV=window.PLOTLYENV || {};                                    if (document.getElementById(\"1d305078-03d1-44c5-9ea7-b21189a8fd2c\")) {                    Plotly.newPlot(                        \"1d305078-03d1-44c5-9ea7-b21189a8fd2c\",                        [{\"customdata\":[[\"L. Messi\",\"FC Barcelona\"],[\"Cristiano Ronaldo\",\"Juventus\"],[\"J. Oblak\",\"Atl\\u00e9tico Madrid\"],[\"R. Lewandowski\",\"FC Bayern M\\u00fcnchen\"],[\"Neymar Jr\",\"Paris Saint-Germain\"],[\"K. De Bruyne\",\"Manchester City\"],[\"Alisson\",\"Liverpool\"],[\"S. Man\\u00e9\",\"Liverpool\"],[\"M. Salah\",\"Liverpool\"],[\"V. van Dijk\",\"Liverpool\"],[\"M. ter Stegen\",\"FC Barcelona\"],[\"K. Mbapp\\u00e9\",\"Paris Saint-Germain\"],[\"T. Courtois\",\"Real Madrid\"],[\"S. Ag\\u00fcero\",\"Manchester City\"],[\"Sergio Ramos\",\"Real Madrid\"],[\"K. Benzema\",\"Real Madrid\"],[\"M. Neuer\",\"FC Bayern M\\u00fcnchen\"],[\"Casemiro\",\"Real Madrid\"],[\"S. Handanovi\\u010d\",\"Inter\"],[\"N. Kant\\u00e9\",\"Chelsea\"],[\"K. Koulibaly\",\"Napoli\"],[\"E. Hazard\",\"Real Madrid\"],[\"T. Kroos\",\"Real Madrid\"],[\"Ederson\",\"Manchester City\"],[\"P. Dybala\",\"Juventus\"],[\"H. Kane\",\"Tottenham Hotspur\"],[\"J. Kimmich\",\"FC Bayern M\\u00fcnchen\"],[\"R. Sterling\",\"Manchester City\"],[\"L. Modri\\u0107\",\"Real Madrid\"],[\"Roberto Firmino\",\"Liverpool\"]],\"hovertemplate\":\"age=%{marker.color}<br>overall=%{y}<br>short_name=%{customdata[0]}<br>club_name=%{customdata[1]}<extra></extra>\",\"legendgroup\":\"\",\"marker\":{\"color\":[33,35,27,31,28,29,27,28,28,28,28,21,28,32,34,32,34,28,35,29,29,29,30,26,26,26,25,25,34,28],\"coloraxis\":\"coloraxis\",\"symbol\":\"circle\",\"size\":30},\"mode\":\"markers\",\"name\":\"\",\"orientation\":\"v\",\"showlegend\":false,\"x\":[33,35,27,31,28,29,27,28,28,28,28,21,28,32,34,32,34,28,35,29,29,29,30,26,26,26,25,25,34,28],\"xaxis\":\"x\",\"y\":[93,92,91,91,91,91,90,90,90,90,90,90,89,89,89,89,89,89,88,88,88,88,88,88,88,88,88,88,87,87],\"yaxis\":\"y\",\"type\":\"scatter\"}],                        {\"template\":{\"data\":{\"bar\":[{\"error_x\":{\"color\":\"#2a3f5f\"},\"error_y\":{\"color\":\"#2a3f5f\"},\"marker\":{\"line\":{\"color\":\"#E5ECF6\",\"width\":0.5},\"pattern\":{\"fillmode\":\"overlay\",\"size\":10,\"solidity\":0.2}},\"type\":\"bar\"}],\"barpolar\":[{\"marker\":{\"line\":{\"color\":\"#E5ECF6\",\"width\":0.5},\"pattern\":{\"fillmode\":\"overlay\",\"size\":10,\"solidity\":0.2}},\"type\":\"barpolar\"}],\"carpet\":[{\"aaxis\":{\"endlinecolor\":\"#2a3f5f\",\"gridcolor\":\"white\",\"linecolor\":\"white\",\"minorgridcolor\":\"white\",\"startlinecolor\":\"#2a3f5f\"},\"baxis\":{\"endlinecolor\":\"#2a3f5f\",\"gridcolor\":\"white\",\"linecolor\":\"white\",\"minorgridcolor\":\"white\",\"startlinecolor\":\"#2a3f5f\"},\"type\":\"carpet\"}],\"choropleth\":[{\"colorbar\":{\"outlinewidth\":0,\"ticks\":\"\"},\"type\":\"choropleth\"}],\"contour\":[{\"colorbar\":{\"outlinewidth\":0,\"ticks\":\"\"},\"colorscale\":[[0.0,\"#0d0887\"],[0.1111111111111111,\"#46039f\"],[0.2222222222222222,\"#7201a8\"],[0.3333333333333333,\"#9c179e\"],[0.4444444444444444,\"#bd3786\"],[0.5555555555555556,\"#d8576b\"],[0.6666666666666666,\"#ed7953\"],[0.7777777777777778,\"#fb9f3a\"],[0.8888888888888888,\"#fdca26\"],[1.0,\"#f0f921\"]],\"type\":\"contour\"}],\"contourcarpet\":[{\"colorbar\":{\"outlinewidth\":0,\"ticks\":\"\"},\"type\":\"contourcarpet\"}],\"heatmap\":[{\"colorbar\":{\"outlinewidth\":0,\"ticks\":\"\"},\"colorscale\":[[0.0,\"#0d0887\"],[0.1111111111111111,\"#46039f\"],[0.2222222222222222,\"#7201a8\"],[0.3333333333333333,\"#9c179e\"],[0.4444444444444444,\"#bd3786\"],[0.5555555555555556,\"#d8576b\"],[0.6666666666666666,\"#ed7953\"],[0.7777777777777778,\"#fb9f3a\"],[0.8888888888888888,\"#fdca26\"],[1.0,\"#f0f921\"]],\"type\":\"heatmap\"}],\"heatmapgl\":[{\"colorbar\":{\"outlinewidth\":0,\"ticks\":\"\"},\"colorscale\":[[0.0,\"#0d0887\"],[0.1111111111111111,\"#46039f\"],[0.2222222222222222,\"#7201a8\"],[0.3333333333333333,\"#9c179e\"],[0.4444444444444444,\"#bd3786\"],[0.5555555555555556,\"#d8576b\"],[0.6666666666666666,\"#ed7953\"],[0.7777777777777778,\"#fb9f3a\"],[0.8888888888888888,\"#fdca26\"],[1.0,\"#f0f921\"]],\"type\":\"heatmapgl\"}],\"histogram\":[{\"marker\":{\"pattern\":{\"fillmode\":\"overlay\",\"size\":10,\"solidity\":0.2}},\"type\":\"histogram\"}],\"histogram2d\":[{\"colorbar\":{\"outlinewidth\":0,\"ticks\":\"\"},\"colorscale\":[[0.0,\"#0d0887\"],[0.1111111111111111,\"#46039f\"],[0.2222222222222222,\"#7201a8\"],[0.3333333333333333,\"#9c179e\"],[0.4444444444444444,\"#bd3786\"],[0.5555555555555556,\"#d8576b\"],[0.6666666666666666,\"#ed7953\"],[0.7777777777777778,\"#fb9f3a\"],[0.8888888888888888,\"#fdca26\"],[1.0,\"#f0f921\"]],\"type\":\"histogram2d\"}],\"histogram2dcontour\":[{\"colorbar\":{\"outlinewidth\":0,\"ticks\":\"\"},\"colorscale\":[[0.0,\"#0d0887\"],[0.1111111111111111,\"#46039f\"],[0.2222222222222222,\"#7201a8\"],[0.3333333333333333,\"#9c179e\"],[0.4444444444444444,\"#bd3786\"],[0.5555555555555556,\"#d8576b\"],[0.6666666666666666,\"#ed7953\"],[0.7777777777777778,\"#fb9f3a\"],[0.8888888888888888,\"#fdca26\"],[1.0,\"#f0f921\"]],\"type\":\"histogram2dcontour\"}],\"mesh3d\":[{\"colorbar\":{\"outlinewidth\":0,\"ticks\":\"\"},\"type\":\"mesh3d\"}],\"parcoords\":[{\"line\":{\"colorbar\":{\"outlinewidth\":0,\"ticks\":\"\"}},\"type\":\"parcoords\"}],\"pie\":[{\"automargin\":true,\"type\":\"pie\"}],\"scatter\":[{\"marker\":{\"colorbar\":{\"outlinewidth\":0,\"ticks\":\"\"}},\"type\":\"scatter\"}],\"scatter3d\":[{\"line\":{\"colorbar\":{\"outlinewidth\":0,\"ticks\":\"\"}},\"marker\":{\"colorbar\":{\"outlinewidth\":0,\"ticks\":\"\"}},\"type\":\"scatter3d\"}],\"scattercarpet\":[{\"marker\":{\"colorbar\":{\"outlinewidth\":0,\"ticks\":\"\"}},\"type\":\"scattercarpet\"}],\"scattergeo\":[{\"marker\":{\"colorbar\":{\"outlinewidth\":0,\"ticks\":\"\"}},\"type\":\"scattergeo\"}],\"scattergl\":[{\"marker\":{\"colorbar\":{\"outlinewidth\":0,\"ticks\":\"\"}},\"type\":\"scattergl\"}],\"scattermapbox\":[{\"marker\":{\"colorbar\":{\"outlinewidth\":0,\"ticks\":\"\"}},\"type\":\"scattermapbox\"}],\"scatterpolar\":[{\"marker\":{\"colorbar\":{\"outlinewidth\":0,\"ticks\":\"\"}},\"type\":\"scatterpolar\"}],\"scatterpolargl\":[{\"marker\":{\"colorbar\":{\"outlinewidth\":0,\"ticks\":\"\"}},\"type\":\"scatterpolargl\"}],\"scatterternary\":[{\"marker\":{\"colorbar\":{\"outlinewidth\":0,\"ticks\":\"\"}},\"type\":\"scatterternary\"}],\"surface\":[{\"colorbar\":{\"outlinewidth\":0,\"ticks\":\"\"},\"colorscale\":[[0.0,\"#0d0887\"],[0.1111111111111111,\"#46039f\"],[0.2222222222222222,\"#7201a8\"],[0.3333333333333333,\"#9c179e\"],[0.4444444444444444,\"#bd3786\"],[0.5555555555555556,\"#d8576b\"],[0.6666666666666666,\"#ed7953\"],[0.7777777777777778,\"#fb9f3a\"],[0.8888888888888888,\"#fdca26\"],[1.0,\"#f0f921\"]],\"type\":\"surface\"}],\"table\":[{\"cells\":{\"fill\":{\"color\":\"#EBF0F8\"},\"line\":{\"color\":\"white\"}},\"header\":{\"fill\":{\"color\":\"#C8D4E3\"},\"line\":{\"color\":\"white\"}},\"type\":\"table\"}]},\"layout\":{\"annotationdefaults\":{\"arrowcolor\":\"#2a3f5f\",\"arrowhead\":0,\"arrowwidth\":1},\"autotypenumbers\":\"strict\",\"coloraxis\":{\"colorbar\":{\"outlinewidth\":0,\"ticks\":\"\"}},\"colorscale\":{\"diverging\":[[0,\"#8e0152\"],[0.1,\"#c51b7d\"],[0.2,\"#de77ae\"],[0.3,\"#f1b6da\"],[0.4,\"#fde0ef\"],[0.5,\"#f7f7f7\"],[0.6,\"#e6f5d0\"],[0.7,\"#b8e186\"],[0.8,\"#7fbc41\"],[0.9,\"#4d9221\"],[1,\"#276419\"]],\"sequential\":[[0.0,\"#0d0887\"],[0.1111111111111111,\"#46039f\"],[0.2222222222222222,\"#7201a8\"],[0.3333333333333333,\"#9c179e\"],[0.4444444444444444,\"#bd3786\"],[0.5555555555555556,\"#d8576b\"],[0.6666666666666666,\"#ed7953\"],[0.7777777777777778,\"#fb9f3a\"],[0.8888888888888888,\"#fdca26\"],[1.0,\"#f0f921\"]],\"sequentialminus\":[[0.0,\"#0d0887\"],[0.1111111111111111,\"#46039f\"],[0.2222222222222222,\"#7201a8\"],[0.3333333333333333,\"#9c179e\"],[0.4444444444444444,\"#bd3786\"],[0.5555555555555556,\"#d8576b\"],[0.6666666666666666,\"#ed7953\"],[0.7777777777777778,\"#fb9f3a\"],[0.8888888888888888,\"#fdca26\"],[1.0,\"#f0f921\"]]},\"colorway\":[\"#636efa\",\"#EF553B\",\"#00cc96\",\"#ab63fa\",\"#FFA15A\",\"#19d3f3\",\"#FF6692\",\"#B6E880\",\"#FF97FF\",\"#FECB52\"],\"font\":{\"color\":\"#2a3f5f\"},\"geo\":{\"bgcolor\":\"white\",\"lakecolor\":\"white\",\"landcolor\":\"#E5ECF6\",\"showlakes\":true,\"showland\":true,\"subunitcolor\":\"white\"},\"hoverlabel\":{\"align\":\"left\"},\"hovermode\":\"closest\",\"mapbox\":{\"style\":\"light\"},\"paper_bgcolor\":\"white\",\"plot_bgcolor\":\"#E5ECF6\",\"polar\":{\"angularaxis\":{\"gridcolor\":\"white\",\"linecolor\":\"white\",\"ticks\":\"\"},\"bgcolor\":\"#E5ECF6\",\"radialaxis\":{\"gridcolor\":\"white\",\"linecolor\":\"white\",\"ticks\":\"\"}},\"scene\":{\"xaxis\":{\"backgroundcolor\":\"#E5ECF6\",\"gridcolor\":\"white\",\"gridwidth\":2,\"linecolor\":\"white\",\"showbackground\":true,\"ticks\":\"\",\"zerolinecolor\":\"white\"},\"yaxis\":{\"backgroundcolor\":\"#E5ECF6\",\"gridcolor\":\"white\",\"gridwidth\":2,\"linecolor\":\"white\",\"showbackground\":true,\"ticks\":\"\",\"zerolinecolor\":\"white\"},\"zaxis\":{\"backgroundcolor\":\"#E5ECF6\",\"gridcolor\":\"white\",\"gridwidth\":2,\"linecolor\":\"white\",\"showbackground\":true,\"ticks\":\"\",\"zerolinecolor\":\"white\"}},\"shapedefaults\":{\"line\":{\"color\":\"#2a3f5f\"}},\"ternary\":{\"aaxis\":{\"gridcolor\":\"white\",\"linecolor\":\"white\",\"ticks\":\"\"},\"baxis\":{\"gridcolor\":\"white\",\"linecolor\":\"white\",\"ticks\":\"\"},\"bgcolor\":\"#E5ECF6\",\"caxis\":{\"gridcolor\":\"white\",\"linecolor\":\"white\",\"ticks\":\"\"}},\"title\":{\"x\":0.05},\"xaxis\":{\"automargin\":true,\"gridcolor\":\"white\",\"linecolor\":\"white\",\"ticks\":\"\",\"title\":{\"standoff\":15},\"zerolinecolor\":\"white\",\"zerolinewidth\":2},\"yaxis\":{\"automargin\":true,\"gridcolor\":\"white\",\"linecolor\":\"white\",\"ticks\":\"\",\"title\":{\"standoff\":15},\"zerolinecolor\":\"white\",\"zerolinewidth\":2}}},\"xaxis\":{\"anchor\":\"y\",\"domain\":[0.0,1.0],\"title\":{\"text\":\"age\"}},\"yaxis\":{\"anchor\":\"x\",\"domain\":[0.0,1.0],\"title\":{\"text\":\"overall\"}},\"coloraxis\":{\"colorbar\":{\"title\":{\"text\":\"age\"}},\"colorscale\":[[0.0,\"#0d0887\"],[0.1111111111111111,\"#46039f\"],[0.2222222222222222,\"#7201a8\"],[0.3333333333333333,\"#9c179e\"],[0.4444444444444444,\"#bd3786\"],[0.5555555555555556,\"#d8576b\"],[0.6666666666666666,\"#ed7953\"],[0.7777777777777778,\"#fb9f3a\"],[0.8888888888888888,\"#fdca26\"],[1.0,\"#f0f921\"]]},\"legend\":{\"tracegroupgap\":0},\"margin\":{\"t\":60}},                        {\"responsive\": true}                    ).then(function(){\n",
       "                            \n",
       "var gd = document.getElementById('1d305078-03d1-44c5-9ea7-b21189a8fd2c');\n",
       "var x = new MutationObserver(function (mutations, observer) {{\n",
       "        var display = window.getComputedStyle(gd).display;\n",
       "        if (!display || display === 'none') {{\n",
       "            console.log([gd, 'removed!']);\n",
       "            Plotly.purge(gd);\n",
       "            observer.disconnect();\n",
       "        }}\n",
       "}});\n",
       "\n",
       "// Listen for the removal of the full notebook cells\n",
       "var notebookContainer = gd.closest('#notebook-container');\n",
       "if (notebookContainer) {{\n",
       "    x.observe(notebookContainer, {childList: true});\n",
       "}}\n",
       "\n",
       "// Listen for the clearing of the current output cell\n",
       "var outputEl = gd.closest('.output');\n",
       "if (outputEl) {{\n",
       "    x.observe(outputEl, {childList: true});\n",
       "}}\n",
       "\n",
       "                        })                };                });            </script>        </div>"
      ]
     },
     "metadata": {},
     "output_type": "display_data"
    }
   ],
   "source": [
    "top_player = data[['short_name','overall','age','club_name']]\n",
    "top_player.sort_values(by='overall',ascending=False,inplace=True)\n",
    "top_30_players = top_player[:30]\n",
    "\n",
    "fig = px.scatter(top_30_players,x='age',y=\"overall\",color=\"age\",hover_data=['short_name','club_name'])\n",
    "fig.update_traces(marker_size=30)\n",
    "fig.show()"
   ]
  },
  {
   "cell_type": "code",
   "execution_count": null,
   "id": "016708c5",
   "metadata": {},
   "outputs": [],
   "source": []
  }
 ],
 "metadata": {
  "kernelspec": {
   "display_name": "Python 3 (ipykernel)",
   "language": "python",
   "name": "python3"
  },
  "language_info": {
   "codemirror_mode": {
    "name": "ipython",
    "version": 3
   },
   "file_extension": ".py",
   "mimetype": "text/x-python",
   "name": "python",
   "nbconvert_exporter": "python",
   "pygments_lexer": "ipython3",
   "version": "3.10.2"
  }
 },
 "nbformat": 4,
 "nbformat_minor": 5
}
